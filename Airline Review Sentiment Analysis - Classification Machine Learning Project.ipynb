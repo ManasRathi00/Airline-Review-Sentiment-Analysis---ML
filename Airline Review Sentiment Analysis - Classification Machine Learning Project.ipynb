{
 "cells": [
  {
   "cell_type": "markdown",
   "id": "4c34b278",
   "metadata": {},
   "source": [
    "<h1>Airline Review Sentiment - Classification Machine Learning project </h1>"
   ]
  },
  {
   "cell_type": "markdown",
   "id": "613d3b38",
   "metadata": {},
   "source": [
    "<h3>Contents</h3>\n",
    "<h3>\n",
    "<ol>\n",
    "    <li><b>Importing Libraries and Dataset</b></li>\n",
    "    <li><b>Data Understanding</b></li>\n",
    "    <li><b>Exploratory Data Analysis</b></li>\n",
    "</ol>\n",
    "</h3>\n",
    "    "
   ]
  },
  {
   "cell_type": "markdown",
   "id": "4c1016ba",
   "metadata": {},
   "source": [
    "<h2>Importing Libraries and the Dataset</h2>"
   ]
  },
  {
   "cell_type": "code",
   "execution_count": 59,
   "id": "f811f432",
   "metadata": {},
   "outputs": [],
   "source": [
    "import numpy as np\n",
    "import pandas as pd\n",
    "import matplotlib.pyplot as plt\n",
    "import seaborn as sns\n",
    "import datetime\n",
    "import warnings\n",
    "warnings.filterwarnings('ignore')\n",
    "import string\n",
    "import nltk\n",
    "from nltk.tokenize import word_tokenize\n",
    "from nltk.corpus import stopwords\n",
    "from nltk.sentiment.vader import SentimentIntensityAnalyzer"
   ]
  },
  {
   "cell_type": "code",
   "execution_count": 60,
   "id": "9be18510",
   "metadata": {},
   "outputs": [
    {
     "name": "stderr",
     "output_type": "stream",
     "text": [
      "[nltk_data] Downloading package vader_lexicon to\n",
      "[nltk_data]     C:\\Users\\manas\\AppData\\Roaming\\nltk_data...\n",
      "[nltk_data]   Package vader_lexicon is already up-to-date!\n",
      "[nltk_data] Downloading package stopwords to\n",
      "[nltk_data]     C:\\Users\\manas\\AppData\\Roaming\\nltk_data...\n",
      "[nltk_data]   Package stopwords is already up-to-date!\n"
     ]
    },
    {
     "data": {
      "text/plain": [
       "True"
      ]
     },
     "execution_count": 60,
     "metadata": {},
     "output_type": "execute_result"
    }
   ],
   "source": [
    "nltk.download('vader_lexicon')\n",
    "nltk.download('stopwords')"
   ]
  },
  {
   "cell_type": "code",
   "execution_count": 61,
   "id": "3c5f2dc2",
   "metadata": {},
   "outputs": [],
   "source": [
    "airlines_data = pd.read_csv('Airline_review.csv')"
   ]
  },
  {
   "cell_type": "code",
   "execution_count": 62,
   "id": "c429b8e9",
   "metadata": {},
   "outputs": [
    {
     "data": {
      "text/html": [
       "<div>\n",
       "<style scoped>\n",
       "    .dataframe tbody tr th:only-of-type {\n",
       "        vertical-align: middle;\n",
       "    }\n",
       "\n",
       "    .dataframe tbody tr th {\n",
       "        vertical-align: top;\n",
       "    }\n",
       "\n",
       "    .dataframe thead th {\n",
       "        text-align: right;\n",
       "    }\n",
       "</style>\n",
       "<table border=\"1\" class=\"dataframe\">\n",
       "  <thead>\n",
       "    <tr style=\"text-align: right;\">\n",
       "      <th></th>\n",
       "      <th>Unnamed: 0</th>\n",
       "      <th>Airline Name</th>\n",
       "      <th>Overall_Rating</th>\n",
       "      <th>Review_Title</th>\n",
       "      <th>Review Date</th>\n",
       "      <th>Verified</th>\n",
       "      <th>Review</th>\n",
       "      <th>Aircraft</th>\n",
       "      <th>Type Of Traveller</th>\n",
       "      <th>Seat Type</th>\n",
       "      <th>Route</th>\n",
       "      <th>Date Flown</th>\n",
       "      <th>Seat Comfort</th>\n",
       "      <th>Cabin Staff Service</th>\n",
       "      <th>Food &amp; Beverages</th>\n",
       "      <th>Ground Service</th>\n",
       "      <th>Inflight Entertainment</th>\n",
       "      <th>Wifi &amp; Connectivity</th>\n",
       "      <th>Value For Money</th>\n",
       "      <th>Recommended</th>\n",
       "    </tr>\n",
       "  </thead>\n",
       "  <tbody>\n",
       "    <tr>\n",
       "      <th>0</th>\n",
       "      <td>0</td>\n",
       "      <td>AB Aviation</td>\n",
       "      <td>9</td>\n",
       "      <td>\"pretty decent airline\"</td>\n",
       "      <td>11th November 2019</td>\n",
       "      <td>True</td>\n",
       "      <td>Moroni to Moheli. Turned out to be a pretty ...</td>\n",
       "      <td>NaN</td>\n",
       "      <td>Solo Leisure</td>\n",
       "      <td>Economy Class</td>\n",
       "      <td>Moroni to Moheli</td>\n",
       "      <td>November 2019</td>\n",
       "      <td>4.0</td>\n",
       "      <td>5.0</td>\n",
       "      <td>4.0</td>\n",
       "      <td>4.0</td>\n",
       "      <td>NaN</td>\n",
       "      <td>NaN</td>\n",
       "      <td>3.0</td>\n",
       "      <td>yes</td>\n",
       "    </tr>\n",
       "    <tr>\n",
       "      <th>1</th>\n",
       "      <td>1</td>\n",
       "      <td>AB Aviation</td>\n",
       "      <td>1</td>\n",
       "      <td>\"Not a good airline\"</td>\n",
       "      <td>25th June 2019</td>\n",
       "      <td>True</td>\n",
       "      <td>Moroni to Anjouan. It is a very small airline...</td>\n",
       "      <td>E120</td>\n",
       "      <td>Solo Leisure</td>\n",
       "      <td>Economy Class</td>\n",
       "      <td>Moroni to Anjouan</td>\n",
       "      <td>June 2019</td>\n",
       "      <td>2.0</td>\n",
       "      <td>2.0</td>\n",
       "      <td>1.0</td>\n",
       "      <td>1.0</td>\n",
       "      <td>NaN</td>\n",
       "      <td>NaN</td>\n",
       "      <td>2.0</td>\n",
       "      <td>no</td>\n",
       "    </tr>\n",
       "  </tbody>\n",
       "</table>\n",
       "</div>"
      ],
      "text/plain": [
       "   Unnamed: 0 Airline Name Overall_Rating             Review_Title  \\\n",
       "0           0  AB Aviation              9  \"pretty decent airline\"   \n",
       "1           1  AB Aviation              1     \"Not a good airline\"   \n",
       "\n",
       "          Review Date  Verified  \\\n",
       "0  11th November 2019      True   \n",
       "1      25th June 2019      True   \n",
       "\n",
       "                                              Review Aircraft  \\\n",
       "0    Moroni to Moheli. Turned out to be a pretty ...      NaN   \n",
       "1   Moroni to Anjouan. It is a very small airline...     E120   \n",
       "\n",
       "  Type Of Traveller      Seat Type              Route     Date Flown  \\\n",
       "0      Solo Leisure  Economy Class   Moroni to Moheli  November 2019   \n",
       "1      Solo Leisure  Economy Class  Moroni to Anjouan      June 2019   \n",
       "\n",
       "   Seat Comfort  Cabin Staff Service  Food & Beverages  Ground Service  \\\n",
       "0           4.0                  5.0               4.0             4.0   \n",
       "1           2.0                  2.0               1.0             1.0   \n",
       "\n",
       "   Inflight Entertainment  Wifi & Connectivity  Value For Money Recommended  \n",
       "0                     NaN                  NaN              3.0         yes  \n",
       "1                     NaN                  NaN              2.0          no  "
      ]
     },
     "execution_count": 62,
     "metadata": {},
     "output_type": "execute_result"
    }
   ],
   "source": [
    "airlines_data.head(2)"
   ]
  },
  {
   "cell_type": "code",
   "execution_count": 63,
   "id": "e1544e3a",
   "metadata": {},
   "outputs": [
    {
     "data": {
      "text/plain": [
       "(23171, 20)"
      ]
     },
     "execution_count": 63,
     "metadata": {},
     "output_type": "execute_result"
    }
   ],
   "source": [
    "airlines_data.shape"
   ]
  },
  {
   "cell_type": "markdown",
   "id": "655e076f",
   "metadata": {},
   "source": [
    "<h5>The data has 23,171 and 20 columns </h5>"
   ]
  },
  {
   "cell_type": "code",
   "execution_count": 64,
   "id": "c5fcfcbb",
   "metadata": {},
   "outputs": [
    {
     "name": "stderr",
     "output_type": "stream",
     "text": [
      "[nltk_data] Downloading package stopwords to\n",
      "[nltk_data]     C:\\Users\\manas\\AppData\\Roaming\\nltk_data...\n",
      "[nltk_data]   Package stopwords is already up-to-date!\n"
     ]
    },
    {
     "data": {
      "text/plain": [
       "True"
      ]
     },
     "execution_count": 64,
     "metadata": {},
     "output_type": "execute_result"
    }
   ],
   "source": [
    "nltk.download('stopwords')"
   ]
  },
  {
   "cell_type": "markdown",
   "id": "20802bc6",
   "metadata": {},
   "source": [
    "<h2>2. Data Understanding</h2>"
   ]
  },
  {
   "cell_type": "code",
   "execution_count": 65,
   "id": "58bfeea8",
   "metadata": {},
   "outputs": [
    {
     "name": "stdout",
     "output_type": "stream",
     "text": [
      "<class 'pandas.core.frame.DataFrame'>\n",
      "RangeIndex: 23171 entries, 0 to 23170\n",
      "Data columns (total 20 columns):\n",
      " #   Column                  Non-Null Count  Dtype  \n",
      "---  ------                  --------------  -----  \n",
      " 0   Unnamed: 0              23171 non-null  int64  \n",
      " 1   Airline Name            23171 non-null  object \n",
      " 2   Overall_Rating          23171 non-null  object \n",
      " 3   Review_Title            23171 non-null  object \n",
      " 4   Review Date             23171 non-null  object \n",
      " 5   Verified                23171 non-null  bool   \n",
      " 6   Review                  23171 non-null  object \n",
      " 7   Aircraft                7129 non-null   object \n",
      " 8   Type Of Traveller       19433 non-null  object \n",
      " 9   Seat Type               22075 non-null  object \n",
      " 10  Route                   19343 non-null  object \n",
      " 11  Date Flown              19417 non-null  object \n",
      " 12  Seat Comfort            19016 non-null  float64\n",
      " 13  Cabin Staff Service     18911 non-null  float64\n",
      " 14  Food & Beverages        14500 non-null  float64\n",
      " 15  Ground Service          18378 non-null  float64\n",
      " 16  Inflight Entertainment  10829 non-null  float64\n",
      " 17  Wifi & Connectivity     5920 non-null   float64\n",
      " 18  Value For Money         22105 non-null  float64\n",
      " 19  Recommended             23171 non-null  object \n",
      "dtypes: bool(1), float64(7), int64(1), object(11)\n",
      "memory usage: 3.4+ MB\n"
     ]
    }
   ],
   "source": [
    "airlines_data.info()"
   ]
  },
  {
   "cell_type": "markdown",
   "id": "17053516",
   "metadata": {},
   "source": [
    "<ul>\n",
    "    <li>There are 11 object type columns</li>\n",
    "    <li>There are 8 numerical columns </li>\n",
    "    <li>There is one Boolean Column </li>"
   ]
  },
  {
   "cell_type": "code",
   "execution_count": 66,
   "id": "735eb15b",
   "metadata": {},
   "outputs": [
    {
     "data": {
      "text/html": [
       "<div>\n",
       "<style scoped>\n",
       "    .dataframe tbody tr th:only-of-type {\n",
       "        vertical-align: middle;\n",
       "    }\n",
       "\n",
       "    .dataframe tbody tr th {\n",
       "        vertical-align: top;\n",
       "    }\n",
       "\n",
       "    .dataframe thead th {\n",
       "        text-align: right;\n",
       "    }\n",
       "</style>\n",
       "<table border=\"1\" class=\"dataframe\">\n",
       "  <thead>\n",
       "    <tr style=\"text-align: right;\">\n",
       "      <th></th>\n",
       "      <th>Unnamed: 0</th>\n",
       "      <th>Seat Comfort</th>\n",
       "      <th>Cabin Staff Service</th>\n",
       "      <th>Food &amp; Beverages</th>\n",
       "      <th>Ground Service</th>\n",
       "      <th>Inflight Entertainment</th>\n",
       "      <th>Wifi &amp; Connectivity</th>\n",
       "      <th>Value For Money</th>\n",
       "    </tr>\n",
       "  </thead>\n",
       "  <tbody>\n",
       "    <tr>\n",
       "      <th>count</th>\n",
       "      <td>23171.00000</td>\n",
       "      <td>19016.000000</td>\n",
       "      <td>18911.000000</td>\n",
       "      <td>14500.000000</td>\n",
       "      <td>18378.000000</td>\n",
       "      <td>10829.000000</td>\n",
       "      <td>5920.000000</td>\n",
       "      <td>22105.000000</td>\n",
       "    </tr>\n",
       "    <tr>\n",
       "      <th>mean</th>\n",
       "      <td>11585.00000</td>\n",
       "      <td>2.618374</td>\n",
       "      <td>2.871609</td>\n",
       "      <td>2.553586</td>\n",
       "      <td>2.353738</td>\n",
       "      <td>2.179056</td>\n",
       "      <td>1.780405</td>\n",
       "      <td>2.451165</td>\n",
       "    </tr>\n",
       "    <tr>\n",
       "      <th>std</th>\n",
       "      <td>6689.03588</td>\n",
       "      <td>1.464840</td>\n",
       "      <td>1.604631</td>\n",
       "      <td>1.526314</td>\n",
       "      <td>1.595747</td>\n",
       "      <td>1.488839</td>\n",
       "      <td>1.318800</td>\n",
       "      <td>1.594155</td>\n",
       "    </tr>\n",
       "    <tr>\n",
       "      <th>min</th>\n",
       "      <td>0.00000</td>\n",
       "      <td>0.000000</td>\n",
       "      <td>0.000000</td>\n",
       "      <td>0.000000</td>\n",
       "      <td>1.000000</td>\n",
       "      <td>0.000000</td>\n",
       "      <td>0.000000</td>\n",
       "      <td>0.000000</td>\n",
       "    </tr>\n",
       "    <tr>\n",
       "      <th>25%</th>\n",
       "      <td>5792.50000</td>\n",
       "      <td>1.000000</td>\n",
       "      <td>1.000000</td>\n",
       "      <td>1.000000</td>\n",
       "      <td>1.000000</td>\n",
       "      <td>1.000000</td>\n",
       "      <td>1.000000</td>\n",
       "      <td>1.000000</td>\n",
       "    </tr>\n",
       "    <tr>\n",
       "      <th>50%</th>\n",
       "      <td>11585.00000</td>\n",
       "      <td>3.000000</td>\n",
       "      <td>3.000000</td>\n",
       "      <td>2.000000</td>\n",
       "      <td>1.000000</td>\n",
       "      <td>2.000000</td>\n",
       "      <td>1.000000</td>\n",
       "      <td>2.000000</td>\n",
       "    </tr>\n",
       "    <tr>\n",
       "      <th>75%</th>\n",
       "      <td>17377.50000</td>\n",
       "      <td>4.000000</td>\n",
       "      <td>4.000000</td>\n",
       "      <td>4.000000</td>\n",
       "      <td>4.000000</td>\n",
       "      <td>3.000000</td>\n",
       "      <td>2.000000</td>\n",
       "      <td>4.000000</td>\n",
       "    </tr>\n",
       "    <tr>\n",
       "      <th>max</th>\n",
       "      <td>23170.00000</td>\n",
       "      <td>5.000000</td>\n",
       "      <td>5.000000</td>\n",
       "      <td>5.000000</td>\n",
       "      <td>5.000000</td>\n",
       "      <td>5.000000</td>\n",
       "      <td>5.000000</td>\n",
       "      <td>5.000000</td>\n",
       "    </tr>\n",
       "  </tbody>\n",
       "</table>\n",
       "</div>"
      ],
      "text/plain": [
       "        Unnamed: 0  Seat Comfort  Cabin Staff Service  Food & Beverages  \\\n",
       "count  23171.00000  19016.000000         18911.000000      14500.000000   \n",
       "mean   11585.00000      2.618374             2.871609          2.553586   \n",
       "std     6689.03588      1.464840             1.604631          1.526314   \n",
       "min        0.00000      0.000000             0.000000          0.000000   \n",
       "25%     5792.50000      1.000000             1.000000          1.000000   \n",
       "50%    11585.00000      3.000000             3.000000          2.000000   \n",
       "75%    17377.50000      4.000000             4.000000          4.000000   \n",
       "max    23170.00000      5.000000             5.000000          5.000000   \n",
       "\n",
       "       Ground Service  Inflight Entertainment  Wifi & Connectivity  \\\n",
       "count    18378.000000            10829.000000          5920.000000   \n",
       "mean         2.353738                2.179056             1.780405   \n",
       "std          1.595747                1.488839             1.318800   \n",
       "min          1.000000                0.000000             0.000000   \n",
       "25%          1.000000                1.000000             1.000000   \n",
       "50%          1.000000                2.000000             1.000000   \n",
       "75%          4.000000                3.000000             2.000000   \n",
       "max          5.000000                5.000000             5.000000   \n",
       "\n",
       "       Value For Money  \n",
       "count     22105.000000  \n",
       "mean          2.451165  \n",
       "std           1.594155  \n",
       "min           0.000000  \n",
       "25%           1.000000  \n",
       "50%           2.000000  \n",
       "75%           4.000000  \n",
       "max           5.000000  "
      ]
     },
     "execution_count": 66,
     "metadata": {},
     "output_type": "execute_result"
    }
   ],
   "source": [
    "airlines_data.describe()"
   ]
  },
  {
   "cell_type": "code",
   "execution_count": 67,
   "id": "ecdeb7b4",
   "metadata": {},
   "outputs": [
    {
     "data": {
      "text/html": [
       "<div>\n",
       "<style scoped>\n",
       "    .dataframe tbody tr th:only-of-type {\n",
       "        vertical-align: middle;\n",
       "    }\n",
       "\n",
       "    .dataframe tbody tr th {\n",
       "        vertical-align: top;\n",
       "    }\n",
       "\n",
       "    .dataframe thead th {\n",
       "        text-align: right;\n",
       "    }\n",
       "</style>\n",
       "<table border=\"1\" class=\"dataframe\">\n",
       "  <thead>\n",
       "    <tr style=\"text-align: right;\">\n",
       "      <th></th>\n",
       "      <th>Airline Name</th>\n",
       "      <th>Overall_Rating</th>\n",
       "      <th>Review_Title</th>\n",
       "      <th>Review Date</th>\n",
       "      <th>Review</th>\n",
       "      <th>Aircraft</th>\n",
       "      <th>Type Of Traveller</th>\n",
       "      <th>Seat Type</th>\n",
       "      <th>Route</th>\n",
       "      <th>Date Flown</th>\n",
       "      <th>Recommended</th>\n",
       "    </tr>\n",
       "  </thead>\n",
       "  <tbody>\n",
       "    <tr>\n",
       "      <th>count</th>\n",
       "      <td>23171</td>\n",
       "      <td>23171</td>\n",
       "      <td>23171</td>\n",
       "      <td>23171</td>\n",
       "      <td>23171</td>\n",
       "      <td>7129</td>\n",
       "      <td>19433</td>\n",
       "      <td>22075</td>\n",
       "      <td>19343</td>\n",
       "      <td>19417</td>\n",
       "      <td>23171</td>\n",
       "    </tr>\n",
       "    <tr>\n",
       "      <th>unique</th>\n",
       "      <td>497</td>\n",
       "      <td>10</td>\n",
       "      <td>17219</td>\n",
       "      <td>4557</td>\n",
       "      <td>23046</td>\n",
       "      <td>1048</td>\n",
       "      <td>4</td>\n",
       "      <td>4</td>\n",
       "      <td>13607</td>\n",
       "      <td>109</td>\n",
       "      <td>2</td>\n",
       "    </tr>\n",
       "    <tr>\n",
       "      <th>top</th>\n",
       "      <td>Aeromexico</td>\n",
       "      <td>1</td>\n",
       "      <td>Onur Air customer review</td>\n",
       "      <td>16th July 2023</td>\n",
       "      <td>FRA-LUX in Y class. Short trip connecting in F...</td>\n",
       "      <td>A320</td>\n",
       "      <td>Solo Leisure</td>\n",
       "      <td>Economy Class</td>\n",
       "      <td>Melbourne to Sydney</td>\n",
       "      <td>June 2023</td>\n",
       "      <td>no</td>\n",
       "    </tr>\n",
       "    <tr>\n",
       "      <th>freq</th>\n",
       "      <td>100</td>\n",
       "      <td>11595</td>\n",
       "      <td>84</td>\n",
       "      <td>67</td>\n",
       "      <td>2</td>\n",
       "      <td>1041</td>\n",
       "      <td>7120</td>\n",
       "      <td>19145</td>\n",
       "      <td>43</td>\n",
       "      <td>1057</td>\n",
       "      <td>15364</td>\n",
       "    </tr>\n",
       "  </tbody>\n",
       "</table>\n",
       "</div>"
      ],
      "text/plain": [
       "       Airline Name Overall_Rating              Review_Title     Review Date  \\\n",
       "count         23171          23171                     23171           23171   \n",
       "unique          497             10                     17219            4557   \n",
       "top      Aeromexico              1  Onur Air customer review  16th July 2023   \n",
       "freq            100          11595                        84              67   \n",
       "\n",
       "                                                   Review Aircraft  \\\n",
       "count                                               23171     7129   \n",
       "unique                                              23046     1048   \n",
       "top     FRA-LUX in Y class. Short trip connecting in F...     A320   \n",
       "freq                                                    2     1041   \n",
       "\n",
       "       Type Of Traveller      Seat Type                Route Date Flown  \\\n",
       "count              19433          22075                19343      19417   \n",
       "unique                 4              4                13607        109   \n",
       "top         Solo Leisure  Economy Class  Melbourne to Sydney  June 2023   \n",
       "freq                7120          19145                   43       1057   \n",
       "\n",
       "       Recommended  \n",
       "count        23171  \n",
       "unique           2  \n",
       "top             no  \n",
       "freq         15364  "
      ]
     },
     "execution_count": 67,
     "metadata": {},
     "output_type": "execute_result"
    }
   ],
   "source": [
    "airlines_data.select_dtypes(include = 'object').describe()"
   ]
  },
  {
   "cell_type": "markdown",
   "id": "020188c1",
   "metadata": {},
   "source": [
    "<strong>Inferences</strong>\n",
    "<ul>\n",
    "    <li>Unnamed Column one is the ID Column of review</li>\n",
    "    <li>Multiple Columns have missing values.</li>\n",
    "    <li>Sentiment analysis must be performend on 'Review_Title' and 'Review' Columns.</li>\n",
    "</ul>"
   ]
  },
  {
   "cell_type": "code",
   "execution_count": 68,
   "id": "a348602a",
   "metadata": {},
   "outputs": [
    {
     "data": {
      "text/plain": [
       "Unnamed: 0                 0.000000\n",
       "Airline Name               0.000000\n",
       "Overall_Rating             0.000000\n",
       "Review_Title               0.000000\n",
       "Review Date                0.000000\n",
       "Verified                   0.000000\n",
       "Review                     0.000000\n",
       "Aircraft                  69.233093\n",
       "Type Of Traveller         16.132234\n",
       "Seat Type                  4.730050\n",
       "Route                     16.520651\n",
       "Date Flown                16.201286\n",
       "Seat Comfort              17.931898\n",
       "Cabin Staff Service       18.385050\n",
       "Food & Beverages          37.421777\n",
       "Ground Service            20.685339\n",
       "Inflight Entertainment    53.264857\n",
       "Wifi & Connectivity       74.450822\n",
       "Value For Money            4.600578\n",
       "Recommended                0.000000\n",
       "dtype: float64"
      ]
     },
     "execution_count": 68,
     "metadata": {},
     "output_type": "execute_result"
    }
   ],
   "source": [
    "#Checking Percentage of Null Values\n",
    "(airlines_data.isnull().sum()/airlines_data.shape[0])*100"
   ]
  },
  {
   "cell_type": "markdown",
   "id": "de1ca039",
   "metadata": {},
   "source": [
    "<strong>There are columns that have greater than 50% Null Values</strong>\n",
    "<p>Since it would be tought to impute these values, the columns with above 50% null values will be dropped</p>\n",
    "<p>Dropping Column one as well because it is an ID column and adds no information.</p>"
   ]
  },
  {
   "cell_type": "code",
   "execution_count": 69,
   "id": "ec072dd8",
   "metadata": {},
   "outputs": [],
   "source": [
    "airlines_data.drop(columns = ['Unnamed: 0','Aircraft','Inflight Entertainment','Wifi & Connectivity'], inplace = True)"
   ]
  },
  {
   "cell_type": "code",
   "execution_count": 70,
   "id": "f15001d1",
   "metadata": {},
   "outputs": [
    {
     "data": {
      "text/plain": [
       "120"
      ]
     },
     "execution_count": 70,
     "metadata": {},
     "output_type": "execute_result"
    }
   ],
   "source": [
    "airlines_data.duplicated().sum() "
   ]
  },
  {
   "cell_type": "markdown",
   "id": "dbab4557",
   "metadata": {},
   "source": [
    "<p>There appear to be 27 rows that are complete duplicates of another row. These rows must be dropped.</p>"
   ]
  },
  {
   "cell_type": "code",
   "execution_count": 71,
   "id": "ed888904",
   "metadata": {},
   "outputs": [],
   "source": [
    "airlines_data.drop_duplicates(inplace=True)"
   ]
  },
  {
   "cell_type": "markdown",
   "id": "ac7edf6b",
   "metadata": {},
   "source": [
    "<h2>3.Exploratory Data Analysis</h2>"
   ]
  },
  {
   "cell_type": "code",
   "execution_count": 72,
   "id": "a8ef2bb3",
   "metadata": {},
   "outputs": [
    {
     "data": {
      "text/plain": [
       "Frontier Airlines            100\n",
       "Jet Airways                  100\n",
       "SilkAir                      100\n",
       "Royal Air Maroc              100\n",
       "Allegiant Air                100\n",
       "Garuda Indonesia             100\n",
       "Korean Air                   100\n",
       "Lufthansa                    100\n",
       "Virgin America               100\n",
       "Lynx Air                     100\n",
       "Ethiopian Airlines           100\n",
       "AirAsia India                100\n",
       "British Airways              100\n",
       "Air Tahiti Nui               100\n",
       "Aeroflot Russian Airlines    100\n",
       "Volaris                      100\n",
       "Spirit Airlines              100\n",
       "LOT Polish Airlines          100\n",
       "Go First                     100\n",
       "Jetstar Pacific              100\n",
       "Name: Airline Name, dtype: int64"
      ]
     },
     "execution_count": 72,
     "metadata": {},
     "output_type": "execute_result"
    }
   ],
   "source": [
    "#Column by Column\n",
    "#Column : Airline Name\n",
    "airlines_data['Airline Name'].value_counts().head(20)"
   ]
  },
  {
   "cell_type": "markdown",
   "id": "3b18e35e",
   "metadata": {},
   "source": [
    "The dataset appears to be imalanced. We will understand the distribution on the number of times an airline occurs"
   ]
  },
  {
   "cell_type": "code",
   "execution_count": 73,
   "id": "6d3264f6",
   "metadata": {},
   "outputs": [
    {
     "data": {
      "text/plain": [
       "100    154\n",
       "1       42\n",
       "2       32\n",
       "4       22\n",
       "3       20\n",
       "7       12\n",
       "5       10\n",
       "9       10\n",
       "13       8\n",
       "14       8\n",
       "dtype: int64"
      ]
     },
     "execution_count": 73,
     "metadata": {},
     "output_type": "execute_result"
    }
   ],
   "source": [
    "pd.Series(airlines_data['Airline Name'].value_counts().values).value_counts().head(10)"
   ]
  },
  {
   "cell_type": "markdown",
   "id": "0b6daeff",
   "metadata": {},
   "source": [
    "<b>Inferences</b>\n",
    "<p>There appear to be some airplines that have occured only a handfull of times. (1-6) Since these total upto less than 150, all the airlines with less that 10 Occurances will be renames to 'Miscellaneous' inorder to avoid the hamperance they would have otherwise caused.<p>"
   ]
  },
  {
   "cell_type": "code",
   "execution_count": 74,
   "id": "50341e5a",
   "metadata": {},
   "outputs": [
    {
     "data": {
      "text/plain": [
       "157"
      ]
     },
     "execution_count": 74,
     "metadata": {},
     "output_type": "execute_result"
    }
   ],
   "source": [
    "temp = airlines_data['Airline Name'].value_counts()\n",
    "flights_to_rename = np.array(temp[temp < 10].index)\n",
    "len(flights_to_rename)"
   ]
  },
  {
   "cell_type": "code",
   "execution_count": 75,
   "id": "2bf5f494",
   "metadata": {},
   "outputs": [
    {
     "data": {
      "text/plain": [
       "Frontier Airlines          100\n",
       "Jet Airways                100\n",
       "SilkAir                    100\n",
       "Royal Air Maroc            100\n",
       "Allegiant Air              100\n",
       "                          ... \n",
       "TransNusa                    1\n",
       "NextJet                      1\n",
       "MEGA Maldives Airlines       1\n",
       "Manta Air                    1\n",
       "Cambodia Bayon Airlines      1\n",
       "Name: Airline Name, Length: 497, dtype: int64"
      ]
     },
     "execution_count": 75,
     "metadata": {},
     "output_type": "execute_result"
    }
   ],
   "source": [
    "airlines_data['Airline Name'].value_counts()"
   ]
  },
  {
   "cell_type": "markdown",
   "id": "65cb2a34",
   "metadata": {},
   "source": [
    "<strong>Doing this will help when we Encode this data in the future. We will reduce the overall dimensionality of this column</strong>"
   ]
  },
  {
   "cell_type": "code",
   "execution_count": 76,
   "id": "4353e8de",
   "metadata": {},
   "outputs": [
    {
     "data": {
      "text/plain": [
       "array(['Air KBZ', 'Thomas Cook Airlines Scandinavia',\n",
       "       'Africa World Airlines', 'TAR Aerolineas', 'Ravn Alaska'],\n",
       "      dtype=object)"
      ]
     },
     "execution_count": 76,
     "metadata": {},
     "output_type": "execute_result"
    }
   ],
   "source": [
    "flights_to_rename[:5]"
   ]
  },
  {
   "cell_type": "code",
   "execution_count": 77,
   "id": "a4ece5e2",
   "metadata": {},
   "outputs": [],
   "source": [
    "airlines_data.replace(flights_to_rename, 'Miscellaneuous', inplace=True)"
   ]
  },
  {
   "cell_type": "code",
   "execution_count": 78,
   "id": "43050413",
   "metadata": {},
   "outputs": [
    {
     "data": {
      "text/plain": [
       "1    11587\n",
       "2     2294\n",
       "9     1768\n",
       "8     1756\n",
       "3     1353\n",
       "7     1193\n",
       "4      853\n",
       "5      826\n",
       "n      749\n",
       "6      672\n",
       "Name: Overall_Rating, dtype: int64"
      ]
     },
     "execution_count": 78,
     "metadata": {},
     "output_type": "execute_result"
    }
   ],
   "source": [
    "#overall rating column\n",
    "airlines_data['Overall_Rating'].value_counts()"
   ]
  },
  {
   "cell_type": "markdown",
   "id": "b5c5be8c",
   "metadata": {},
   "source": [
    "<p>There appears to be an entry of 'n' where all data should ideally be numeric</p>\n",
    "<b>Identifying and correccting this error</b>"
   ]
  },
  {
   "cell_type": "code",
   "execution_count": 79,
   "id": "20605871",
   "metadata": {},
   "outputs": [
    {
     "data": {
      "text/plain": [
       "Airline Name                                               Adria Airways\n",
       "Overall_Rating                                                         n\n",
       "Review_Title                               Adria Airways customer review\n",
       "Review Date                                             4th October 2007\n",
       "Verified                                                           False\n",
       "Review                 BRU-LJU-BRU. Outward flight on a CRJ200 very n...\n",
       "Type Of Traveller                                                    NaN\n",
       "Seat Type                                                            NaN\n",
       "Route                                                                NaN\n",
       "Date Flown                                                           NaN\n",
       "Seat Comfort                                                         NaN\n",
       "Cabin Staff Service                                                  NaN\n",
       "Food & Beverages                                                     NaN\n",
       "Ground Service                                                       NaN\n",
       "Value For Money                                                      NaN\n",
       "Recommended                                                           no\n",
       "Name: 77, dtype: object"
      ]
     },
     "execution_count": 79,
     "metadata": {},
     "output_type": "execute_result"
    }
   ],
   "source": [
    "airlines_data[airlines_data['Overall_Rating'] == 'n'].iloc[0]"
   ]
  },
  {
   "cell_type": "markdown",
   "id": "f3568b97",
   "metadata": {},
   "source": [
    "It appears that 'n' appears whenever the review is not verifiied and/or the data fron other columns is missing.\n",
    "Let us confirm this by reviewing other columns where the value in 'Overall_Rating' is 'n'."
   ]
  },
  {
   "cell_type": "code",
   "execution_count": 80,
   "id": "1a0c94e7",
   "metadata": {},
   "outputs": [
    {
     "data": {
      "text/plain": [
       "Airline Name             0.000000\n",
       "Overall_Rating           0.000000\n",
       "Review_Title             0.000000\n",
       "Review Date              0.000000\n",
       "Verified                 0.000000\n",
       "Review                   0.000000\n",
       "Type Of Traveller      100.000000\n",
       "Seat Type               58.210948\n",
       "Route                  100.000000\n",
       "Date Flown             100.000000\n",
       "Seat Comfort            76.368491\n",
       "Cabin Staff Service     76.368491\n",
       "Food & Beverages        76.368491\n",
       "Ground Service         100.000000\n",
       "Value For Money         57.810414\n",
       "Recommended              0.000000\n",
       "dtype: float64"
      ]
     },
     "execution_count": 80,
     "metadata": {},
     "output_type": "execute_result"
    }
   ],
   "source": [
    "(airlines_data[airlines_data['Overall_Rating'] == 'n'].isnull().sum()/airlines_data[airlines_data['Overall_Rating'] == 'n'].shape[0])*100"
   ]
  },
  {
   "cell_type": "code",
   "execution_count": 81,
   "id": "965a95ba",
   "metadata": {},
   "outputs": [
    {
     "data": {
      "text/plain": [
       "False    749\n",
       "Name: Verified, dtype: int64"
      ]
     },
     "execution_count": 81,
     "metadata": {},
     "output_type": "execute_result"
    }
   ],
   "source": [
    "airlines_data[airlines_data['Overall_Rating'] == 'n']['Verified'].value_counts()"
   ]
  },
  {
   "cell_type": "code",
   "execution_count": 82,
   "id": "0226e0bd",
   "metadata": {},
   "outputs": [
    {
     "data": {
      "text/plain": [
       "True     12319\n",
       "False    10732\n",
       "Name: Verified, dtype: int64"
      ]
     },
     "execution_count": 82,
     "metadata": {},
     "output_type": "execute_result"
    }
   ],
   "source": [
    "airlines_data['Verified'].value_counts()"
   ]
  },
  {
   "cell_type": "code",
   "execution_count": 83,
   "id": "695f7a7d",
   "metadata": {},
   "outputs": [
    {
     "data": {
      "text/plain": [
       "Airline Name                 NaN\n",
       "Overall_Rating               NaN\n",
       "Review_Title                 NaN\n",
       "Review Date                  NaN\n",
       "Verified                     NaN\n",
       "Review                       NaN\n",
       "Type Of Traveller      20.650675\n",
       "Seat Type              44.084934\n",
       "Route                  20.156082\n",
       "Date Flown             20.565623\n",
       "Seat Comfort           14.144411\n",
       "Cabin Staff Service    13.786455\n",
       "Food & Beverages        6.686148\n",
       "Ground Service         15.997437\n",
       "Value For Money        45.151199\n",
       "Recommended                  NaN\n",
       "dtype: float64"
      ]
     },
     "execution_count": 83,
     "metadata": {},
     "output_type": "execute_result"
    }
   ],
   "source": [
    "(airlines_data[airlines_data['Overall_Rating'] == 'n'].isnull().sum()/airlines_data.isnull().sum())*100"
   ]
  },
  {
   "cell_type": "code",
   "execution_count": 84,
   "id": "83ef7bf0",
   "metadata": {},
   "outputs": [
    {
     "data": {
      "text/plain": [
       "(23051, 16)"
      ]
     },
     "execution_count": 84,
     "metadata": {},
     "output_type": "execute_result"
    }
   ],
   "source": [
    "airlines_data.shape"
   ]
  },
  {
   "cell_type": "markdown",
   "id": "98ab14e2",
   "metadata": {},
   "source": [
    "<b>Inferences</b>\n",
    "<p>It can be inferred that data graines that have an Overall_Rating of 'n' have higher amounts of Null values in their correspoding row entries.</p>\n",
    "<p>This could signify that these entries are not completely valid and have be errantly entered.</p>\n",
    "<p>Given this, it is best to drop rows with this error.</p>"
   ]
  },
  {
   "cell_type": "code",
   "execution_count": 85,
   "id": "b158c042",
   "metadata": {},
   "outputs": [],
   "source": [
    "airlines_data.drop(index = airlines_data[airlines_data['Overall_Rating'] == 'n'].index, inplace=True)"
   ]
  },
  {
   "cell_type": "code",
   "execution_count": 86,
   "id": "38dee6d6",
   "metadata": {},
   "outputs": [
    {
     "data": {
      "text/plain": [
       "Airline Name            0.000000\n",
       "Overall_Rating          0.000000\n",
       "Review_Title            0.000000\n",
       "Review Date             0.000000\n",
       "Verified                0.000000\n",
       "Review                  0.000000\n",
       "Type Of Traveller      12.904672\n",
       "Seat Type               2.479598\n",
       "Route                  13.303740\n",
       "Date Flown             12.971931\n",
       "Seat Comfort           15.568110\n",
       "Cabin Staff Service    16.038920\n",
       "Food & Beverages       35.794996\n",
       "Ground Service         17.635190\n",
       "Value For Money         2.358533\n",
       "Recommended             0.000000\n",
       "dtype: float64"
      ]
     },
     "execution_count": 86,
     "metadata": {},
     "output_type": "execute_result"
    }
   ],
   "source": [
    "(airlines_data.isnull().sum()/airlines_data.shape[0])*100"
   ]
  },
  {
   "cell_type": "code",
   "execution_count": 87,
   "id": "198d9eaf",
   "metadata": {},
   "outputs": [
    {
     "data": {
      "text/plain": [
       "(22302, 16)"
      ]
     },
     "execution_count": 87,
     "metadata": {},
     "output_type": "execute_result"
    }
   ],
   "source": [
    "airlines_data.shape"
   ]
  },
  {
   "cell_type": "markdown",
   "id": "d0f8cad9",
   "metadata": {},
   "source": [
    "Significantly Lower number of Null Values in the Dataset, with a very small sacrifice on information loss."
   ]
  },
  {
   "cell_type": "code",
   "execution_count": 88,
   "id": "64c2d704",
   "metadata": {},
   "outputs": [
    {
     "data": {
      "text/plain": [
       "<AxesSubplot:>"
      ]
     },
     "execution_count": 88,
     "metadata": {},
     "output_type": "execute_result"
    },
    {
     "data": {
      "image/png": "[encoded data removed]",
      "text/plain": [
       "<Figure size 504x504 with 1 Axes>"
      ]
     },
     "metadata": {
      "needs_background": "light"
     },
     "output_type": "display_data"
    }
   ],
   "source": [
    "temp = airlines_data['Overall_Rating'].value_counts().sort_index()\n",
    "plt.figure(figsize=(7,7))\n",
    "sns.barplot(y = temp.index, x = temp.values)"
   ]
  },
  {
   "cell_type": "markdown",
   "id": "31162362",
   "metadata": {},
   "source": [
    "<b>Most of the overall reviews appear to be '1' or a largely Negative Review.<b>"
   ]
  },
  {
   "cell_type": "code",
   "execution_count": 89,
   "id": "85b4420c",
   "metadata": {},
   "outputs": [
    {
     "data": {
      "text/plain": [
       "str"
      ]
     },
     "execution_count": 89,
     "metadata": {},
     "output_type": "execute_result"
    }
   ],
   "source": [
    "#Column 'Review_Title'\n",
    "type(airlines_data['Review_Title'][0])"
   ]
  },
  {
   "cell_type": "code",
   "execution_count": 90,
   "id": "d5280301",
   "metadata": {},
   "outputs": [
    {
     "data": {
      "text/plain": [
       "5085"
      ]
     },
     "execution_count": 90,
     "metadata": {},
     "output_type": "execute_result"
    }
   ],
   "source": [
    "airlines_data['Review_Title'].duplicated().sum()"
   ]
  },
  {
   "cell_type": "code",
   "execution_count": 91,
   "id": "57bb1c19",
   "metadata": {},
   "outputs": [
    {
     "data": {
      "text/plain": [
       "4"
      ]
     },
     "execution_count": 91,
     "metadata": {},
     "output_type": "execute_result"
    }
   ],
   "source": [
    "airlines_data['Review'].duplicated().sum()"
   ]
  },
  {
   "cell_type": "markdown",
   "id": "24b5f0a7",
   "metadata": {},
   "source": [
    "<b>Inferences</b>\n",
    "\n",
    "Although there appear to be 5085 rows of data where the review title is duplicated, there are very few duplicated reviews, which means there are no double entires."
   ]
  },
  {
   "cell_type": "code",
   "execution_count": 92,
   "id": "78bf2197",
   "metadata": {},
   "outputs": [
    {
     "data": {
      "text/plain": [
       "Onur Air customer review              67\n",
       "CityJet customer review               65\n",
       "Germanwings customer review           65\n",
       "US Airways customer review            60\n",
       "Dragonair customer review             60\n",
       "TAM Airlines customer review          59\n",
       "Meridiana customer review             55\n",
       "Olympic Air customer review           55\n",
       "Cubana Airlines customer review       52\n",
       "Shanghai Airlines customer review     50\n",
       "Croatia Airlines customer review      49\n",
       "Transaero Airlines customer review    49\n",
       "QantasLink customer review            49\n",
       "Openskies customer review             48\n",
       "LAN Airlines customer review          46\n",
       "Air Namibia customer review           45\n",
       "Air Tahiti Nui customer review        45\n",
       "Lao Skyway customer review            43\n",
       "Bulgaria Air customer review          43\n",
       "Firefly customer review               41\n",
       "Air Dolomiti customer review          40\n",
       "\"Worst airline ever\"                  40\n",
       "Eastern Airways customer review       40\n",
       "Caribbean Airlines customer review    39\n",
       "Phuket Air customer review            38\n",
       "BA CityFlyer customer review          38\n",
       "Uzbekistan Airways customer review    37\n",
       "Tunisair customer review              36\n",
       "Aurigny Air customer review           36\n",
       "Monarch Airlines customer review      35\n",
       "Name: Review_Title, dtype: int64"
      ]
     },
     "execution_count": 92,
     "metadata": {},
     "output_type": "execute_result"
    }
   ],
   "source": [
    "airlines_data['Review_Title'].value_counts().head(30)"
   ]
  },
  {
   "cell_type": "markdown",
   "id": "036babf7",
   "metadata": {},
   "source": [
    "The reason for the duplication in the column appears to be because of the Generalized review title format that the airlines and reporting gateway company seem to follow.\n",
    "\n",
    "We will have to keep this is mind when performing Sentiment Analysis on this column."
   ]
  },
  {
   "cell_type": "code",
   "execution_count": 93,
   "id": "72ef9305",
   "metadata": {},
   "outputs": [
    {
     "data": {
      "text/plain": [
       "str"
      ]
     },
     "execution_count": 93,
     "metadata": {},
     "output_type": "execute_result"
    }
   ],
   "source": [
    "#Review Data Column\n",
    "type(airlines_data['Review Date'][0])"
   ]
  },
  {
   "cell_type": "code",
   "execution_count": 94,
   "id": "f291edc0",
   "metadata": {},
   "outputs": [],
   "source": [
    "def date_convertor(x):\n",
    "    try: \n",
    "        return datetime.datetime.strptime(x,'%dth %B %Y')\n",
    "    except:\n",
    "        try:            \n",
    "            return datetime.datetime.strptime(x,'%drd %B %Y')\n",
    "        except:\n",
    "            try:\n",
    "                return datetime.datetime.strptime(x,'%dst %B %Y')\n",
    "            except:\n",
    "                return datetime.datetime.strptime(x,'%dnd %B %Y')\n",
    "                "
   ]
  },
  {
   "cell_type": "code",
   "execution_count": 95,
   "id": "1a1ac0eb",
   "metadata": {},
   "outputs": [],
   "source": [
    "airlines_data['Review Date']=airlines_data['Review Date'].apply(date_convertor)"
   ]
  },
  {
   "cell_type": "code",
   "execution_count": 96,
   "id": "455472f8",
   "metadata": {},
   "outputs": [
    {
     "data": {
      "text/plain": [
       "(0, 'Monday')"
      ]
     },
     "execution_count": 96,
     "metadata": {},
     "output_type": "execute_result"
    }
   ],
   "source": [
    "airlines_data['Review Date'][0].dayofweek, airlines_data['Review Date'][0].day_name()"
   ]
  },
  {
   "cell_type": "markdown",
   "id": "14fda88c",
   "metadata": {},
   "source": [
    "<strong>We can now use this datetime column to generate more relevant features when in our Feature Engineering section of the project.</strong>"
   ]
  },
  {
   "cell_type": "code",
   "execution_count": 97,
   "id": "a750ebb7",
   "metadata": {},
   "outputs": [
    {
     "data": {
      "text/plain": [
       "True     55.237198\n",
       "False    44.762802\n",
       "Name: Verified, dtype: float64"
      ]
     },
     "execution_count": 97,
     "metadata": {},
     "output_type": "execute_result"
    }
   ],
   "source": [
    "airlines_data['Verified'].value_counts(normalize=True)*100"
   ]
  },
  {
   "cell_type": "markdown",
   "id": "3e2daa69",
   "metadata": {},
   "source": [
    "Around 55% of the reviews in this dataset appear to be Verified, where as the rest do not. We will explore more of this when we generate correlation plots and heatmaps from this dataset in the Data Visualization Section of this course."
   ]
  },
  {
   "cell_type": "code",
   "execution_count": 98,
   "id": "c41c995f",
   "metadata": {},
   "outputs": [
    {
     "data": {
      "text/plain": [
       "0      Moroni to Moheli. Turned out to be a pretty ...\n",
       "1     Moroni to Anjouan. It is a very small airline...\n",
       "2      Anjouan to Dzaoudzi. A very small airline an...\n",
       "3      Please do a favor yourself and do not fly wi...\n",
       "4     Do not book a flight with this airline! My fr...\n",
       "Name: Review, dtype: object"
      ]
     },
     "execution_count": 98,
     "metadata": {},
     "output_type": "execute_result"
    }
   ],
   "source": [
    "airlines_data['Review'].head()"
   ]
  },
  {
   "cell_type": "markdown",
   "id": "1cb6122e",
   "metadata": {},
   "source": [
    "The reviews column has text. Let us analyse how long the text is and wheather there are any duplicates"
   ]
  },
  {
   "cell_type": "code",
   "execution_count": 99,
   "id": "7ffc7773",
   "metadata": {},
   "outputs": [
    {
     "data": {
      "text/plain": [
       "4"
      ]
     },
     "execution_count": 99,
     "metadata": {},
     "output_type": "execute_result"
    }
   ],
   "source": [
    "airlines_data['Review'].duplicated().sum()"
   ]
  },
  {
   "cell_type": "markdown",
   "id": "ed9ecec3",
   "metadata": {},
   "source": [
    "Since there are only 4 duplicates we can keep them. They can be attributed to a general filler review."
   ]
  },
  {
   "cell_type": "code",
   "execution_count": 100,
   "id": "7f2e626b",
   "metadata": {},
   "outputs": [
    {
     "data": {
      "text/plain": [
       "352"
      ]
     },
     "execution_count": 100,
     "metadata": {},
     "output_type": "execute_result"
    }
   ],
   "source": [
    "len(airlines_data['Review'][0])"
   ]
  },
  {
   "cell_type": "code",
   "execution_count": 101,
   "id": "ceb0503a",
   "metadata": {},
   "outputs": [
    {
     "data": {
      "text/plain": [
       "23166     Bangkok to Tokyo. I’ve flown many low cost ai...\n",
       "23167      Avoid at all costs. I booked flights to go f...\n",
       "23168      Flight was leaving at 23.15 and after an hou...\n",
       "23169     Zipair is JAL’s budget airline. They don’t ha...\n",
       "23170      They lied about connection in Narita and we ...\n",
       "Name: Review, dtype: object"
      ]
     },
     "execution_count": 101,
     "metadata": {},
     "output_type": "execute_result"
    }
   ],
   "source": [
    "airlines_data['Review'].tail()"
   ]
  },
  {
   "cell_type": "markdown",
   "id": "28a0644c",
   "metadata": {},
   "source": [
    "Appropriate Stemming, followed by Sentiment Analysis must be done on this column at the time of Feature Engineering."
   ]
  },
  {
   "cell_type": "code",
   "execution_count": 102,
   "id": "2dc15ef6",
   "metadata": {},
   "outputs": [
    {
     "data": {
      "text/plain": [
       "<BarContainer object of 4 artists>"
      ]
     },
     "execution_count": 102,
     "metadata": {},
     "output_type": "execute_result"
    },
    {
     "data": {
      "image/png": "[encoded data removed]",
      "text/plain": [
       "<Figure size 720x720 with 1 Axes>"
      ]
     },
     "metadata": {
      "needs_background": "light"
     },
     "output_type": "display_data"
    }
   ],
   "source": [
    "plt.figure(figsize = (10,10))\n",
    "plt.bar(x = airlines_data['Type Of Traveller'].value_counts().index, height = airlines_data['Type Of Traveller'].value_counts().values)"
   ]
  },
  {
   "cell_type": "markdown",
   "id": "ec467e67",
   "metadata": {},
   "source": [
    "There appear to be the most number of travellers in the Solo Leasure Column."
   ]
  },
  {
   "cell_type": "code",
   "execution_count": 103,
   "id": "253047c3",
   "metadata": {},
   "outputs": [
    {
     "data": {
      "text/plain": [
       "<AxesSubplot:xlabel='Type Of Traveller', ylabel='count'>"
      ]
     },
     "execution_count": 103,
     "metadata": {},
     "output_type": "execute_result"
    },
    {
     "data": {
      "image/png": "[encoded data removed]",
      "text/plain": [
       "<Figure size 432x288 with 1 Axes>"
      ]
     },
     "metadata": {
      "needs_background": "light"
     },
     "output_type": "display_data"
    }
   ],
   "source": [
    "sns.countplot(airlines_data['Type Of Traveller'], hue=airlines_data['Recommended'])"
   ]
  },
  {
   "cell_type": "markdown",
   "id": "6621045f",
   "metadata": {},
   "source": [
    "<h3>3.1\n",
    "    Data Visualizations</h3>"
   ]
  },
  {
   "cell_type": "code",
   "execution_count": 112,
   "id": "c1bd026a",
   "metadata": {},
   "outputs": [
    {
     "data": {
      "text/plain": [
       "<AxesSubplot:xlabel='Overall_Rating', ylabel='count'>"
      ]
     },
     "execution_count": 112,
     "metadata": {},
     "output_type": "execute_result"
    },
    {
     "data": {
      "image/png": "[encoded data removed]",
      "text/plain": [
       "<Figure size 432x288 with 1 Axes>"
      ]
     },
     "metadata": {
      "needs_background": "light"
     },
     "output_type": "display_data"
    }
   ],
   "source": [
    "sns.countplot(airlines_data['Overall_Rating'],hue=airlines_data['Recommended'])"
   ]
  },
  {
   "cell_type": "code",
   "execution_count": null,
   "id": "5ce0602a",
   "metadata": {},
   "outputs": [],
   "source": [
    "numerical_columns = airlines_data.select_dtypes(include='Number').columns\n",
    "for col in numerical_columns:\n",
    "    plt.figure(figsize = ())\n"
   ]
  },
  {
   "cell_type": "code",
   "execution_count": null,
   "id": "31e0ee4c",
   "metadata": {},
   "outputs": [],
   "source": []
  },
  {
   "cell_type": "code",
   "execution_count": null,
   "id": "5b72fe5e",
   "metadata": {},
   "outputs": [],
   "source": []
  },
  {
   "cell_type": "code",
   "execution_count": null,
   "id": "2229dbbc",
   "metadata": {},
   "outputs": [],
   "source": []
  },
  {
   "cell_type": "code",
   "execution_count": null,
   "id": "93791848",
   "metadata": {},
   "outputs": [],
   "source": []
  },
  {
   "cell_type": "code",
   "execution_count": null,
   "id": "d323dc2d",
   "metadata": {},
   "outputs": [],
   "source": []
  },
  {
   "cell_type": "code",
   "execution_count": null,
   "id": "e40f0260",
   "metadata": {},
   "outputs": [],
   "source": []
  }
 ],
 "metadata": {
  "kernelspec": {
   "display_name": "Python 3 (ipykernel)",
   "language": "python",
   "name": "python3"
  },
  "language_info": {
   "codemirror_mode": {
    "name": "ipython",
    "version": 3
   },
   "file_extension": ".py",
   "mimetype": "text/x-python",
   "name": "python",
   "nbconvert_exporter": "python",
   "pygments_lexer": "ipython3",
   "version": "3.9.12"
  }
 },
 "nbformat": 4,
 "nbformat_minor": 5
}
