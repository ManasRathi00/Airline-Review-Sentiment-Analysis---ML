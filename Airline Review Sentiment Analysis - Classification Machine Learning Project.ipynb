{
 "cells": [
  {
   "cell_type": "markdown",
   "id": "4c34b278",
   "metadata": {},
   "source": [
    "<h1>Airline Review Sentiment - Classification Machine Learning project </h1>"
   ]
  },
  {
   "cell_type": "markdown",
   "id": "037a7f01",
   "metadata": {},
   "source": [
    "Dataset Link: https://www.kaggle.com/datasets/juhibhojani/airline-reviews"
   ]
  },
  {
   "cell_type": "markdown",
   "id": "613d3b38",
   "metadata": {},
   "source": [
    "<h3>Contents</h3>\n",
    "<h3>\n",
    "<ol>\n",
    "    <li><b>Importing Libraries and Dataset</b></li>\n",
    "    <li><b>Data Understanding</b></li>\n",
    "    <li><b>Exploratory Data Analysis</b></li>\n",
    "    <li><b>Sentiment Analysis and Feature Engineering</b></li>\n",
    "    <li><b>Encoding the Dataset</b></li>\n",
    "    <li><b>Impiuting the Null Values</b></li>\n",
    "    <li><b>Feature Selection</b></li>\n",
    "    <li><b>Balancing the Data</b></li>\n",
    "    <li><b>Model building</b></li>\n",
    "</ol>\n",
    "</h3>\n",
    "    "
   ]
  },
  {
   "cell_type": "markdown",
   "id": "4c1016ba",
   "metadata": {},
   "source": [
    "<h2>Importing Libraries and the Dataset</h2>"
   ]
  },
  {
   "cell_type": "code",
   "execution_count": 457,
   "id": "f811f432",
   "metadata": {},
   "outputs": [],
   "source": [
    "import numpy as np\n",
    "import pandas as pd\n",
    "import matplotlib.pyplot as plt\n",
    "import seaborn as sns\n",
    "import datetime\n",
    "import warnings\n",
    "warnings.filterwarnings('ignore')\n",
    "import string\n",
    "import nltk\n",
    "from nltk.tokenize import word_tokenize\n",
    "from nltk.corpus import stopwords\n",
    "from nltk.sentiment.vader import SentimentIntensityAnalyzer\n",
    "from sklearn.impute import KNNImputer\n",
    "from sklearn.preprocessing import LabelEncoder\n",
    "from statsmodels.stats.outliers_influence import variance_inflation_factor\n",
    "from sklearn.feature_selection import RFE\n",
    "import xgboost\n",
    "from xgboost import XGBClassifier\n",
    "from sklearn.model_selection import train_test_split\n",
    "from sklearn.metrics import classification_report, roc_auc_score, accuracy_score, confusion_matrix, roc_curve\n",
    "from sklearn.pipeline import make_pipeline\n",
    "from imblearn.over_sampling import SMOTE\n",
    "from sklearn.tree import DecisionTreeClassifier"
   ]
  },
  {
   "cell_type": "code",
   "execution_count": 213,
   "id": "76b4fd44",
   "metadata": {},
   "outputs": [
    {
     "name": "stderr",
     "output_type": "stream",
     "text": [
      "[nltk_data] Downloading package vader_lexicon to\n",
      "[nltk_data]     C:\\Users\\manas\\AppData\\Roaming\\nltk_data...\n",
      "[nltk_data]   Package vader_lexicon is already up-to-date!\n",
      "[nltk_data] Downloading package stopwords to\n",
      "[nltk_data]     C:\\Users\\manas\\AppData\\Roaming\\nltk_data...\n",
      "[nltk_data]   Package stopwords is already up-to-date!\n"
     ]
    },
    {
     "data": {
      "text/plain": [
       "True"
      ]
     },
     "execution_count": 213,
     "metadata": {},
     "output_type": "execute_result"
    }
   ],
   "source": [
    "nltk.download('vader_lexicon')\n",
    "nltk.download('stopwords')"
   ]
  },
  {
   "cell_type": "code",
   "execution_count": 291,
   "id": "3c5f2dc2",
   "metadata": {},
   "outputs": [],
   "source": [
    "airlines_data = pd.read_csv('Airline_review.csv')"
   ]
  },
  {
   "cell_type": "code",
   "execution_count": 292,
   "id": "c429b8e9",
   "metadata": {},
   "outputs": [
    {
     "data": {
      "text/html": [
       "<div>\n",
       "<style scoped>\n",
       "    .dataframe tbody tr th:only-of-type {\n",
       "        vertical-align: middle;\n",
       "    }\n",
       "\n",
       "    .dataframe tbody tr th {\n",
       "        vertical-align: top;\n",
       "    }\n",
       "\n",
       "    .dataframe thead th {\n",
       "        text-align: right;\n",
       "    }\n",
       "</style>\n",
       "<table border=\"1\" class=\"dataframe\">\n",
       "  <thead>\n",
       "    <tr style=\"text-align: right;\">\n",
       "      <th></th>\n",
       "      <th>Unnamed: 0</th>\n",
       "      <th>Airline Name</th>\n",
       "      <th>Overall_Rating</th>\n",
       "      <th>Review_Title</th>\n",
       "      <th>Review Date</th>\n",
       "      <th>Verified</th>\n",
       "      <th>Review</th>\n",
       "      <th>Aircraft</th>\n",
       "      <th>Type Of Traveller</th>\n",
       "      <th>Seat Type</th>\n",
       "      <th>Route</th>\n",
       "      <th>Date Flown</th>\n",
       "      <th>Seat Comfort</th>\n",
       "      <th>Cabin Staff Service</th>\n",
       "      <th>Food &amp; Beverages</th>\n",
       "      <th>Ground Service</th>\n",
       "      <th>Inflight Entertainment</th>\n",
       "      <th>Wifi &amp; Connectivity</th>\n",
       "      <th>Value For Money</th>\n",
       "      <th>Recommended</th>\n",
       "    </tr>\n",
       "  </thead>\n",
       "  <tbody>\n",
       "    <tr>\n",
       "      <th>0</th>\n",
       "      <td>0</td>\n",
       "      <td>AB Aviation</td>\n",
       "      <td>9</td>\n",
       "      <td>\"pretty decent airline\"</td>\n",
       "      <td>11th November 2019</td>\n",
       "      <td>True</td>\n",
       "      <td>Moroni to Moheli. Turned out to be a pretty ...</td>\n",
       "      <td>NaN</td>\n",
       "      <td>Solo Leisure</td>\n",
       "      <td>Economy Class</td>\n",
       "      <td>Moroni to Moheli</td>\n",
       "      <td>November 2019</td>\n",
       "      <td>4.0</td>\n",
       "      <td>5.0</td>\n",
       "      <td>4.0</td>\n",
       "      <td>4.0</td>\n",
       "      <td>NaN</td>\n",
       "      <td>NaN</td>\n",
       "      <td>3.0</td>\n",
       "      <td>yes</td>\n",
       "    </tr>\n",
       "    <tr>\n",
       "      <th>1</th>\n",
       "      <td>1</td>\n",
       "      <td>AB Aviation</td>\n",
       "      <td>1</td>\n",
       "      <td>\"Not a good airline\"</td>\n",
       "      <td>25th June 2019</td>\n",
       "      <td>True</td>\n",
       "      <td>Moroni to Anjouan. It is a very small airline...</td>\n",
       "      <td>E120</td>\n",
       "      <td>Solo Leisure</td>\n",
       "      <td>Economy Class</td>\n",
       "      <td>Moroni to Anjouan</td>\n",
       "      <td>June 2019</td>\n",
       "      <td>2.0</td>\n",
       "      <td>2.0</td>\n",
       "      <td>1.0</td>\n",
       "      <td>1.0</td>\n",
       "      <td>NaN</td>\n",
       "      <td>NaN</td>\n",
       "      <td>2.0</td>\n",
       "      <td>no</td>\n",
       "    </tr>\n",
       "  </tbody>\n",
       "</table>\n",
       "</div>"
      ],
      "text/plain": [
       "   Unnamed: 0 Airline Name Overall_Rating             Review_Title  \\\n",
       "0           0  AB Aviation              9  \"pretty decent airline\"   \n",
       "1           1  AB Aviation              1     \"Not a good airline\"   \n",
       "\n",
       "          Review Date  Verified  \\\n",
       "0  11th November 2019      True   \n",
       "1      25th June 2019      True   \n",
       "\n",
       "                                              Review Aircraft  \\\n",
       "0    Moroni to Moheli. Turned out to be a pretty ...      NaN   \n",
       "1   Moroni to Anjouan. It is a very small airline...     E120   \n",
       "\n",
       "  Type Of Traveller      Seat Type              Route     Date Flown  \\\n",
       "0      Solo Leisure  Economy Class   Moroni to Moheli  November 2019   \n",
       "1      Solo Leisure  Economy Class  Moroni to Anjouan      June 2019   \n",
       "\n",
       "   Seat Comfort  Cabin Staff Service  Food & Beverages  Ground Service  \\\n",
       "0           4.0                  5.0               4.0             4.0   \n",
       "1           2.0                  2.0               1.0             1.0   \n",
       "\n",
       "   Inflight Entertainment  Wifi & Connectivity  Value For Money Recommended  \n",
       "0                     NaN                  NaN              3.0         yes  \n",
       "1                     NaN                  NaN              2.0          no  "
      ]
     },
     "execution_count": 292,
     "metadata": {},
     "output_type": "execute_result"
    }
   ],
   "source": [
    "airlines_data.head(2)"
   ]
  },
  {
   "cell_type": "code",
   "execution_count": 293,
   "id": "e1544e3a",
   "metadata": {},
   "outputs": [
    {
     "data": {
      "text/plain": [
       "(23171, 20)"
      ]
     },
     "execution_count": 293,
     "metadata": {},
     "output_type": "execute_result"
    }
   ],
   "source": [
    "airlines_data.shape"
   ]
  },
  {
   "cell_type": "markdown",
   "id": "655e076f",
   "metadata": {},
   "source": [
    "<h5>The data has 23,171 and 20 columns </h5>"
   ]
  },
  {
   "cell_type": "markdown",
   "id": "20802bc6",
   "metadata": {},
   "source": [
    "<h2>2. Data Understanding</h2>"
   ]
  },
  {
   "cell_type": "code",
   "execution_count": 295,
   "id": "58bfeea8",
   "metadata": {},
   "outputs": [
    {
     "name": "stdout",
     "output_type": "stream",
     "text": [
      "<class 'pandas.core.frame.DataFrame'>\n",
      "RangeIndex: 23171 entries, 0 to 23170\n",
      "Data columns (total 20 columns):\n",
      " #   Column                  Non-Null Count  Dtype  \n",
      "---  ------                  --------------  -----  \n",
      " 0   Unnamed: 0              23171 non-null  int64  \n",
      " 1   Airline Name            23171 non-null  object \n",
      " 2   Overall_Rating          23171 non-null  object \n",
      " 3   Review_Title            23171 non-null  object \n",
      " 4   Review Date             23171 non-null  object \n",
      " 5   Verified                23171 non-null  bool   \n",
      " 6   Review                  23171 non-null  object \n",
      " 7   Aircraft                7129 non-null   object \n",
      " 8   Type Of Traveller       19433 non-null  object \n",
      " 9   Seat Type               22075 non-null  object \n",
      " 10  Route                   19343 non-null  object \n",
      " 11  Date Flown              19417 non-null  object \n",
      " 12  Seat Comfort            19016 non-null  float64\n",
      " 13  Cabin Staff Service     18911 non-null  float64\n",
      " 14  Food & Beverages        14500 non-null  float64\n",
      " 15  Ground Service          18378 non-null  float64\n",
      " 16  Inflight Entertainment  10829 non-null  float64\n",
      " 17  Wifi & Connectivity     5920 non-null   float64\n",
      " 18  Value For Money         22105 non-null  float64\n",
      " 19  Recommended             23171 non-null  object \n",
      "dtypes: bool(1), float64(7), int64(1), object(11)\n",
      "memory usage: 3.4+ MB\n"
     ]
    }
   ],
   "source": [
    "airlines_data.info()"
   ]
  },
  {
   "cell_type": "markdown",
   "id": "17053516",
   "metadata": {},
   "source": [
    "<ul>\n",
    "    <li>There are 11 object type columns</li>\n",
    "    <li>There are 8 numerical columns </li>\n",
    "    <li>There is one Boolean Column </li>"
   ]
  },
  {
   "cell_type": "code",
   "execution_count": 296,
   "id": "735eb15b",
   "metadata": {},
   "outputs": [
    {
     "data": {
      "text/html": [
       "<div>\n",
       "<style scoped>\n",
       "    .dataframe tbody tr th:only-of-type {\n",
       "        vertical-align: middle;\n",
       "    }\n",
       "\n",
       "    .dataframe tbody tr th {\n",
       "        vertical-align: top;\n",
       "    }\n",
       "\n",
       "    .dataframe thead th {\n",
       "        text-align: right;\n",
       "    }\n",
       "</style>\n",
       "<table border=\"1\" class=\"dataframe\">\n",
       "  <thead>\n",
       "    <tr style=\"text-align: right;\">\n",
       "      <th></th>\n",
       "      <th>Unnamed: 0</th>\n",
       "      <th>Seat Comfort</th>\n",
       "      <th>Cabin Staff Service</th>\n",
       "      <th>Food &amp; Beverages</th>\n",
       "      <th>Ground Service</th>\n",
       "      <th>Inflight Entertainment</th>\n",
       "      <th>Wifi &amp; Connectivity</th>\n",
       "      <th>Value For Money</th>\n",
       "    </tr>\n",
       "  </thead>\n",
       "  <tbody>\n",
       "    <tr>\n",
       "      <th>count</th>\n",
       "      <td>23171.00000</td>\n",
       "      <td>19016.000000</td>\n",
       "      <td>18911.000000</td>\n",
       "      <td>14500.000000</td>\n",
       "      <td>18378.000000</td>\n",
       "      <td>10829.000000</td>\n",
       "      <td>5920.000000</td>\n",
       "      <td>22105.000000</td>\n",
       "    </tr>\n",
       "    <tr>\n",
       "      <th>mean</th>\n",
       "      <td>11585.00000</td>\n",
       "      <td>2.618374</td>\n",
       "      <td>2.871609</td>\n",
       "      <td>2.553586</td>\n",
       "      <td>2.353738</td>\n",
       "      <td>2.179056</td>\n",
       "      <td>1.780405</td>\n",
       "      <td>2.451165</td>\n",
       "    </tr>\n",
       "    <tr>\n",
       "      <th>std</th>\n",
       "      <td>6689.03588</td>\n",
       "      <td>1.464840</td>\n",
       "      <td>1.604631</td>\n",
       "      <td>1.526314</td>\n",
       "      <td>1.595747</td>\n",
       "      <td>1.488839</td>\n",
       "      <td>1.318800</td>\n",
       "      <td>1.594155</td>\n",
       "    </tr>\n",
       "    <tr>\n",
       "      <th>min</th>\n",
       "      <td>0.00000</td>\n",
       "      <td>0.000000</td>\n",
       "      <td>0.000000</td>\n",
       "      <td>0.000000</td>\n",
       "      <td>1.000000</td>\n",
       "      <td>0.000000</td>\n",
       "      <td>0.000000</td>\n",
       "      <td>0.000000</td>\n",
       "    </tr>\n",
       "    <tr>\n",
       "      <th>25%</th>\n",
       "      <td>5792.50000</td>\n",
       "      <td>1.000000</td>\n",
       "      <td>1.000000</td>\n",
       "      <td>1.000000</td>\n",
       "      <td>1.000000</td>\n",
       "      <td>1.000000</td>\n",
       "      <td>1.000000</td>\n",
       "      <td>1.000000</td>\n",
       "    </tr>\n",
       "    <tr>\n",
       "      <th>50%</th>\n",
       "      <td>11585.00000</td>\n",
       "      <td>3.000000</td>\n",
       "      <td>3.000000</td>\n",
       "      <td>2.000000</td>\n",
       "      <td>1.000000</td>\n",
       "      <td>2.000000</td>\n",
       "      <td>1.000000</td>\n",
       "      <td>2.000000</td>\n",
       "    </tr>\n",
       "    <tr>\n",
       "      <th>75%</th>\n",
       "      <td>17377.50000</td>\n",
       "      <td>4.000000</td>\n",
       "      <td>4.000000</td>\n",
       "      <td>4.000000</td>\n",
       "      <td>4.000000</td>\n",
       "      <td>3.000000</td>\n",
       "      <td>2.000000</td>\n",
       "      <td>4.000000</td>\n",
       "    </tr>\n",
       "    <tr>\n",
       "      <th>max</th>\n",
       "      <td>23170.00000</td>\n",
       "      <td>5.000000</td>\n",
       "      <td>5.000000</td>\n",
       "      <td>5.000000</td>\n",
       "      <td>5.000000</td>\n",
       "      <td>5.000000</td>\n",
       "      <td>5.000000</td>\n",
       "      <td>5.000000</td>\n",
       "    </tr>\n",
       "  </tbody>\n",
       "</table>\n",
       "</div>"
      ],
      "text/plain": [
       "        Unnamed: 0  Seat Comfort  Cabin Staff Service  Food & Beverages  \\\n",
       "count  23171.00000  19016.000000         18911.000000      14500.000000   \n",
       "mean   11585.00000      2.618374             2.871609          2.553586   \n",
       "std     6689.03588      1.464840             1.604631          1.526314   \n",
       "min        0.00000      0.000000             0.000000          0.000000   \n",
       "25%     5792.50000      1.000000             1.000000          1.000000   \n",
       "50%    11585.00000      3.000000             3.000000          2.000000   \n",
       "75%    17377.50000      4.000000             4.000000          4.000000   \n",
       "max    23170.00000      5.000000             5.000000          5.000000   \n",
       "\n",
       "       Ground Service  Inflight Entertainment  Wifi & Connectivity  \\\n",
       "count    18378.000000            10829.000000          5920.000000   \n",
       "mean         2.353738                2.179056             1.780405   \n",
       "std          1.595747                1.488839             1.318800   \n",
       "min          1.000000                0.000000             0.000000   \n",
       "25%          1.000000                1.000000             1.000000   \n",
       "50%          1.000000                2.000000             1.000000   \n",
       "75%          4.000000                3.000000             2.000000   \n",
       "max          5.000000                5.000000             5.000000   \n",
       "\n",
       "       Value For Money  \n",
       "count     22105.000000  \n",
       "mean          2.451165  \n",
       "std           1.594155  \n",
       "min           0.000000  \n",
       "25%           1.000000  \n",
       "50%           2.000000  \n",
       "75%           4.000000  \n",
       "max           5.000000  "
      ]
     },
     "execution_count": 296,
     "metadata": {},
     "output_type": "execute_result"
    }
   ],
   "source": [
    "airlines_data.describe()"
   ]
  },
  {
   "cell_type": "code",
   "execution_count": 297,
   "id": "ecdeb7b4",
   "metadata": {},
   "outputs": [
    {
     "data": {
      "text/html": [
       "<div>\n",
       "<style scoped>\n",
       "    .dataframe tbody tr th:only-of-type {\n",
       "        vertical-align: middle;\n",
       "    }\n",
       "\n",
       "    .dataframe tbody tr th {\n",
       "        vertical-align: top;\n",
       "    }\n",
       "\n",
       "    .dataframe thead th {\n",
       "        text-align: right;\n",
       "    }\n",
       "</style>\n",
       "<table border=\"1\" class=\"dataframe\">\n",
       "  <thead>\n",
       "    <tr style=\"text-align: right;\">\n",
       "      <th></th>\n",
       "      <th>Airline Name</th>\n",
       "      <th>Overall_Rating</th>\n",
       "      <th>Review_Title</th>\n",
       "      <th>Review Date</th>\n",
       "      <th>Review</th>\n",
       "      <th>Aircraft</th>\n",
       "      <th>Type Of Traveller</th>\n",
       "      <th>Seat Type</th>\n",
       "      <th>Route</th>\n",
       "      <th>Date Flown</th>\n",
       "      <th>Recommended</th>\n",
       "    </tr>\n",
       "  </thead>\n",
       "  <tbody>\n",
       "    <tr>\n",
       "      <th>count</th>\n",
       "      <td>23171</td>\n",
       "      <td>23171</td>\n",
       "      <td>23171</td>\n",
       "      <td>23171</td>\n",
       "      <td>23171</td>\n",
       "      <td>7129</td>\n",
       "      <td>19433</td>\n",
       "      <td>22075</td>\n",
       "      <td>19343</td>\n",
       "      <td>19417</td>\n",
       "      <td>23171</td>\n",
       "    </tr>\n",
       "    <tr>\n",
       "      <th>unique</th>\n",
       "      <td>497</td>\n",
       "      <td>10</td>\n",
       "      <td>17219</td>\n",
       "      <td>4557</td>\n",
       "      <td>23046</td>\n",
       "      <td>1048</td>\n",
       "      <td>4</td>\n",
       "      <td>4</td>\n",
       "      <td>13607</td>\n",
       "      <td>109</td>\n",
       "      <td>2</td>\n",
       "    </tr>\n",
       "    <tr>\n",
       "      <th>top</th>\n",
       "      <td>Aeromexico</td>\n",
       "      <td>1</td>\n",
       "      <td>Onur Air customer review</td>\n",
       "      <td>16th July 2023</td>\n",
       "      <td>FRA-LUX in Y class. Short trip connecting in F...</td>\n",
       "      <td>A320</td>\n",
       "      <td>Solo Leisure</td>\n",
       "      <td>Economy Class</td>\n",
       "      <td>Melbourne to Sydney</td>\n",
       "      <td>June 2023</td>\n",
       "      <td>no</td>\n",
       "    </tr>\n",
       "    <tr>\n",
       "      <th>freq</th>\n",
       "      <td>100</td>\n",
       "      <td>11595</td>\n",
       "      <td>84</td>\n",
       "      <td>67</td>\n",
       "      <td>2</td>\n",
       "      <td>1041</td>\n",
       "      <td>7120</td>\n",
       "      <td>19145</td>\n",
       "      <td>43</td>\n",
       "      <td>1057</td>\n",
       "      <td>15364</td>\n",
       "    </tr>\n",
       "  </tbody>\n",
       "</table>\n",
       "</div>"
      ],
      "text/plain": [
       "       Airline Name Overall_Rating              Review_Title     Review Date  \\\n",
       "count         23171          23171                     23171           23171   \n",
       "unique          497             10                     17219            4557   \n",
       "top      Aeromexico              1  Onur Air customer review  16th July 2023   \n",
       "freq            100          11595                        84              67   \n",
       "\n",
       "                                                   Review Aircraft  \\\n",
       "count                                               23171     7129   \n",
       "unique                                              23046     1048   \n",
       "top     FRA-LUX in Y class. Short trip connecting in F...     A320   \n",
       "freq                                                    2     1041   \n",
       "\n",
       "       Type Of Traveller      Seat Type                Route Date Flown  \\\n",
       "count              19433          22075                19343      19417   \n",
       "unique                 4              4                13607        109   \n",
       "top         Solo Leisure  Economy Class  Melbourne to Sydney  June 2023   \n",
       "freq                7120          19145                   43       1057   \n",
       "\n",
       "       Recommended  \n",
       "count        23171  \n",
       "unique           2  \n",
       "top             no  \n",
       "freq         15364  "
      ]
     },
     "execution_count": 297,
     "metadata": {},
     "output_type": "execute_result"
    }
   ],
   "source": [
    "airlines_data.select_dtypes(include = 'object').describe()"
   ]
  },
  {
   "cell_type": "markdown",
   "id": "020188c1",
   "metadata": {},
   "source": [
    "<strong>Inferences</strong>\n",
    "<ul>\n",
    "    <li>Unnamed Column one is the ID Column of review</li>\n",
    "    <li>Multiple Columns have missing values.</li>\n",
    "    <li>Sentiment analysis must be performend on 'Review_Title' and 'Review' Columns.</li>\n",
    "</ul>"
   ]
  },
  {
   "cell_type": "code",
   "execution_count": 298,
   "id": "a348602a",
   "metadata": {},
   "outputs": [
    {
     "data": {
      "text/plain": [
       "Unnamed: 0                 0.000000\n",
       "Airline Name               0.000000\n",
       "Overall_Rating             0.000000\n",
       "Review_Title               0.000000\n",
       "Review Date                0.000000\n",
       "Verified                   0.000000\n",
       "Review                     0.000000\n",
       "Aircraft                  69.233093\n",
       "Type Of Traveller         16.132234\n",
       "Seat Type                  4.730050\n",
       "Route                     16.520651\n",
       "Date Flown                16.201286\n",
       "Seat Comfort              17.931898\n",
       "Cabin Staff Service       18.385050\n",
       "Food & Beverages          37.421777\n",
       "Ground Service            20.685339\n",
       "Inflight Entertainment    53.264857\n",
       "Wifi & Connectivity       74.450822\n",
       "Value For Money            4.600578\n",
       "Recommended                0.000000\n",
       "dtype: float64"
      ]
     },
     "execution_count": 298,
     "metadata": {},
     "output_type": "execute_result"
    }
   ],
   "source": [
    "#Checking Percentage of Null Values\n",
    "(airlines_data.isnull().sum()/airlines_data.shape[0])*100"
   ]
  },
  {
   "cell_type": "markdown",
   "id": "de1ca039",
   "metadata": {},
   "source": [
    "<strong>There are columns that have greater than 50% Null Values</strong>\n",
    "<p>Since it would be tought to impute these values, the columns with above 50% null values will be dropped</p>\n",
    "<p>Dropping Column one as well because it is an ID column and adds no information.</p>"
   ]
  },
  {
   "cell_type": "code",
   "execution_count": 299,
   "id": "ec072dd8",
   "metadata": {},
   "outputs": [],
   "source": [
    "airlines_data.drop(columns = ['Unnamed: 0','Aircraft','Inflight Entertainment','Wifi & Connectivity'], inplace = True)"
   ]
  },
  {
   "cell_type": "code",
   "execution_count": 300,
   "id": "f15001d1",
   "metadata": {},
   "outputs": [
    {
     "data": {
      "text/plain": [
       "120"
      ]
     },
     "execution_count": 300,
     "metadata": {},
     "output_type": "execute_result"
    }
   ],
   "source": [
    "airlines_data.duplicated().sum() "
   ]
  },
  {
   "cell_type": "markdown",
   "id": "dbab4557",
   "metadata": {},
   "source": [
    "<p>There appear to be 27 rows that are complete duplicates of another row. These rows must be dropped.</p>"
   ]
  },
  {
   "cell_type": "code",
   "execution_count": 301,
   "id": "ed888904",
   "metadata": {},
   "outputs": [],
   "source": [
    "airlines_data.drop_duplicates(inplace=True)"
   ]
  },
  {
   "cell_type": "markdown",
   "id": "ac7edf6b",
   "metadata": {},
   "source": [
    "<h2>3.Exploratory Data Analysis</h2>"
   ]
  },
  {
   "cell_type": "code",
   "execution_count": 302,
   "id": "a8ef2bb3",
   "metadata": {},
   "outputs": [
    {
     "data": {
      "text/plain": [
       "Frontier Airlines            100\n",
       "Jet Airways                  100\n",
       "SilkAir                      100\n",
       "Royal Air Maroc              100\n",
       "Allegiant Air                100\n",
       "Garuda Indonesia             100\n",
       "Korean Air                   100\n",
       "Lufthansa                    100\n",
       "Virgin America               100\n",
       "Lynx Air                     100\n",
       "Ethiopian Airlines           100\n",
       "AirAsia India                100\n",
       "British Airways              100\n",
       "Air Tahiti Nui               100\n",
       "Aeroflot Russian Airlines    100\n",
       "Volaris                      100\n",
       "Spirit Airlines              100\n",
       "LOT Polish Airlines          100\n",
       "Go First                     100\n",
       "Jetstar Pacific              100\n",
       "Name: Airline Name, dtype: int64"
      ]
     },
     "execution_count": 302,
     "metadata": {},
     "output_type": "execute_result"
    }
   ],
   "source": [
    "#Column by Column\n",
    "#Column : Airline Name\n",
    "airlines_data['Airline Name'].value_counts().head(20)"
   ]
  },
  {
   "cell_type": "markdown",
   "id": "3b18e35e",
   "metadata": {},
   "source": [
    "The dataset appears to be imalanced. We will understand the distribution on the number of times an airline occurs"
   ]
  },
  {
   "cell_type": "code",
   "execution_count": 303,
   "id": "6d3264f6",
   "metadata": {},
   "outputs": [
    {
     "data": {
      "text/plain": [
       "100    154\n",
       "1       42\n",
       "2       32\n",
       "4       22\n",
       "3       20\n",
       "7       12\n",
       "5       10\n",
       "9       10\n",
       "13       8\n",
       "14       8\n",
       "dtype: int64"
      ]
     },
     "execution_count": 303,
     "metadata": {},
     "output_type": "execute_result"
    }
   ],
   "source": [
    "pd.Series(airlines_data['Airline Name'].value_counts().values).value_counts().head(10)"
   ]
  },
  {
   "cell_type": "markdown",
   "id": "0b6daeff",
   "metadata": {},
   "source": [
    "<b>Inferences</b>\n",
    "<p>There appear to be some airplines that have occured only a handfull of times. (1-6) Since these total upto less than 150, all the airlines with less that 10 Occurances will be renames to 'Miscellaneous' inorder to avoid the hamperance they would have otherwise caused.<p>"
   ]
  },
  {
   "cell_type": "code",
   "execution_count": 304,
   "id": "50341e5a",
   "metadata": {},
   "outputs": [
    {
     "data": {
      "text/plain": [
       "157"
      ]
     },
     "execution_count": 304,
     "metadata": {},
     "output_type": "execute_result"
    }
   ],
   "source": [
    "temp = airlines_data['Airline Name'].value_counts()\n",
    "flights_to_rename = np.array(temp[temp < 10].index)\n",
    "len(flights_to_rename)"
   ]
  },
  {
   "cell_type": "code",
   "execution_count": 305,
   "id": "2bf5f494",
   "metadata": {},
   "outputs": [
    {
     "data": {
      "text/plain": [
       "Frontier Airlines          100\n",
       "Jet Airways                100\n",
       "SilkAir                    100\n",
       "Royal Air Maroc            100\n",
       "Allegiant Air              100\n",
       "                          ... \n",
       "TransNusa                    1\n",
       "NextJet                      1\n",
       "MEGA Maldives Airlines       1\n",
       "Manta Air                    1\n",
       "Cambodia Bayon Airlines      1\n",
       "Name: Airline Name, Length: 497, dtype: int64"
      ]
     },
     "execution_count": 305,
     "metadata": {},
     "output_type": "execute_result"
    }
   ],
   "source": [
    "airlines_data['Airline Name'].value_counts()"
   ]
  },
  {
   "cell_type": "markdown",
   "id": "65cb2a34",
   "metadata": {},
   "source": [
    "<strong>Doing this will help when we Encode this data in the future. We will reduce the overall dimensionality of this column</strong>"
   ]
  },
  {
   "cell_type": "code",
   "execution_count": 306,
   "id": "4353e8de",
   "metadata": {},
   "outputs": [
    {
     "data": {
      "text/plain": [
       "array(['Air KBZ', 'Thomas Cook Airlines Scandinavia',\n",
       "       'Africa World Airlines', 'TAR Aerolineas', 'Ravn Alaska'],\n",
       "      dtype=object)"
      ]
     },
     "execution_count": 306,
     "metadata": {},
     "output_type": "execute_result"
    }
   ],
   "source": [
    "flights_to_rename[:5]"
   ]
  },
  {
   "cell_type": "code",
   "execution_count": 307,
   "id": "a4ece5e2",
   "metadata": {},
   "outputs": [],
   "source": [
    "airlines_data.replace(flights_to_rename, 'Miscellaneuous', inplace=True)"
   ]
  },
  {
   "cell_type": "code",
   "execution_count": 308,
   "id": "43050413",
   "metadata": {},
   "outputs": [
    {
     "data": {
      "text/plain": [
       "1    11587\n",
       "2     2294\n",
       "9     1768\n",
       "8     1756\n",
       "3     1353\n",
       "7     1193\n",
       "4      853\n",
       "5      826\n",
       "n      749\n",
       "6      672\n",
       "Name: Overall_Rating, dtype: int64"
      ]
     },
     "execution_count": 308,
     "metadata": {},
     "output_type": "execute_result"
    }
   ],
   "source": [
    "#overall rating column\n",
    "airlines_data['Overall_Rating'].value_counts()"
   ]
  },
  {
   "cell_type": "markdown",
   "id": "b5c5be8c",
   "metadata": {},
   "source": [
    "<p>There appears to be an entry of 'n' where all data should ideally be numeric</p>\n",
    "<b>Identifying and correccting this error</b>"
   ]
  },
  {
   "cell_type": "code",
   "execution_count": 309,
   "id": "20605871",
   "metadata": {},
   "outputs": [
    {
     "data": {
      "text/plain": [
       "Airline Name                                               Adria Airways\n",
       "Overall_Rating                                                         n\n",
       "Review_Title                               Adria Airways customer review\n",
       "Review Date                                             4th October 2007\n",
       "Verified                                                           False\n",
       "Review                 BRU-LJU-BRU. Outward flight on a CRJ200 very n...\n",
       "Type Of Traveller                                                    NaN\n",
       "Seat Type                                                            NaN\n",
       "Route                                                                NaN\n",
       "Date Flown                                                           NaN\n",
       "Seat Comfort                                                         NaN\n",
       "Cabin Staff Service                                                  NaN\n",
       "Food & Beverages                                                     NaN\n",
       "Ground Service                                                       NaN\n",
       "Value For Money                                                      NaN\n",
       "Recommended                                                           no\n",
       "Name: 77, dtype: object"
      ]
     },
     "execution_count": 309,
     "metadata": {},
     "output_type": "execute_result"
    }
   ],
   "source": [
    "airlines_data[airlines_data['Overall_Rating'] == 'n'].iloc[0]"
   ]
  },
  {
   "cell_type": "markdown",
   "id": "f3568b97",
   "metadata": {},
   "source": [
    "It appears that 'n' appears whenever the review is not verifiied and/or the data fron other columns is missing.\n",
    "Let us confirm this by reviewing other columns where the value in 'Overall_Rating' is 'n'."
   ]
  },
  {
   "cell_type": "code",
   "execution_count": 310,
   "id": "1a0c94e7",
   "metadata": {},
   "outputs": [
    {
     "data": {
      "text/plain": [
       "Airline Name             0.000000\n",
       "Overall_Rating           0.000000\n",
       "Review_Title             0.000000\n",
       "Review Date              0.000000\n",
       "Verified                 0.000000\n",
       "Review                   0.000000\n",
       "Type Of Traveller      100.000000\n",
       "Seat Type               58.210948\n",
       "Route                  100.000000\n",
       "Date Flown             100.000000\n",
       "Seat Comfort            76.368491\n",
       "Cabin Staff Service     76.368491\n",
       "Food & Beverages        76.368491\n",
       "Ground Service         100.000000\n",
       "Value For Money         57.810414\n",
       "Recommended              0.000000\n",
       "dtype: float64"
      ]
     },
     "execution_count": 310,
     "metadata": {},
     "output_type": "execute_result"
    }
   ],
   "source": [
    "(airlines_data[airlines_data['Overall_Rating'] == 'n'].isnull().sum()/airlines_data[airlines_data['Overall_Rating'] == 'n'].shape[0])*100"
   ]
  },
  {
   "cell_type": "code",
   "execution_count": 311,
   "id": "965a95ba",
   "metadata": {},
   "outputs": [
    {
     "data": {
      "text/plain": [
       "False    749\n",
       "Name: Verified, dtype: int64"
      ]
     },
     "execution_count": 311,
     "metadata": {},
     "output_type": "execute_result"
    }
   ],
   "source": [
    "airlines_data[airlines_data['Overall_Rating'] == 'n']['Verified'].value_counts()"
   ]
  },
  {
   "cell_type": "code",
   "execution_count": 312,
   "id": "0226e0bd",
   "metadata": {},
   "outputs": [
    {
     "data": {
      "text/plain": [
       "True     12319\n",
       "False    10732\n",
       "Name: Verified, dtype: int64"
      ]
     },
     "execution_count": 312,
     "metadata": {},
     "output_type": "execute_result"
    }
   ],
   "source": [
    "airlines_data['Verified'].value_counts()"
   ]
  },
  {
   "cell_type": "code",
   "execution_count": 313,
   "id": "695f7a7d",
   "metadata": {},
   "outputs": [
    {
     "data": {
      "text/plain": [
       "Airline Name                 NaN\n",
       "Overall_Rating               NaN\n",
       "Review_Title                 NaN\n",
       "Review Date                  NaN\n",
       "Verified                     NaN\n",
       "Review                       NaN\n",
       "Type Of Traveller      20.650675\n",
       "Seat Type              44.084934\n",
       "Route                  20.156082\n",
       "Date Flown             20.565623\n",
       "Seat Comfort           14.144411\n",
       "Cabin Staff Service    13.786455\n",
       "Food & Beverages        6.686148\n",
       "Ground Service         15.997437\n",
       "Value For Money        45.151199\n",
       "Recommended                  NaN\n",
       "dtype: float64"
      ]
     },
     "execution_count": 313,
     "metadata": {},
     "output_type": "execute_result"
    }
   ],
   "source": [
    "(airlines_data[airlines_data['Overall_Rating'] == 'n'].isnull().sum()/airlines_data.isnull().sum())*100"
   ]
  },
  {
   "cell_type": "code",
   "execution_count": 314,
   "id": "83ef7bf0",
   "metadata": {},
   "outputs": [
    {
     "data": {
      "text/plain": [
       "(23051, 16)"
      ]
     },
     "execution_count": 314,
     "metadata": {},
     "output_type": "execute_result"
    }
   ],
   "source": [
    "airlines_data.shape"
   ]
  },
  {
   "cell_type": "markdown",
   "id": "98ab14e2",
   "metadata": {},
   "source": [
    "<b>Inferences</b>\n",
    "<p>It can be inferred that data graines that have an Overall_Rating of 'n' have higher amounts of Null values in their correspoding row entries.</p>\n",
    "<p>This could signify that these entries are not completely valid and have be errantly entered.</p>\n",
    "<p>Given this, it is best to drop rows with this error.</p>"
   ]
  },
  {
   "cell_type": "code",
   "execution_count": 315,
   "id": "b158c042",
   "metadata": {},
   "outputs": [],
   "source": [
    "airlines_data.drop(index = airlines_data[airlines_data['Overall_Rating'] == 'n'].index, inplace=True)"
   ]
  },
  {
   "cell_type": "code",
   "execution_count": 316,
   "id": "38dee6d6",
   "metadata": {},
   "outputs": [
    {
     "data": {
      "text/plain": [
       "Airline Name            0.000000\n",
       "Overall_Rating          0.000000\n",
       "Review_Title            0.000000\n",
       "Review Date             0.000000\n",
       "Verified                0.000000\n",
       "Review                  0.000000\n",
       "Type Of Traveller      12.904672\n",
       "Seat Type               2.479598\n",
       "Route                  13.303740\n",
       "Date Flown             12.971931\n",
       "Seat Comfort           15.568110\n",
       "Cabin Staff Service    16.038920\n",
       "Food & Beverages       35.794996\n",
       "Ground Service         17.635190\n",
       "Value For Money         2.358533\n",
       "Recommended             0.000000\n",
       "dtype: float64"
      ]
     },
     "execution_count": 316,
     "metadata": {},
     "output_type": "execute_result"
    }
   ],
   "source": [
    "(airlines_data.isnull().sum()/airlines_data.shape[0])*100"
   ]
  },
  {
   "cell_type": "code",
   "execution_count": 317,
   "id": "198d9eaf",
   "metadata": {},
   "outputs": [
    {
     "data": {
      "text/plain": [
       "(22302, 16)"
      ]
     },
     "execution_count": 317,
     "metadata": {},
     "output_type": "execute_result"
    }
   ],
   "source": [
    "airlines_data.shape"
   ]
  },
  {
   "cell_type": "markdown",
   "id": "d0f8cad9",
   "metadata": {},
   "source": [
    "Significantly Lower number of Null Values in the Dataset, with a very small sacrifice on information loss."
   ]
  },
  {
   "cell_type": "code",
   "execution_count": 318,
   "id": "64c2d704",
   "metadata": {},
   "outputs": [
    {
     "data": {
      "text/plain": [
       "<AxesSubplot:>"
      ]
     },
     "execution_count": 318,
     "metadata": {},
     "output_type": "execute_result"
    },
    {
     "data": {
      "image/png": "[encoded data removed]",
      "text/plain": [
       "<Figure size 504x504 with 1 Axes>"
      ]
     },
     "metadata": {
      "needs_background": "light"
     },
     "output_type": "display_data"
    }
   ],
   "source": [
    "temp = airlines_data['Overall_Rating'].value_counts().sort_index()\n",
    "plt.figure(figsize=(7,7))\n",
    "sns.barplot(y = temp.index, x = temp.values)"
   ]
  },
  {
   "cell_type": "markdown",
   "id": "31162362",
   "metadata": {},
   "source": [
    "<b>Most of the overall reviews appear to be '1' or a largely Negative Review.<b>"
   ]
  },
  {
   "cell_type": "code",
   "execution_count": 319,
   "id": "85b4420c",
   "metadata": {},
   "outputs": [
    {
     "data": {
      "text/plain": [
       "str"
      ]
     },
     "execution_count": 319,
     "metadata": {},
     "output_type": "execute_result"
    }
   ],
   "source": [
    "#Column 'Review_Title'\n",
    "type(airlines_data['Review_Title'][0])"
   ]
  },
  {
   "cell_type": "code",
   "execution_count": 320,
   "id": "d5280301",
   "metadata": {},
   "outputs": [
    {
     "data": {
      "text/plain": [
       "5085"
      ]
     },
     "execution_count": 320,
     "metadata": {},
     "output_type": "execute_result"
    }
   ],
   "source": [
    "airlines_data['Review_Title'].duplicated().sum()"
   ]
  },
  {
   "cell_type": "code",
   "execution_count": 321,
   "id": "57bb1c19",
   "metadata": {},
   "outputs": [
    {
     "data": {
      "text/plain": [
       "4"
      ]
     },
     "execution_count": 321,
     "metadata": {},
     "output_type": "execute_result"
    }
   ],
   "source": [
    "airlines_data['Review'].duplicated().sum()"
   ]
  },
  {
   "cell_type": "markdown",
   "id": "24b5f0a7",
   "metadata": {},
   "source": [
    "<b>Inferences</b>\n",
    "\n",
    "Although there appear to be 5085 rows of data where the review title is duplicated, there are very few duplicated reviews, which means there are no double entires."
   ]
  },
  {
   "cell_type": "code",
   "execution_count": 322,
   "id": "78bf2197",
   "metadata": {},
   "outputs": [
    {
     "data": {
      "text/plain": [
       "Onur Air customer review              67\n",
       "CityJet customer review               65\n",
       "Germanwings customer review           65\n",
       "US Airways customer review            60\n",
       "Dragonair customer review             60\n",
       "TAM Airlines customer review          59\n",
       "Meridiana customer review             55\n",
       "Olympic Air customer review           55\n",
       "Cubana Airlines customer review       52\n",
       "Shanghai Airlines customer review     50\n",
       "Croatia Airlines customer review      49\n",
       "Transaero Airlines customer review    49\n",
       "QantasLink customer review            49\n",
       "Openskies customer review             48\n",
       "LAN Airlines customer review          46\n",
       "Air Namibia customer review           45\n",
       "Air Tahiti Nui customer review        45\n",
       "Lao Skyway customer review            43\n",
       "Bulgaria Air customer review          43\n",
       "Firefly customer review               41\n",
       "Air Dolomiti customer review          40\n",
       "\"Worst airline ever\"                  40\n",
       "Eastern Airways customer review       40\n",
       "Caribbean Airlines customer review    39\n",
       "Phuket Air customer review            38\n",
       "BA CityFlyer customer review          38\n",
       "Uzbekistan Airways customer review    37\n",
       "Tunisair customer review              36\n",
       "Aurigny Air customer review           36\n",
       "Monarch Airlines customer review      35\n",
       "Name: Review_Title, dtype: int64"
      ]
     },
     "execution_count": 322,
     "metadata": {},
     "output_type": "execute_result"
    }
   ],
   "source": [
    "airlines_data['Review_Title'].value_counts().head(30)"
   ]
  },
  {
   "cell_type": "markdown",
   "id": "036babf7",
   "metadata": {},
   "source": [
    "The reason for the duplication in the column appears to be because of the Generalized review title format that the airlines and reporting gateway company seem to follow.\n",
    "\n",
    "We will have to keep this is mind when performing Sentiment Analysis on this column."
   ]
  },
  {
   "cell_type": "code",
   "execution_count": 323,
   "id": "72ef9305",
   "metadata": {},
   "outputs": [
    {
     "data": {
      "text/plain": [
       "str"
      ]
     },
     "execution_count": 323,
     "metadata": {},
     "output_type": "execute_result"
    }
   ],
   "source": [
    "#Review Data Column\n",
    "type(airlines_data['Review Date'][0])"
   ]
  },
  {
   "cell_type": "code",
   "execution_count": 324,
   "id": "f291edc0",
   "metadata": {},
   "outputs": [],
   "source": [
    "def date_convertor(x):\n",
    "    try: \n",
    "        return datetime.datetime.strptime(x,'%dth %B %Y')\n",
    "    except:\n",
    "        try:            \n",
    "            return datetime.datetime.strptime(x,'%drd %B %Y')\n",
    "        except:\n",
    "            try:\n",
    "                return datetime.datetime.strptime(x,'%dst %B %Y')\n",
    "            except:\n",
    "                return datetime.datetime.strptime(x,'%dnd %B %Y')\n",
    "                "
   ]
  },
  {
   "cell_type": "code",
   "execution_count": 325,
   "id": "1a1ac0eb",
   "metadata": {},
   "outputs": [],
   "source": [
    "airlines_data['Review Date']=airlines_data['Review Date'].apply(date_convertor)"
   ]
  },
  {
   "cell_type": "code",
   "execution_count": 326,
   "id": "455472f8",
   "metadata": {},
   "outputs": [
    {
     "data": {
      "text/plain": [
       "(0, 'Monday')"
      ]
     },
     "execution_count": 326,
     "metadata": {},
     "output_type": "execute_result"
    }
   ],
   "source": [
    "airlines_data['Review Date'][0].dayofweek, airlines_data['Review Date'][0].day_name()"
   ]
  },
  {
   "cell_type": "markdown",
   "id": "14fda88c",
   "metadata": {},
   "source": [
    "<strong>We can now use this datetime column to generate more relevant features when in our Feature Engineering section of the project.</strong>"
   ]
  },
  {
   "cell_type": "code",
   "execution_count": 327,
   "id": "a750ebb7",
   "metadata": {},
   "outputs": [
    {
     "data": {
      "text/plain": [
       "True     55.237198\n",
       "False    44.762802\n",
       "Name: Verified, dtype: float64"
      ]
     },
     "execution_count": 327,
     "metadata": {},
     "output_type": "execute_result"
    }
   ],
   "source": [
    "airlines_data['Verified'].value_counts(normalize=True)*100"
   ]
  },
  {
   "cell_type": "markdown",
   "id": "3e2daa69",
   "metadata": {},
   "source": [
    "Around 55% of the reviews in this dataset appear to be Verified, where as the rest do not. We will explore more of this when we generate correlation plots and heatmaps from this dataset in the Data Visualization Section of this course."
   ]
  },
  {
   "cell_type": "code",
   "execution_count": 328,
   "id": "c41c995f",
   "metadata": {},
   "outputs": [
    {
     "data": {
      "text/plain": [
       "0      Moroni to Moheli. Turned out to be a pretty ...\n",
       "1     Moroni to Anjouan. It is a very small airline...\n",
       "2      Anjouan to Dzaoudzi. A very small airline an...\n",
       "3      Please do a favor yourself and do not fly wi...\n",
       "4     Do not book a flight with this airline! My fr...\n",
       "Name: Review, dtype: object"
      ]
     },
     "execution_count": 328,
     "metadata": {},
     "output_type": "execute_result"
    }
   ],
   "source": [
    "airlines_data['Review'].head()"
   ]
  },
  {
   "cell_type": "markdown",
   "id": "1cb6122e",
   "metadata": {},
   "source": [
    "The reviews column has text. Let us analyse how long the text is and wheather there are any duplicates"
   ]
  },
  {
   "cell_type": "code",
   "execution_count": 329,
   "id": "7ffc7773",
   "metadata": {},
   "outputs": [
    {
     "data": {
      "text/plain": [
       "4"
      ]
     },
     "execution_count": 329,
     "metadata": {},
     "output_type": "execute_result"
    }
   ],
   "source": [
    "airlines_data['Review'].duplicated().sum()"
   ]
  },
  {
   "cell_type": "markdown",
   "id": "ed9ecec3",
   "metadata": {},
   "source": [
    "Since there are only 4 duplicates we can keep them. They can be attributed to a general filler review."
   ]
  },
  {
   "cell_type": "code",
   "execution_count": 330,
   "id": "7f2e626b",
   "metadata": {},
   "outputs": [
    {
     "data": {
      "text/plain": [
       "352"
      ]
     },
     "execution_count": 330,
     "metadata": {},
     "output_type": "execute_result"
    }
   ],
   "source": [
    "len(airlines_data['Review'][0])"
   ]
  },
  {
   "cell_type": "code",
   "execution_count": 331,
   "id": "ceb0503a",
   "metadata": {},
   "outputs": [
    {
     "data": {
      "text/plain": [
       "23166     Bangkok to Tokyo. I’ve flown many low cost ai...\n",
       "23167      Avoid at all costs. I booked flights to go f...\n",
       "23168      Flight was leaving at 23.15 and after an hou...\n",
       "23169     Zipair is JAL’s budget airline. They don’t ha...\n",
       "23170      They lied about connection in Narita and we ...\n",
       "Name: Review, dtype: object"
      ]
     },
     "execution_count": 331,
     "metadata": {},
     "output_type": "execute_result"
    }
   ],
   "source": [
    "airlines_data['Review'].tail()"
   ]
  },
  {
   "cell_type": "markdown",
   "id": "28a0644c",
   "metadata": {},
   "source": [
    "Appropriate Stemming, followed by Sentiment Analysis must be done on this column at the time of Feature Engineering."
   ]
  },
  {
   "cell_type": "code",
   "execution_count": 332,
   "id": "2dc15ef6",
   "metadata": {},
   "outputs": [
    {
     "data": {
      "text/plain": [
       "<BarContainer object of 4 artists>"
      ]
     },
     "execution_count": 332,
     "metadata": {},
     "output_type": "execute_result"
    },
    {
     "data": {
      "image/png": "[encoded data removed]",
      "text/plain": [
       "<Figure size 720x720 with 1 Axes>"
      ]
     },
     "metadata": {
      "needs_background": "light"
     },
     "output_type": "display_data"
    }
   ],
   "source": [
    "plt.figure(figsize = (10,10))\n",
    "plt.bar(x = airlines_data['Type Of Traveller'].value_counts().index, height = airlines_data['Type Of Traveller'].value_counts().values)"
   ]
  },
  {
   "cell_type": "markdown",
   "id": "ec467e67",
   "metadata": {},
   "source": [
    "There appear to be the most number of travellers in the Solo Leasure Column."
   ]
  },
  {
   "cell_type": "code",
   "execution_count": 333,
   "id": "253047c3",
   "metadata": {},
   "outputs": [
    {
     "data": {
      "text/plain": [
       "<AxesSubplot:xlabel='Type Of Traveller', ylabel='count'>"
      ]
     },
     "execution_count": 333,
     "metadata": {},
     "output_type": "execute_result"
    },
    {
     "data": {
      "image/png": "[encoded data removed]",
      "text/plain": [
       "<Figure size 432x288 with 1 Axes>"
      ]
     },
     "metadata": {
      "needs_background": "light"
     },
     "output_type": "display_data"
    }
   ],
   "source": [
    "sns.countplot(airlines_data['Type Of Traveller'], hue=airlines_data['Recommended'])"
   ]
  },
  {
   "cell_type": "code",
   "execution_count": 334,
   "id": "de57d690",
   "metadata": {},
   "outputs": [
    {
     "data": {
      "text/plain": [
       "Index(['Airline Name', 'Overall_Rating', 'Review_Title', 'Review Date',\n",
       "       'Verified', 'Review', 'Type Of Traveller', 'Seat Type', 'Route',\n",
       "       'Date Flown', 'Seat Comfort', 'Cabin Staff Service', 'Food & Beverages',\n",
       "       'Ground Service', 'Value For Money', 'Recommended'],\n",
       "      dtype='object')"
      ]
     },
     "execution_count": 334,
     "metadata": {},
     "output_type": "execute_result"
    }
   ],
   "source": [
    "airlines_data.columns"
   ]
  },
  {
   "cell_type": "code",
   "execution_count": 335,
   "id": "eed63f4f",
   "metadata": {},
   "outputs": [],
   "source": [
    "airlines_data.drop(columns='Route', inplace = True)"
   ]
  },
  {
   "cell_type": "markdown",
   "id": "fcb15dab",
   "metadata": {},
   "source": [
    "We dropped the routes column as it has a high number of categories. This would prove difficult at the time of encoding and be an overall hinderance to our final model."
   ]
  },
  {
   "cell_type": "code",
   "execution_count": 336,
   "id": "ac5064d2",
   "metadata": {},
   "outputs": [
    {
     "name": "stdout",
     "output_type": "stream",
     "text": [
      "The column Airline Name has : 341 unique Values\n",
      "The column Overall_Rating has : 9 unique Values\n",
      "The column Review_Title has : 17217 unique Values\n",
      "The column Review has : 22298 unique Values\n",
      "The column Type Of Traveller has : 4 unique Values\n",
      "The column Seat Type has : 4 unique Values\n",
      "The column Date Flown has : 109 unique Values\n",
      "The column Recommended has : 2 unique Values\n"
     ]
    }
   ],
   "source": [
    "categorical_columns = airlines_data.select_dtypes(include = 'object')\n",
    "for i in categorical_columns:\n",
    "    print(f\"The column {i} has : {airlines_data[i].nunique()} unique Values\")"
   ]
  },
  {
   "cell_type": "code",
   "execution_count": 337,
   "id": "30e38363",
   "metadata": {},
   "outputs": [
    {
     "data": {
      "text/plain": [
       "0    November 2019\n",
       "1        June 2019\n",
       "Name: Date Flown, dtype: object"
      ]
     },
     "execution_count": 337,
     "metadata": {},
     "output_type": "execute_result"
    }
   ],
   "source": [
    "airlines_data['Date Flown'].head(2)"
   ]
  },
  {
   "cell_type": "code",
   "execution_count": 338,
   "id": "bd62cf66",
   "metadata": {},
   "outputs": [],
   "source": [
    "def date_flown_converter(x):\n",
    "    try:\n",
    "        return datetime.datetime.strptime(x,'%B %Y')\n",
    "    except:\n",
    "        return np.nan"
   ]
  },
  {
   "cell_type": "code",
   "execution_count": 339,
   "id": "8f3451e9",
   "metadata": {},
   "outputs": [],
   "source": [
    "airlines_data['Date Flown'] = airlines_data['Date Flown'].apply(date_flown_converter)"
   ]
  },
  {
   "cell_type": "code",
   "execution_count": 340,
   "id": "d457da83",
   "metadata": {},
   "outputs": [
    {
     "data": {
      "text/plain": [
       "Timestamp('2019-11-01 00:00:00')"
      ]
     },
     "execution_count": 340,
     "metadata": {},
     "output_type": "execute_result"
    }
   ],
   "source": [
    "airlines_data['Date Flown'][0]"
   ]
  },
  {
   "cell_type": "markdown",
   "id": "3b8219bd",
   "metadata": {},
   "source": [
    "We now have usefull data of when the flight was flown and how it was flown"
   ]
  },
  {
   "cell_type": "markdown",
   "id": "a4b09321",
   "metadata": {},
   "source": [
    "<h3>3.1\n",
    "    Data Visualizations</h3>"
   ]
  },
  {
   "cell_type": "code",
   "execution_count": 341,
   "id": "59cef13c",
   "metadata": {},
   "outputs": [
    {
     "data": {
      "text/plain": [
       "<AxesSubplot:xlabel='Overall_Rating', ylabel='count'>"
      ]
     },
     "execution_count": 341,
     "metadata": {},
     "output_type": "execute_result"
    },
    {
     "data": {
      "image/png": "[encoded data removed]",
      "text/plain": [
       "<Figure size 432x288 with 1 Axes>"
      ]
     },
     "metadata": {
      "needs_background": "light"
     },
     "output_type": "display_data"
    }
   ],
   "source": [
    "sns.countplot(airlines_data['Overall_Rating'],hue=airlines_data['Recommended'])"
   ]
  },
  {
   "cell_type": "code",
   "execution_count": 342,
   "id": "28f18b1a",
   "metadata": {},
   "outputs": [
    {
     "data": {
      "image/png": "[encoded data removed]",
      "text/plain": [
       "<Figure size 576x288 with 1 Axes>"
      ]
     },
     "metadata": {
      "needs_background": "light"
     },
     "output_type": "display_data"
    },
    {
     "data": {
      "image/png": "[encoded data removed]",
      "text/plain": [
       "<Figure size 576x288 with 1 Axes>"
      ]
     },
     "metadata": {
      "needs_background": "light"
     },
     "output_type": "display_data"
    },
    {
     "data": {
      "image/png": "[encoded data removed]",
      "text/plain": [
       "<Figure size 576x288 with 1 Axes>"
      ]
     },
     "metadata": {
      "needs_background": "light"
     },
     "output_type": "display_data"
    },
    {
     "data": {
      "image/png": "[encoded data removed]",
      "text/plain": [
       "<Figure size 576x288 with 1 Axes>"
      ]
     },
     "metadata": {
      "needs_background": "light"
     },
     "output_type": "display_data"
    },
    {
     "data": {
      "image/png": "[encoded data removed]",
      "text/plain": [
       "<Figure size 576x288 with 1 Axes>"
      ]
     },
     "metadata": {
      "needs_background": "light"
     },
     "output_type": "display_data"
    }
   ],
   "source": [
    "numerical_columns = airlines_data.select_dtypes(include='number').columns\n",
    "for col in numerical_columns:\n",
    "    plt.figure(figsize = (8,4))\n",
    "    sns.kdeplot(airlines_data[col])\n",
    "    plt.show()"
   ]
  },
  {
   "cell_type": "code",
   "execution_count": 343,
   "id": "03edf079",
   "metadata": {},
   "outputs": [
    {
     "data": {
      "image/png": "[encoded data removed]",
      "text/plain": [
       "<Figure size 432x288 with 1 Axes>"
      ]
     },
     "metadata": {
      "needs_background": "light"
     },
     "output_type": "display_data"
    },
    {
     "data": {
      "image/png": "[encoded data removed]",
      "text/plain": [
       "<Figure size 432x288 with 1 Axes>"
      ]
     },
     "metadata": {
      "needs_background": "light"
     },
     "output_type": "display_data"
    },
    {
     "data": {
      "image/png": "[encoded data removed]",
      "text/plain": [
       "<Figure size 432x288 with 1 Axes>"
      ]
     },
     "metadata": {
      "needs_background": "light"
     },
     "output_type": "display_data"
    }
   ],
   "source": [
    "categorical_columns = airlines_data.select_dtypes(include='object').columns\n",
    "for col in categorical_columns:\n",
    "    if airlines_data[col].nunique()>50 or col == 'Recommended':\n",
    "        continue\n",
    "    else:\n",
    "        \n",
    "        sns.countplot(airlines_data[col], hue = airlines_data['Recommended'])\n",
    "        plt.show()"
   ]
  },
  {
   "cell_type": "code",
   "execution_count": 344,
   "id": "d2ebea2e",
   "metadata": {},
   "outputs": [
    {
     "data": {
      "text/plain": [
       "<AxesSubplot:>"
      ]
     },
     "execution_count": 344,
     "metadata": {},
     "output_type": "execute_result"
    },
    {
     "data": {
      "image/png": "[encoded data removed]",
      "text/plain": [
       "<Figure size 432x288 with 2 Axes>"
      ]
     },
     "metadata": {
      "needs_background": "light"
     },
     "output_type": "display_data"
    }
   ],
   "source": [
    "sns.heatmap(airlines_data.corr(), vmin = -1, vmax = 1, annot = True, cmap='Blues')"
   ]
  },
  {
   "cell_type": "markdown",
   "id": "6c3eaec9",
   "metadata": {},
   "source": [
    "<strong>Inferences</strong>\n",
    "<ul>\n",
    "    <li>Overall Rating - as obivous indicates the most number of 'Non Recommnderors' to those that have a lower overall rating.</li>\n",
    "    <li>A higher percentage of people flying from economy class have chosen not to recommend the flight to others.</li>\n",
    "    <li>There appears to be high multi-collinearity in the dataset. We will re-examine this issue after feature engineering.</li>"
   ]
  },
  {
   "cell_type": "code",
   "execution_count": 345,
   "id": "e22d8911",
   "metadata": {},
   "outputs": [
    {
     "data": {
      "text/plain": [
       "no     14506\n",
       "yes     7796\n",
       "Name: Recommended, dtype: int64"
      ]
     },
     "execution_count": 345,
     "metadata": {},
     "output_type": "execute_result"
    }
   ],
   "source": [
    "airlines_data['Recommended'].value_counts()"
   ]
  },
  {
   "cell_type": "markdown",
   "id": "573830ca",
   "metadata": {},
   "source": [
    "The data appears to be imbalanced. We might have to employ oversampling or undersampling techniques to balance the dataset."
   ]
  },
  {
   "cell_type": "markdown",
   "id": "7ee7b518",
   "metadata": {},
   "source": [
    "<h3>3.Sentiment analysis and Feature Engineering</h3>"
   ]
  },
  {
   "cell_type": "code",
   "execution_count": 279,
   "id": "adc099c8",
   "metadata": {},
   "outputs": [
    {
     "data": {
      "text/plain": [
       "Index(['Airline Name', 'Overall_Rating', 'Review_Title', 'Review Date',\n",
       "       'Verified', 'Review', 'Type Of Traveller', 'Seat Type', 'Date Flown',\n",
       "       'Seat Comfort', 'Cabin Staff Service', 'Food & Beverages',\n",
       "       'Ground Service', 'Value For Money', 'Recommended'],\n",
       "      dtype='object')"
      ]
     },
     "execution_count": 279,
     "metadata": {},
     "output_type": "execute_result"
    }
   ],
   "source": [
    "airlines_data.columns"
   ]
  },
  {
   "cell_type": "markdown",
   "id": "8d23c4fd",
   "metadata": {},
   "source": [
    "The two Columns that require sentiment analysism are:\n",
    "<ol>\n",
    "    <li>Review Title</li>\n",
    "    <li>Review</li>"
   ]
  },
  {
   "cell_type": "code",
   "execution_count": 280,
   "id": "09c1d575",
   "metadata": {},
   "outputs": [],
   "source": [
    "#defining a sentiment analysis function\n",
    "def sentiment_analyser(sentiment_text):\n",
    "    temp = sentiment_text.lower().strip()\n",
    "    temp = temp.translate(str.maketrans('','', string.punctuation))\n",
    "    score = SentimentIntensityAnalyzer().polarity_scores(temp)\n",
    "    return score"
   ]
  },
  {
   "cell_type": "code",
   "execution_count": 281,
   "id": "d062e415",
   "metadata": {},
   "outputs": [
    {
     "name": "stdout",
     "output_type": "stream",
     "text": [
      "{'neg': 0.0, 'neu': 0.47, 'pos': 0.53, 'compound': 0.836}\n"
     ]
    }
   ],
   "source": [
    "#Dummy Check\n",
    "print(sentiment_analyser('My name is Manas!. I love being happy and Joyfull'))"
   ]
  },
  {
   "cell_type": "code",
   "execution_count": 148,
   "id": "7e3e35d3",
   "metadata": {},
   "outputs": [],
   "source": [
    "airlines_data['Review_Title_Sentiment']=airlines_data['Review_Title'].apply(sentiment_analyser)"
   ]
  },
  {
   "cell_type": "code",
   "execution_count": 149,
   "id": "ea3859df",
   "metadata": {},
   "outputs": [],
   "source": [
    "airlines_data['Review_sentiment'] = airlines_data['Review'].apply(sentiment_analyser)"
   ]
  },
  {
   "cell_type": "code",
   "execution_count": 354,
   "id": "f62bc27d",
   "metadata": {},
   "outputs": [
    {
     "data": {
      "text/html": [
       "<div>\n",
       "<style scoped>\n",
       "    .dataframe tbody tr th:only-of-type {\n",
       "        vertical-align: middle;\n",
       "    }\n",
       "\n",
       "    .dataframe tbody tr th {\n",
       "        vertical-align: top;\n",
       "    }\n",
       "\n",
       "    .dataframe thead th {\n",
       "        text-align: right;\n",
       "    }\n",
       "</style>\n",
       "<table border=\"1\" class=\"dataframe\">\n",
       "  <thead>\n",
       "    <tr style=\"text-align: right;\">\n",
       "      <th></th>\n",
       "      <th>Airline Name</th>\n",
       "      <th>Overall_Rating</th>\n",
       "      <th>Review_Title</th>\n",
       "      <th>Review Date</th>\n",
       "      <th>Verified</th>\n",
       "      <th>Review</th>\n",
       "      <th>Type Of Traveller</th>\n",
       "      <th>Seat Type</th>\n",
       "      <th>Date Flown</th>\n",
       "      <th>Seat Comfort</th>\n",
       "      <th>Cabin Staff Service</th>\n",
       "      <th>Food &amp; Beverages</th>\n",
       "      <th>Ground Service</th>\n",
       "      <th>Value For Money</th>\n",
       "      <th>Recommended</th>\n",
       "      <th>Review_Title_Sentiment</th>\n",
       "      <th>Review_sentiment</th>\n",
       "    </tr>\n",
       "  </thead>\n",
       "  <tbody>\n",
       "    <tr>\n",
       "      <th>0</th>\n",
       "      <td>Miscellaneuous</td>\n",
       "      <td>9</td>\n",
       "      <td>\"pretty decent airline\"</td>\n",
       "      <td>2019-11-11</td>\n",
       "      <td>True</td>\n",
       "      <td>Moroni to Moheli. Turned out to be a pretty ...</td>\n",
       "      <td>Solo Leisure</td>\n",
       "      <td>Economy Class</td>\n",
       "      <td>2019-11-01</td>\n",
       "      <td>4.0</td>\n",
       "      <td>5.0</td>\n",
       "      <td>4.0</td>\n",
       "      <td>4.0</td>\n",
       "      <td>3.0</td>\n",
       "      <td>yes</td>\n",
       "      <td>{'neg': 0.0, 'neu': 0.385, 'pos': 0.615, 'comp...</td>\n",
       "      <td>{'neg': 0.0, 'neu': 0.782, 'pos': 0.218, 'comp...</td>\n",
       "    </tr>\n",
       "    <tr>\n",
       "      <th>1</th>\n",
       "      <td>Miscellaneuous</td>\n",
       "      <td>1</td>\n",
       "      <td>\"Not a good airline\"</td>\n",
       "      <td>2019-06-25</td>\n",
       "      <td>True</td>\n",
       "      <td>Moroni to Anjouan. It is a very small airline...</td>\n",
       "      <td>Solo Leisure</td>\n",
       "      <td>Economy Class</td>\n",
       "      <td>2019-06-01</td>\n",
       "      <td>2.0</td>\n",
       "      <td>2.0</td>\n",
       "      <td>1.0</td>\n",
       "      <td>1.0</td>\n",
       "      <td>2.0</td>\n",
       "      <td>no</td>\n",
       "      <td>{'neg': 0.546, 'neu': 0.454, 'pos': 0.0, 'comp...</td>\n",
       "      <td>{'neg': 0.114, 'neu': 0.878, 'pos': 0.008, 'co...</td>\n",
       "    </tr>\n",
       "  </tbody>\n",
       "</table>\n",
       "</div>"
      ],
      "text/plain": [
       "     Airline Name Overall_Rating             Review_Title Review Date  \\\n",
       "0  Miscellaneuous              9  \"pretty decent airline\"  2019-11-11   \n",
       "1  Miscellaneuous              1     \"Not a good airline\"  2019-06-25   \n",
       "\n",
       "   Verified                                             Review  \\\n",
       "0      True    Moroni to Moheli. Turned out to be a pretty ...   \n",
       "1      True   Moroni to Anjouan. It is a very small airline...   \n",
       "\n",
       "  Type Of Traveller      Seat Type Date Flown  Seat Comfort  \\\n",
       "0      Solo Leisure  Economy Class 2019-11-01           4.0   \n",
       "1      Solo Leisure  Economy Class 2019-06-01           2.0   \n",
       "\n",
       "   Cabin Staff Service  Food & Beverages  Ground Service  Value For Money  \\\n",
       "0                  5.0               4.0             4.0              3.0   \n",
       "1                  2.0               1.0             1.0              2.0   \n",
       "\n",
       "  Recommended                             Review_Title_Sentiment  \\\n",
       "0         yes  {'neg': 0.0, 'neu': 0.385, 'pos': 0.615, 'comp...   \n",
       "1          no  {'neg': 0.546, 'neu': 0.454, 'pos': 0.0, 'comp...   \n",
       "\n",
       "                                    Review_sentiment  \n",
       "0  {'neg': 0.0, 'neu': 0.782, 'pos': 0.218, 'comp...  \n",
       "1  {'neg': 0.114, 'neu': 0.878, 'pos': 0.008, 'co...  "
      ]
     },
     "execution_count": 354,
     "metadata": {},
     "output_type": "execute_result"
    }
   ],
   "source": [
    "airlines_data.head(2)"
   ]
  },
  {
   "cell_type": "code",
   "execution_count": 355,
   "id": "5f720ade",
   "metadata": {},
   "outputs": [],
   "source": [
    "#saving the csv inorder to not lose data\n",
    "airlines_data.to_pickle(\"Post_sentiment.pkl\")"
   ]
  },
  {
   "cell_type": "markdown",
   "id": "e39030b1",
   "metadata": {},
   "source": [
    "__________________________________________________________________________________________________________________"
   ]
  },
  {
   "cell_type": "code",
   "execution_count": 367,
   "id": "fa174a6f",
   "metadata": {},
   "outputs": [],
   "source": [
    "airlines_data = pd.read_pickle('Post_sentiment.pkl')"
   ]
  },
  {
   "cell_type": "code",
   "execution_count": 368,
   "id": "bc6977b4",
   "metadata": {},
   "outputs": [
    {
     "data": {
      "text/html": [
       "<div>\n",
       "<style scoped>\n",
       "    .dataframe tbody tr th:only-of-type {\n",
       "        vertical-align: middle;\n",
       "    }\n",
       "\n",
       "    .dataframe tbody tr th {\n",
       "        vertical-align: top;\n",
       "    }\n",
       "\n",
       "    .dataframe thead th {\n",
       "        text-align: right;\n",
       "    }\n",
       "</style>\n",
       "<table border=\"1\" class=\"dataframe\">\n",
       "  <thead>\n",
       "    <tr style=\"text-align: right;\">\n",
       "      <th></th>\n",
       "      <th>Review_Title_Sentiment</th>\n",
       "      <th>Review_sentiment</th>\n",
       "    </tr>\n",
       "  </thead>\n",
       "  <tbody>\n",
       "    <tr>\n",
       "      <th>0</th>\n",
       "      <td>{'neg': 0.0, 'neu': 0.385, 'pos': 0.615, 'comp...</td>\n",
       "      <td>{'neg': 0.0, 'neu': 0.782, 'pos': 0.218, 'comp...</td>\n",
       "    </tr>\n",
       "    <tr>\n",
       "      <th>1</th>\n",
       "      <td>{'neg': 0.546, 'neu': 0.454, 'pos': 0.0, 'comp...</td>\n",
       "      <td>{'neg': 0.114, 'neu': 0.878, 'pos': 0.008, 'co...</td>\n",
       "    </tr>\n",
       "    <tr>\n",
       "      <th>2</th>\n",
       "      <td>{'neg': 0.0, 'neu': 1.0, 'pos': 0.0, 'compound...</td>\n",
       "      <td>{'neg': 0.031, 'neu': 0.852, 'pos': 0.117, 'co...</td>\n",
       "    </tr>\n",
       "  </tbody>\n",
       "</table>\n",
       "</div>"
      ],
      "text/plain": [
       "                              Review_Title_Sentiment  \\\n",
       "0  {'neg': 0.0, 'neu': 0.385, 'pos': 0.615, 'comp...   \n",
       "1  {'neg': 0.546, 'neu': 0.454, 'pos': 0.0, 'comp...   \n",
       "2  {'neg': 0.0, 'neu': 1.0, 'pos': 0.0, 'compound...   \n",
       "\n",
       "                                    Review_sentiment  \n",
       "0  {'neg': 0.0, 'neu': 0.782, 'pos': 0.218, 'comp...  \n",
       "1  {'neg': 0.114, 'neu': 0.878, 'pos': 0.008, 'co...  \n",
       "2  {'neg': 0.031, 'neu': 0.852, 'pos': 0.117, 'co...  "
      ]
     },
     "execution_count": 368,
     "metadata": {},
     "output_type": "execute_result"
    }
   ],
   "source": [
    "airlines_data[['Review_Title_Sentiment','Review_sentiment']].head(3)"
   ]
  },
  {
   "cell_type": "markdown",
   "id": "59ac36f0",
   "metadata": {},
   "source": [
    "Creating 8 different columns for all the 4 keys from both of the dictionaries. We will then drop the two extra columns"
   ]
  },
  {
   "cell_type": "code",
   "execution_count": 369,
   "id": "eaed1346",
   "metadata": {},
   "outputs": [],
   "source": [
    "#Review_Title_Sentiment first\n",
    "review_title_temp = []\n",
    "for entry in airlines_data['Review_Title_Sentiment']:\n",
    "    review_title_temp.append([entry['neg'], entry['neu'], entry['pos'], entry['compound']])\n",
    "review_title_temp = np.array(review_title_temp)\n",
    "airlines_data['Review_Title_Negative'] = review_title_temp[:,0]\n",
    "airlines_data['Review_Title_Neutral'] = review_title_temp[:,1]\n",
    "airlines_data['Review_Title_Positive'] = review_title_temp[:,2]\n",
    "airlines_data['Review_Title_Compound'] = review_title_temp[:,3]"
   ]
  },
  {
   "cell_type": "code",
   "execution_count": 370,
   "id": "fe28c03b",
   "metadata": {},
   "outputs": [
    {
     "data": {
      "text/html": [
       "<div>\n",
       "<style scoped>\n",
       "    .dataframe tbody tr th:only-of-type {\n",
       "        vertical-align: middle;\n",
       "    }\n",
       "\n",
       "    .dataframe tbody tr th {\n",
       "        vertical-align: top;\n",
       "    }\n",
       "\n",
       "    .dataframe thead th {\n",
       "        text-align: right;\n",
       "    }\n",
       "</style>\n",
       "<table border=\"1\" class=\"dataframe\">\n",
       "  <thead>\n",
       "    <tr style=\"text-align: right;\">\n",
       "      <th></th>\n",
       "      <th>Airline Name</th>\n",
       "      <th>Overall_Rating</th>\n",
       "      <th>Review_Title</th>\n",
       "      <th>Review Date</th>\n",
       "      <th>Verified</th>\n",
       "      <th>Review</th>\n",
       "      <th>Type Of Traveller</th>\n",
       "      <th>Seat Type</th>\n",
       "      <th>Date Flown</th>\n",
       "      <th>Seat Comfort</th>\n",
       "      <th>...</th>\n",
       "      <th>Food &amp; Beverages</th>\n",
       "      <th>Ground Service</th>\n",
       "      <th>Value For Money</th>\n",
       "      <th>Recommended</th>\n",
       "      <th>Review_Title_Sentiment</th>\n",
       "      <th>Review_sentiment</th>\n",
       "      <th>Review_Title_Negative</th>\n",
       "      <th>Review_Title_Neutral</th>\n",
       "      <th>Review_Title_Positive</th>\n",
       "      <th>Review_Title_Compound</th>\n",
       "    </tr>\n",
       "  </thead>\n",
       "  <tbody>\n",
       "    <tr>\n",
       "      <th>0</th>\n",
       "      <td>Miscellaneuous</td>\n",
       "      <td>9</td>\n",
       "      <td>\"pretty decent airline\"</td>\n",
       "      <td>2019-11-11</td>\n",
       "      <td>True</td>\n",
       "      <td>Moroni to Moheli. Turned out to be a pretty ...</td>\n",
       "      <td>Solo Leisure</td>\n",
       "      <td>Economy Class</td>\n",
       "      <td>2019-11-01</td>\n",
       "      <td>4.0</td>\n",
       "      <td>...</td>\n",
       "      <td>4.0</td>\n",
       "      <td>4.0</td>\n",
       "      <td>3.0</td>\n",
       "      <td>yes</td>\n",
       "      <td>{'neg': 0.0, 'neu': 0.385, 'pos': 0.615, 'comp...</td>\n",
       "      <td>{'neg': 0.0, 'neu': 0.782, 'pos': 0.218, 'comp...</td>\n",
       "      <td>0.000</td>\n",
       "      <td>0.385</td>\n",
       "      <td>0.615</td>\n",
       "      <td>0.4939</td>\n",
       "    </tr>\n",
       "    <tr>\n",
       "      <th>1</th>\n",
       "      <td>Miscellaneuous</td>\n",
       "      <td>1</td>\n",
       "      <td>\"Not a good airline\"</td>\n",
       "      <td>2019-06-25</td>\n",
       "      <td>True</td>\n",
       "      <td>Moroni to Anjouan. It is a very small airline...</td>\n",
       "      <td>Solo Leisure</td>\n",
       "      <td>Economy Class</td>\n",
       "      <td>2019-06-01</td>\n",
       "      <td>2.0</td>\n",
       "      <td>...</td>\n",
       "      <td>1.0</td>\n",
       "      <td>1.0</td>\n",
       "      <td>2.0</td>\n",
       "      <td>no</td>\n",
       "      <td>{'neg': 0.546, 'neu': 0.454, 'pos': 0.0, 'comp...</td>\n",
       "      <td>{'neg': 0.114, 'neu': 0.878, 'pos': 0.008, 'co...</td>\n",
       "      <td>0.546</td>\n",
       "      <td>0.454</td>\n",
       "      <td>0.000</td>\n",
       "      <td>-0.3412</td>\n",
       "    </tr>\n",
       "  </tbody>\n",
       "</table>\n",
       "<p>2 rows × 21 columns</p>\n",
       "</div>"
      ],
      "text/plain": [
       "     Airline Name Overall_Rating             Review_Title Review Date  \\\n",
       "0  Miscellaneuous              9  \"pretty decent airline\"  2019-11-11   \n",
       "1  Miscellaneuous              1     \"Not a good airline\"  2019-06-25   \n",
       "\n",
       "   Verified                                             Review  \\\n",
       "0      True    Moroni to Moheli. Turned out to be a pretty ...   \n",
       "1      True   Moroni to Anjouan. It is a very small airline...   \n",
       "\n",
       "  Type Of Traveller      Seat Type Date Flown  Seat Comfort  ...  \\\n",
       "0      Solo Leisure  Economy Class 2019-11-01           4.0  ...   \n",
       "1      Solo Leisure  Economy Class 2019-06-01           2.0  ...   \n",
       "\n",
       "   Food & Beverages  Ground Service  Value For Money  Recommended  \\\n",
       "0               4.0             4.0              3.0          yes   \n",
       "1               1.0             1.0              2.0           no   \n",
       "\n",
       "                              Review_Title_Sentiment  \\\n",
       "0  {'neg': 0.0, 'neu': 0.385, 'pos': 0.615, 'comp...   \n",
       "1  {'neg': 0.546, 'neu': 0.454, 'pos': 0.0, 'comp...   \n",
       "\n",
       "                                    Review_sentiment Review_Title_Negative  \\\n",
       "0  {'neg': 0.0, 'neu': 0.782, 'pos': 0.218, 'comp...                 0.000   \n",
       "1  {'neg': 0.114, 'neu': 0.878, 'pos': 0.008, 'co...                 0.546   \n",
       "\n",
       "   Review_Title_Neutral  Review_Title_Positive  Review_Title_Compound  \n",
       "0                 0.385                  0.615                 0.4939  \n",
       "1                 0.454                  0.000                -0.3412  \n",
       "\n",
       "[2 rows x 21 columns]"
      ]
     },
     "execution_count": 370,
     "metadata": {},
     "output_type": "execute_result"
    }
   ],
   "source": [
    "airlines_data.head(2)"
   ]
  },
  {
   "cell_type": "code",
   "execution_count": 371,
   "id": "c56d72a8",
   "metadata": {},
   "outputs": [],
   "source": [
    "#Doing this for the review column\n",
    "review_temp = []\n",
    "for entry in airlines_data['Review_sentiment']:\n",
    "    review_temp.append([entry['neg'], entry['neu'], entry['pos'], entry['compound']])\n",
    "review_temp = np.array(review_temp)\n",
    "airlines_data['Review_Negative'] = review_temp[:,0]\n",
    "airlines_data['Review_Neutral'] = review_temp[:,1]\n",
    "airlines_data['Review_Positive'] = review_temp[:,2]\n",
    "airlines_data['Review_Compound'] = review_temp[:,3]"
   ]
  },
  {
   "cell_type": "code",
   "execution_count": 372,
   "id": "0124a9a9",
   "metadata": {},
   "outputs": [
    {
     "data": {
      "text/html": [
       "<div>\n",
       "<style scoped>\n",
       "    .dataframe tbody tr th:only-of-type {\n",
       "        vertical-align: middle;\n",
       "    }\n",
       "\n",
       "    .dataframe tbody tr th {\n",
       "        vertical-align: top;\n",
       "    }\n",
       "\n",
       "    .dataframe thead th {\n",
       "        text-align: right;\n",
       "    }\n",
       "</style>\n",
       "<table border=\"1\" class=\"dataframe\">\n",
       "  <thead>\n",
       "    <tr style=\"text-align: right;\">\n",
       "      <th></th>\n",
       "      <th>Airline Name</th>\n",
       "      <th>Overall_Rating</th>\n",
       "      <th>Review_Title</th>\n",
       "      <th>Review Date</th>\n",
       "      <th>Verified</th>\n",
       "      <th>Review</th>\n",
       "      <th>Type Of Traveller</th>\n",
       "      <th>Seat Type</th>\n",
       "      <th>Date Flown</th>\n",
       "      <th>Seat Comfort</th>\n",
       "      <th>...</th>\n",
       "      <th>Review_Title_Sentiment</th>\n",
       "      <th>Review_sentiment</th>\n",
       "      <th>Review_Title_Negative</th>\n",
       "      <th>Review_Title_Neutral</th>\n",
       "      <th>Review_Title_Positive</th>\n",
       "      <th>Review_Title_Compound</th>\n",
       "      <th>Review_Negative</th>\n",
       "      <th>Review_Neutral</th>\n",
       "      <th>Review_Positive</th>\n",
       "      <th>Review_Compound</th>\n",
       "    </tr>\n",
       "  </thead>\n",
       "  <tbody>\n",
       "    <tr>\n",
       "      <th>0</th>\n",
       "      <td>Miscellaneuous</td>\n",
       "      <td>9</td>\n",
       "      <td>\"pretty decent airline\"</td>\n",
       "      <td>2019-11-11</td>\n",
       "      <td>True</td>\n",
       "      <td>Moroni to Moheli. Turned out to be a pretty ...</td>\n",
       "      <td>Solo Leisure</td>\n",
       "      <td>Economy Class</td>\n",
       "      <td>2019-11-01</td>\n",
       "      <td>4.0</td>\n",
       "      <td>...</td>\n",
       "      <td>{'neg': 0.0, 'neu': 0.385, 'pos': 0.615, 'comp...</td>\n",
       "      <td>{'neg': 0.0, 'neu': 0.782, 'pos': 0.218, 'comp...</td>\n",
       "      <td>0.000</td>\n",
       "      <td>0.385</td>\n",
       "      <td>0.615</td>\n",
       "      <td>0.4939</td>\n",
       "      <td>0.000</td>\n",
       "      <td>0.782</td>\n",
       "      <td>0.218</td>\n",
       "      <td>0.9192</td>\n",
       "    </tr>\n",
       "    <tr>\n",
       "      <th>1</th>\n",
       "      <td>Miscellaneuous</td>\n",
       "      <td>1</td>\n",
       "      <td>\"Not a good airline\"</td>\n",
       "      <td>2019-06-25</td>\n",
       "      <td>True</td>\n",
       "      <td>Moroni to Anjouan. It is a very small airline...</td>\n",
       "      <td>Solo Leisure</td>\n",
       "      <td>Economy Class</td>\n",
       "      <td>2019-06-01</td>\n",
       "      <td>2.0</td>\n",
       "      <td>...</td>\n",
       "      <td>{'neg': 0.546, 'neu': 0.454, 'pos': 0.0, 'comp...</td>\n",
       "      <td>{'neg': 0.114, 'neu': 0.878, 'pos': 0.008, 'co...</td>\n",
       "      <td>0.546</td>\n",
       "      <td>0.454</td>\n",
       "      <td>0.000</td>\n",
       "      <td>-0.3412</td>\n",
       "      <td>0.114</td>\n",
       "      <td>0.878</td>\n",
       "      <td>0.008</td>\n",
       "      <td>-0.9242</td>\n",
       "    </tr>\n",
       "  </tbody>\n",
       "</table>\n",
       "<p>2 rows × 25 columns</p>\n",
       "</div>"
      ],
      "text/plain": [
       "     Airline Name Overall_Rating             Review_Title Review Date  \\\n",
       "0  Miscellaneuous              9  \"pretty decent airline\"  2019-11-11   \n",
       "1  Miscellaneuous              1     \"Not a good airline\"  2019-06-25   \n",
       "\n",
       "   Verified                                             Review  \\\n",
       "0      True    Moroni to Moheli. Turned out to be a pretty ...   \n",
       "1      True   Moroni to Anjouan. It is a very small airline...   \n",
       "\n",
       "  Type Of Traveller      Seat Type Date Flown  Seat Comfort  ...  \\\n",
       "0      Solo Leisure  Economy Class 2019-11-01           4.0  ...   \n",
       "1      Solo Leisure  Economy Class 2019-06-01           2.0  ...   \n",
       "\n",
       "                              Review_Title_Sentiment  \\\n",
       "0  {'neg': 0.0, 'neu': 0.385, 'pos': 0.615, 'comp...   \n",
       "1  {'neg': 0.546, 'neu': 0.454, 'pos': 0.0, 'comp...   \n",
       "\n",
       "                                    Review_sentiment  Review_Title_Negative  \\\n",
       "0  {'neg': 0.0, 'neu': 0.782, 'pos': 0.218, 'comp...                  0.000   \n",
       "1  {'neg': 0.114, 'neu': 0.878, 'pos': 0.008, 'co...                  0.546   \n",
       "\n",
       "   Review_Title_Neutral Review_Title_Positive Review_Title_Compound  \\\n",
       "0                 0.385                 0.615                0.4939   \n",
       "1                 0.454                 0.000               -0.3412   \n",
       "\n",
       "  Review_Negative  Review_Neutral  Review_Positive  Review_Compound  \n",
       "0           0.000           0.782            0.218           0.9192  \n",
       "1           0.114           0.878            0.008          -0.9242  \n",
       "\n",
       "[2 rows x 25 columns]"
      ]
     },
     "execution_count": 372,
     "metadata": {},
     "output_type": "execute_result"
    }
   ],
   "source": [
    "airlines_data.head(2)"
   ]
  },
  {
   "cell_type": "code",
   "execution_count": 373,
   "id": "c18c6695",
   "metadata": {},
   "outputs": [],
   "source": [
    "#dropping the uncessary columns\n",
    "airlines_data.drop(columns = ['Review_Title','Review','Review_Title_Sentiment','Review_sentiment'], inplace=True)"
   ]
  },
  {
   "cell_type": "code",
   "execution_count": 374,
   "id": "959863d0",
   "metadata": {},
   "outputs": [
    {
     "data": {
      "text/html": [
       "<div>\n",
       "<style scoped>\n",
       "    .dataframe tbody tr th:only-of-type {\n",
       "        vertical-align: middle;\n",
       "    }\n",
       "\n",
       "    .dataframe tbody tr th {\n",
       "        vertical-align: top;\n",
       "    }\n",
       "\n",
       "    .dataframe thead th {\n",
       "        text-align: right;\n",
       "    }\n",
       "</style>\n",
       "<table border=\"1\" class=\"dataframe\">\n",
       "  <thead>\n",
       "    <tr style=\"text-align: right;\">\n",
       "      <th></th>\n",
       "      <th>Airline Name</th>\n",
       "      <th>Overall_Rating</th>\n",
       "      <th>Review Date</th>\n",
       "      <th>Verified</th>\n",
       "      <th>Type Of Traveller</th>\n",
       "      <th>Seat Type</th>\n",
       "      <th>Date Flown</th>\n",
       "      <th>Seat Comfort</th>\n",
       "      <th>Cabin Staff Service</th>\n",
       "      <th>Food &amp; Beverages</th>\n",
       "      <th>...</th>\n",
       "      <th>Value For Money</th>\n",
       "      <th>Recommended</th>\n",
       "      <th>Review_Title_Negative</th>\n",
       "      <th>Review_Title_Neutral</th>\n",
       "      <th>Review_Title_Positive</th>\n",
       "      <th>Review_Title_Compound</th>\n",
       "      <th>Review_Negative</th>\n",
       "      <th>Review_Neutral</th>\n",
       "      <th>Review_Positive</th>\n",
       "      <th>Review_Compound</th>\n",
       "    </tr>\n",
       "  </thead>\n",
       "  <tbody>\n",
       "    <tr>\n",
       "      <th>0</th>\n",
       "      <td>Miscellaneuous</td>\n",
       "      <td>9</td>\n",
       "      <td>2019-11-11</td>\n",
       "      <td>True</td>\n",
       "      <td>Solo Leisure</td>\n",
       "      <td>Economy Class</td>\n",
       "      <td>2019-11-01</td>\n",
       "      <td>4.0</td>\n",
       "      <td>5.0</td>\n",
       "      <td>4.0</td>\n",
       "      <td>...</td>\n",
       "      <td>3.0</td>\n",
       "      <td>yes</td>\n",
       "      <td>0.000</td>\n",
       "      <td>0.385</td>\n",
       "      <td>0.615</td>\n",
       "      <td>0.4939</td>\n",
       "      <td>0.000</td>\n",
       "      <td>0.782</td>\n",
       "      <td>0.218</td>\n",
       "      <td>0.9192</td>\n",
       "    </tr>\n",
       "    <tr>\n",
       "      <th>1</th>\n",
       "      <td>Miscellaneuous</td>\n",
       "      <td>1</td>\n",
       "      <td>2019-06-25</td>\n",
       "      <td>True</td>\n",
       "      <td>Solo Leisure</td>\n",
       "      <td>Economy Class</td>\n",
       "      <td>2019-06-01</td>\n",
       "      <td>2.0</td>\n",
       "      <td>2.0</td>\n",
       "      <td>1.0</td>\n",
       "      <td>...</td>\n",
       "      <td>2.0</td>\n",
       "      <td>no</td>\n",
       "      <td>0.546</td>\n",
       "      <td>0.454</td>\n",
       "      <td>0.000</td>\n",
       "      <td>-0.3412</td>\n",
       "      <td>0.114</td>\n",
       "      <td>0.878</td>\n",
       "      <td>0.008</td>\n",
       "      <td>-0.9242</td>\n",
       "    </tr>\n",
       "  </tbody>\n",
       "</table>\n",
       "<p>2 rows × 21 columns</p>\n",
       "</div>"
      ],
      "text/plain": [
       "     Airline Name Overall_Rating Review Date  Verified Type Of Traveller  \\\n",
       "0  Miscellaneuous              9  2019-11-11      True      Solo Leisure   \n",
       "1  Miscellaneuous              1  2019-06-25      True      Solo Leisure   \n",
       "\n",
       "       Seat Type Date Flown  Seat Comfort  Cabin Staff Service  \\\n",
       "0  Economy Class 2019-11-01           4.0                  5.0   \n",
       "1  Economy Class 2019-06-01           2.0                  2.0   \n",
       "\n",
       "   Food & Beverages  ...  Value For Money  Recommended Review_Title_Negative  \\\n",
       "0               4.0  ...              3.0          yes                 0.000   \n",
       "1               1.0  ...              2.0           no                 0.546   \n",
       "\n",
       "   Review_Title_Neutral  Review_Title_Positive  Review_Title_Compound  \\\n",
       "0                 0.385                  0.615                 0.4939   \n",
       "1                 0.454                  0.000                -0.3412   \n",
       "\n",
       "   Review_Negative  Review_Neutral  Review_Positive  Review_Compound  \n",
       "0            0.000           0.782            0.218           0.9192  \n",
       "1            0.114           0.878            0.008          -0.9242  \n",
       "\n",
       "[2 rows x 21 columns]"
      ]
     },
     "execution_count": 374,
     "metadata": {},
     "output_type": "execute_result"
    }
   ],
   "source": [
    "airlines_data.head(2)"
   ]
  },
  {
   "cell_type": "code",
   "execution_count": 375,
   "id": "132db1f4",
   "metadata": {},
   "outputs": [],
   "source": [
    "#Generating more accurate Review Timing Data\n",
    "airlines_data['Review_Month']= airlines_data['Review Date'].apply(lambda x : x.month)\n",
    "airlines_data['Review_Day']= airlines_data['Review Date'].apply(lambda x : x.day)\n",
    "airlines_data['Review_Year']= airlines_data['Review Date'].apply(lambda x : x.year)"
   ]
  },
  {
   "cell_type": "code",
   "execution_count": 376,
   "id": "d68e0f4a",
   "metadata": {},
   "outputs": [],
   "source": [
    "airlines_data['Flight_Month'] = airlines_data['Date Flown'].apply(lambda x : x.month)\n",
    "airlines_data['Flight_Year'] = airlines_data['Date Flown'].apply(lambda x : x.year)"
   ]
  },
  {
   "cell_type": "code",
   "execution_count": 377,
   "id": "3165beba",
   "metadata": {},
   "outputs": [
    {
     "data": {
      "text/html": [
       "<div>\n",
       "<style scoped>\n",
       "    .dataframe tbody tr th:only-of-type {\n",
       "        vertical-align: middle;\n",
       "    }\n",
       "\n",
       "    .dataframe tbody tr th {\n",
       "        vertical-align: top;\n",
       "    }\n",
       "\n",
       "    .dataframe thead th {\n",
       "        text-align: right;\n",
       "    }\n",
       "</style>\n",
       "<table border=\"1\" class=\"dataframe\">\n",
       "  <thead>\n",
       "    <tr style=\"text-align: right;\">\n",
       "      <th></th>\n",
       "      <th>Airline Name</th>\n",
       "      <th>Overall_Rating</th>\n",
       "      <th>Review Date</th>\n",
       "      <th>Verified</th>\n",
       "      <th>Type Of Traveller</th>\n",
       "      <th>Seat Type</th>\n",
       "      <th>Date Flown</th>\n",
       "      <th>Seat Comfort</th>\n",
       "      <th>Cabin Staff Service</th>\n",
       "      <th>Food &amp; Beverages</th>\n",
       "      <th>...</th>\n",
       "      <th>Review_Title_Compound</th>\n",
       "      <th>Review_Negative</th>\n",
       "      <th>Review_Neutral</th>\n",
       "      <th>Review_Positive</th>\n",
       "      <th>Review_Compound</th>\n",
       "      <th>Review_Month</th>\n",
       "      <th>Review_Day</th>\n",
       "      <th>Review_Year</th>\n",
       "      <th>Flight_Month</th>\n",
       "      <th>Flight_Year</th>\n",
       "    </tr>\n",
       "  </thead>\n",
       "  <tbody>\n",
       "    <tr>\n",
       "      <th>0</th>\n",
       "      <td>Miscellaneuous</td>\n",
       "      <td>9</td>\n",
       "      <td>2019-11-11</td>\n",
       "      <td>True</td>\n",
       "      <td>Solo Leisure</td>\n",
       "      <td>Economy Class</td>\n",
       "      <td>2019-11-01</td>\n",
       "      <td>4.0</td>\n",
       "      <td>5.0</td>\n",
       "      <td>4.0</td>\n",
       "      <td>...</td>\n",
       "      <td>0.4939</td>\n",
       "      <td>0.000</td>\n",
       "      <td>0.782</td>\n",
       "      <td>0.218</td>\n",
       "      <td>0.9192</td>\n",
       "      <td>11</td>\n",
       "      <td>11</td>\n",
       "      <td>2019</td>\n",
       "      <td>11.0</td>\n",
       "      <td>2019.0</td>\n",
       "    </tr>\n",
       "    <tr>\n",
       "      <th>1</th>\n",
       "      <td>Miscellaneuous</td>\n",
       "      <td>1</td>\n",
       "      <td>2019-06-25</td>\n",
       "      <td>True</td>\n",
       "      <td>Solo Leisure</td>\n",
       "      <td>Economy Class</td>\n",
       "      <td>2019-06-01</td>\n",
       "      <td>2.0</td>\n",
       "      <td>2.0</td>\n",
       "      <td>1.0</td>\n",
       "      <td>...</td>\n",
       "      <td>-0.3412</td>\n",
       "      <td>0.114</td>\n",
       "      <td>0.878</td>\n",
       "      <td>0.008</td>\n",
       "      <td>-0.9242</td>\n",
       "      <td>6</td>\n",
       "      <td>25</td>\n",
       "      <td>2019</td>\n",
       "      <td>6.0</td>\n",
       "      <td>2019.0</td>\n",
       "    </tr>\n",
       "  </tbody>\n",
       "</table>\n",
       "<p>2 rows × 26 columns</p>\n",
       "</div>"
      ],
      "text/plain": [
       "     Airline Name Overall_Rating Review Date  Verified Type Of Traveller  \\\n",
       "0  Miscellaneuous              9  2019-11-11      True      Solo Leisure   \n",
       "1  Miscellaneuous              1  2019-06-25      True      Solo Leisure   \n",
       "\n",
       "       Seat Type Date Flown  Seat Comfort  Cabin Staff Service  \\\n",
       "0  Economy Class 2019-11-01           4.0                  5.0   \n",
       "1  Economy Class 2019-06-01           2.0                  2.0   \n",
       "\n",
       "   Food & Beverages  ...  Review_Title_Compound  Review_Negative  \\\n",
       "0               4.0  ...                 0.4939            0.000   \n",
       "1               1.0  ...                -0.3412            0.114   \n",
       "\n",
       "  Review_Neutral  Review_Positive  Review_Compound  Review_Month  Review_Day  \\\n",
       "0          0.782            0.218           0.9192            11          11   \n",
       "1          0.878            0.008          -0.9242             6          25   \n",
       "\n",
       "   Review_Year  Flight_Month  Flight_Year  \n",
       "0         2019          11.0       2019.0  \n",
       "1         2019           6.0       2019.0  \n",
       "\n",
       "[2 rows x 26 columns]"
      ]
     },
     "execution_count": 377,
     "metadata": {},
     "output_type": "execute_result"
    }
   ],
   "source": [
    "airlines_data.head(2)"
   ]
  },
  {
   "cell_type": "code",
   "execution_count": 382,
   "id": "0ba2b17b",
   "metadata": {},
   "outputs": [],
   "source": [
    "airlines_data.drop(columns = ['Review Date','Date Flown'], inplace = True)"
   ]
  },
  {
   "cell_type": "markdown",
   "id": "23370a5d",
   "metadata": {},
   "source": [
    "<h3>Encoding the relevant columns</h3>"
   ]
  },
  {
   "cell_type": "code",
   "execution_count": 383,
   "id": "2be45e44",
   "metadata": {},
   "outputs": [],
   "source": [
    "le = LabelEncoder()\n",
    "airlines_data['Airline Name'] = le.fit_transform(airlines_data['Airline Name'])\n",
    "airlines_data['Verified'] = le.fit_transform(airlines_data['Verified'])\n",
    "airlines_data['Type Of Traveller'] = le.fit_transform(airlines_data['Type Of Traveller'])\n",
    "airlines_data['Seat Type'] = le.fit_transform(airlines_data['Seat Type'])"
   ]
  },
  {
   "cell_type": "code",
   "execution_count": 384,
   "id": "bb0d2d98",
   "metadata": {},
   "outputs": [
    {
     "data": {
      "text/html": [
       "<div>\n",
       "<style scoped>\n",
       "    .dataframe tbody tr th:only-of-type {\n",
       "        vertical-align: middle;\n",
       "    }\n",
       "\n",
       "    .dataframe tbody tr th {\n",
       "        vertical-align: top;\n",
       "    }\n",
       "\n",
       "    .dataframe thead th {\n",
       "        text-align: right;\n",
       "    }\n",
       "</style>\n",
       "<table border=\"1\" class=\"dataframe\">\n",
       "  <thead>\n",
       "    <tr style=\"text-align: right;\">\n",
       "      <th></th>\n",
       "      <th>Airline Name</th>\n",
       "      <th>Overall_Rating</th>\n",
       "      <th>Verified</th>\n",
       "      <th>Type Of Traveller</th>\n",
       "      <th>Seat Type</th>\n",
       "      <th>Seat Comfort</th>\n",
       "      <th>Cabin Staff Service</th>\n",
       "      <th>Food &amp; Beverages</th>\n",
       "      <th>Ground Service</th>\n",
       "      <th>Value For Money</th>\n",
       "      <th>...</th>\n",
       "      <th>Review_Title_Compound</th>\n",
       "      <th>Review_Negative</th>\n",
       "      <th>Review_Neutral</th>\n",
       "      <th>Review_Positive</th>\n",
       "      <th>Review_Compound</th>\n",
       "      <th>Review_Month</th>\n",
       "      <th>Review_Day</th>\n",
       "      <th>Review_Year</th>\n",
       "      <th>Flight_Month</th>\n",
       "      <th>Flight_Year</th>\n",
       "    </tr>\n",
       "  </thead>\n",
       "  <tbody>\n",
       "    <tr>\n",
       "      <th>0</th>\n",
       "      <td>206</td>\n",
       "      <td>9</td>\n",
       "      <td>1</td>\n",
       "      <td>3</td>\n",
       "      <td>1</td>\n",
       "      <td>4.0</td>\n",
       "      <td>5.0</td>\n",
       "      <td>4.0</td>\n",
       "      <td>4.0</td>\n",
       "      <td>3.0</td>\n",
       "      <td>...</td>\n",
       "      <td>0.4939</td>\n",
       "      <td>0.000</td>\n",
       "      <td>0.782</td>\n",
       "      <td>0.218</td>\n",
       "      <td>0.9192</td>\n",
       "      <td>11</td>\n",
       "      <td>11</td>\n",
       "      <td>2019</td>\n",
       "      <td>11.0</td>\n",
       "      <td>2019.0</td>\n",
       "    </tr>\n",
       "    <tr>\n",
       "      <th>1</th>\n",
       "      <td>206</td>\n",
       "      <td>1</td>\n",
       "      <td>1</td>\n",
       "      <td>3</td>\n",
       "      <td>1</td>\n",
       "      <td>2.0</td>\n",
       "      <td>2.0</td>\n",
       "      <td>1.0</td>\n",
       "      <td>1.0</td>\n",
       "      <td>2.0</td>\n",
       "      <td>...</td>\n",
       "      <td>-0.3412</td>\n",
       "      <td>0.114</td>\n",
       "      <td>0.878</td>\n",
       "      <td>0.008</td>\n",
       "      <td>-0.9242</td>\n",
       "      <td>6</td>\n",
       "      <td>25</td>\n",
       "      <td>2019</td>\n",
       "      <td>6.0</td>\n",
       "      <td>2019.0</td>\n",
       "    </tr>\n",
       "    <tr>\n",
       "      <th>2</th>\n",
       "      <td>206</td>\n",
       "      <td>1</td>\n",
       "      <td>1</td>\n",
       "      <td>3</td>\n",
       "      <td>1</td>\n",
       "      <td>2.0</td>\n",
       "      <td>1.0</td>\n",
       "      <td>1.0</td>\n",
       "      <td>1.0</td>\n",
       "      <td>2.0</td>\n",
       "      <td>...</td>\n",
       "      <td>0.0000</td>\n",
       "      <td>0.031</td>\n",
       "      <td>0.852</td>\n",
       "      <td>0.117</td>\n",
       "      <td>0.7346</td>\n",
       "      <td>6</td>\n",
       "      <td>25</td>\n",
       "      <td>2019</td>\n",
       "      <td>6.0</td>\n",
       "      <td>2019.0</td>\n",
       "    </tr>\n",
       "    <tr>\n",
       "      <th>3</th>\n",
       "      <td>2</td>\n",
       "      <td>1</td>\n",
       "      <td>0</td>\n",
       "      <td>3</td>\n",
       "      <td>1</td>\n",
       "      <td>1.0</td>\n",
       "      <td>1.0</td>\n",
       "      <td>NaN</td>\n",
       "      <td>1.0</td>\n",
       "      <td>1.0</td>\n",
       "      <td>...</td>\n",
       "      <td>0.0000</td>\n",
       "      <td>0.191</td>\n",
       "      <td>0.772</td>\n",
       "      <td>0.037</td>\n",
       "      <td>-0.9583</td>\n",
       "      <td>9</td>\n",
       "      <td>28</td>\n",
       "      <td>2019</td>\n",
       "      <td>9.0</td>\n",
       "      <td>2019.0</td>\n",
       "    </tr>\n",
       "    <tr>\n",
       "      <th>4</th>\n",
       "      <td>2</td>\n",
       "      <td>1</td>\n",
       "      <td>1</td>\n",
       "      <td>1</td>\n",
       "      <td>1</td>\n",
       "      <td>1.0</td>\n",
       "      <td>1.0</td>\n",
       "      <td>1.0</td>\n",
       "      <td>1.0</td>\n",
       "      <td>1.0</td>\n",
       "      <td>...</td>\n",
       "      <td>-0.1280</td>\n",
       "      <td>0.077</td>\n",
       "      <td>0.848</td>\n",
       "      <td>0.075</td>\n",
       "      <td>-0.0675</td>\n",
       "      <td>9</td>\n",
       "      <td>24</td>\n",
       "      <td>2019</td>\n",
       "      <td>9.0</td>\n",
       "      <td>2019.0</td>\n",
       "    </tr>\n",
       "  </tbody>\n",
       "</table>\n",
       "<p>5 rows × 24 columns</p>\n",
       "</div>"
      ],
      "text/plain": [
       "   Airline Name Overall_Rating  Verified  Type Of Traveller  Seat Type  \\\n",
       "0           206              9         1                  3          1   \n",
       "1           206              1         1                  3          1   \n",
       "2           206              1         1                  3          1   \n",
       "3             2              1         0                  3          1   \n",
       "4             2              1         1                  1          1   \n",
       "\n",
       "   Seat Comfort  Cabin Staff Service  Food & Beverages  Ground Service  \\\n",
       "0           4.0                  5.0               4.0             4.0   \n",
       "1           2.0                  2.0               1.0             1.0   \n",
       "2           2.0                  1.0               1.0             1.0   \n",
       "3           1.0                  1.0               NaN             1.0   \n",
       "4           1.0                  1.0               1.0             1.0   \n",
       "\n",
       "   Value For Money  ... Review_Title_Compound  Review_Negative  \\\n",
       "0              3.0  ...                0.4939            0.000   \n",
       "1              2.0  ...               -0.3412            0.114   \n",
       "2              2.0  ...                0.0000            0.031   \n",
       "3              1.0  ...                0.0000            0.191   \n",
       "4              1.0  ...               -0.1280            0.077   \n",
       "\n",
       "   Review_Neutral  Review_Positive  Review_Compound  Review_Month  Review_Day  \\\n",
       "0           0.782            0.218           0.9192            11          11   \n",
       "1           0.878            0.008          -0.9242             6          25   \n",
       "2           0.852            0.117           0.7346             6          25   \n",
       "3           0.772            0.037          -0.9583             9          28   \n",
       "4           0.848            0.075          -0.0675             9          24   \n",
       "\n",
       "   Review_Year  Flight_Month  Flight_Year  \n",
       "0         2019          11.0       2019.0  \n",
       "1         2019           6.0       2019.0  \n",
       "2         2019           6.0       2019.0  \n",
       "3         2019           9.0       2019.0  \n",
       "4         2019           9.0       2019.0  \n",
       "\n",
       "[5 rows x 24 columns]"
      ]
     },
     "execution_count": 384,
     "metadata": {},
     "output_type": "execute_result"
    }
   ],
   "source": [
    "airlines_data.head()"
   ]
  },
  {
   "cell_type": "code",
   "execution_count": 391,
   "id": "24950dfb",
   "metadata": {},
   "outputs": [],
   "source": [
    "airlines_data['Overall_Rating'] = airlines_data['Overall_Rating'].apply(lambda x : int(x))"
   ]
  },
  {
   "cell_type": "code",
   "execution_count": 395,
   "id": "dffba63b",
   "metadata": {},
   "outputs": [
    {
     "data": {
      "text/plain": [
       "no     14506\n",
       "yes     7796\n",
       "Name: Recommended, dtype: int64"
      ]
     },
     "execution_count": 395,
     "metadata": {},
     "output_type": "execute_result"
    }
   ],
   "source": [
    "airlines_data['Recommended'].value_counts()"
   ]
  },
  {
   "cell_type": "code",
   "execution_count": 397,
   "id": "26a10cb5",
   "metadata": {},
   "outputs": [],
   "source": [
    "dep_dict = {'no':0,'yes':1}\n",
    "airlines_data['Recommended']=airlines_data['Recommended'].map(dep_dict)"
   ]
  },
  {
   "cell_type": "markdown",
   "id": "130b6c10",
   "metadata": {},
   "source": [
    "<h3>Handling Null Values</h3>"
   ]
  },
  {
   "cell_type": "code",
   "execution_count": 398,
   "id": "64f77553",
   "metadata": {},
   "outputs": [
    {
     "data": {
      "text/plain": [
       "Airline Name                0\n",
       "Overall_Rating              0\n",
       "Verified                    0\n",
       "Type Of Traveller           0\n",
       "Seat Type                   0\n",
       "Seat Comfort             3472\n",
       "Cabin Staff Service      3577\n",
       "Food & Beverages         7983\n",
       "Ground Service           3933\n",
       "Value For Money           526\n",
       "Recommended                 0\n",
       "Review_Title_Negative       0\n",
       "Review_Title_Neutral        0\n",
       "Review_Title_Positive       0\n",
       "Review_Title_Compound       0\n",
       "Review_Negative             0\n",
       "Review_Neutral              0\n",
       "Review_Positive             0\n",
       "Review_Compound             0\n",
       "Review_Month                0\n",
       "Review_Day                  0\n",
       "Review_Year                 0\n",
       "Flight_Month             2893\n",
       "Flight_Year              2893\n",
       "dtype: int64"
      ]
     },
     "execution_count": 398,
     "metadata": {},
     "output_type": "execute_result"
    }
   ],
   "source": [
    "airlines_data.isnull().sum()"
   ]
  },
  {
   "cell_type": "markdown",
   "id": "1d9e1d3e",
   "metadata": {},
   "source": [
    "Our data very clearly has a lot of Null Values. We can impute these using a Simply Imputer but that would lead to an errant information inference. We thus use KNN Imputer to do the job for us.\n",
    "\n",
    "KNN imputer will use 9 closest neaighbours without NULL values for every null value and choose the ones most highly represented by our data. This will give us a clearer and more accurate representation of NULL Values."
   ]
  },
  {
   "cell_type": "code",
   "execution_count": 402,
   "id": "5178fc2f",
   "metadata": {},
   "outputs": [],
   "source": [
    "k = KNNImputer()\n",
    "cols = airlines_data.columns\n",
    "temp = pd.DataFrame(k.fit_transform(airlines_data), columns=cols)"
   ]
  },
  {
   "cell_type": "code",
   "execution_count": 403,
   "id": "c578e1cd",
   "metadata": {},
   "outputs": [
    {
     "data": {
      "text/html": [
       "<div>\n",
       "<style scoped>\n",
       "    .dataframe tbody tr th:only-of-type {\n",
       "        vertical-align: middle;\n",
       "    }\n",
       "\n",
       "    .dataframe tbody tr th {\n",
       "        vertical-align: top;\n",
       "    }\n",
       "\n",
       "    .dataframe thead th {\n",
       "        text-align: right;\n",
       "    }\n",
       "</style>\n",
       "<table border=\"1\" class=\"dataframe\">\n",
       "  <thead>\n",
       "    <tr style=\"text-align: right;\">\n",
       "      <th></th>\n",
       "      <th>Airline Name</th>\n",
       "      <th>Overall_Rating</th>\n",
       "      <th>Verified</th>\n",
       "      <th>Type Of Traveller</th>\n",
       "      <th>Seat Type</th>\n",
       "      <th>Seat Comfort</th>\n",
       "      <th>Cabin Staff Service</th>\n",
       "      <th>Food &amp; Beverages</th>\n",
       "      <th>Ground Service</th>\n",
       "      <th>Value For Money</th>\n",
       "      <th>...</th>\n",
       "      <th>Review_Title_Compound</th>\n",
       "      <th>Review_Negative</th>\n",
       "      <th>Review_Neutral</th>\n",
       "      <th>Review_Positive</th>\n",
       "      <th>Review_Compound</th>\n",
       "      <th>Review_Month</th>\n",
       "      <th>Review_Day</th>\n",
       "      <th>Review_Year</th>\n",
       "      <th>Flight_Month</th>\n",
       "      <th>Flight_Year</th>\n",
       "    </tr>\n",
       "  </thead>\n",
       "  <tbody>\n",
       "    <tr>\n",
       "      <th>count</th>\n",
       "      <td>22302.000000</td>\n",
       "      <td>22302.000000</td>\n",
       "      <td>22302.000000</td>\n",
       "      <td>22302.000000</td>\n",
       "      <td>22302.000000</td>\n",
       "      <td>22302.000000</td>\n",
       "      <td>22302.000000</td>\n",
       "      <td>22302.000000</td>\n",
       "      <td>22302.000000</td>\n",
       "      <td>22302.000000</td>\n",
       "      <td>...</td>\n",
       "      <td>22302.000000</td>\n",
       "      <td>22302.000000</td>\n",
       "      <td>22302.000000</td>\n",
       "      <td>22302.000000</td>\n",
       "      <td>22302.000000</td>\n",
       "      <td>22302.000000</td>\n",
       "      <td>22302.000000</td>\n",
       "      <td>22302.000000</td>\n",
       "      <td>22302.000000</td>\n",
       "      <td>22302.000000</td>\n",
       "    </tr>\n",
       "    <tr>\n",
       "      <th>mean</th>\n",
       "      <td>171.177294</td>\n",
       "      <td>3.144068</td>\n",
       "      <td>0.552372</td>\n",
       "      <td>2.099632</td>\n",
       "      <td>1.047485</td>\n",
       "      <td>2.587768</td>\n",
       "      <td>2.835145</td>\n",
       "      <td>2.375948</td>\n",
       "      <td>2.388252</td>\n",
       "      <td>2.482863</td>\n",
       "      <td>...</td>\n",
       "      <td>-0.037149</td>\n",
       "      <td>0.088315</td>\n",
       "      <td>0.808128</td>\n",
       "      <td>0.103554</td>\n",
       "      <td>-0.011469</td>\n",
       "      <td>6.329029</td>\n",
       "      <td>15.707515</td>\n",
       "      <td>2019.204825</td>\n",
       "      <td>6.462057</td>\n",
       "      <td>2019.707129</td>\n",
       "    </tr>\n",
       "    <tr>\n",
       "      <th>std</th>\n",
       "      <td>96.811172</td>\n",
       "      <td>2.880363</td>\n",
       "      <td>0.497261</td>\n",
       "      <td>1.242792</td>\n",
       "      <td>0.661981</td>\n",
       "      <td>1.401056</td>\n",
       "      <td>1.533431</td>\n",
       "      <td>1.383398</td>\n",
       "      <td>1.533103</td>\n",
       "      <td>1.583134</td>\n",
       "      <td>...</td>\n",
       "      <td>0.375293</td>\n",
       "      <td>0.066593</td>\n",
       "      <td>0.083815</td>\n",
       "      <td>0.092828</td>\n",
       "      <td>0.779030</td>\n",
       "      <td>3.323355</td>\n",
       "      <td>8.798475</td>\n",
       "      <td>3.844801</td>\n",
       "      <td>3.209121</td>\n",
       "      <td>2.764272</td>\n",
       "    </tr>\n",
       "    <tr>\n",
       "      <th>min</th>\n",
       "      <td>0.000000</td>\n",
       "      <td>1.000000</td>\n",
       "      <td>0.000000</td>\n",
       "      <td>0.000000</td>\n",
       "      <td>0.000000</td>\n",
       "      <td>0.000000</td>\n",
       "      <td>0.000000</td>\n",
       "      <td>0.000000</td>\n",
       "      <td>1.000000</td>\n",
       "      <td>0.000000</td>\n",
       "      <td>...</td>\n",
       "      <td>-0.915800</td>\n",
       "      <td>0.000000</td>\n",
       "      <td>0.351000</td>\n",
       "      <td>0.000000</td>\n",
       "      <td>-0.998700</td>\n",
       "      <td>1.000000</td>\n",
       "      <td>1.000000</td>\n",
       "      <td>2003.000000</td>\n",
       "      <td>1.000000</td>\n",
       "      <td>2012.000000</td>\n",
       "    </tr>\n",
       "    <tr>\n",
       "      <th>25%</th>\n",
       "      <td>91.000000</td>\n",
       "      <td>1.000000</td>\n",
       "      <td>0.000000</td>\n",
       "      <td>1.000000</td>\n",
       "      <td>1.000000</td>\n",
       "      <td>1.000000</td>\n",
       "      <td>1.000000</td>\n",
       "      <td>1.000000</td>\n",
       "      <td>1.000000</td>\n",
       "      <td>1.000000</td>\n",
       "      <td>...</td>\n",
       "      <td>-0.318200</td>\n",
       "      <td>0.039000</td>\n",
       "      <td>0.759000</td>\n",
       "      <td>0.036000</td>\n",
       "      <td>-0.817600</td>\n",
       "      <td>4.000000</td>\n",
       "      <td>8.000000</td>\n",
       "      <td>2017.000000</td>\n",
       "      <td>4.000000</td>\n",
       "      <td>2017.000000</td>\n",
       "    </tr>\n",
       "    <tr>\n",
       "      <th>50%</th>\n",
       "      <td>170.000000</td>\n",
       "      <td>1.000000</td>\n",
       "      <td>1.000000</td>\n",
       "      <td>2.000000</td>\n",
       "      <td>1.000000</td>\n",
       "      <td>2.400000</td>\n",
       "      <td>3.000000</td>\n",
       "      <td>2.000000</td>\n",
       "      <td>2.000000</td>\n",
       "      <td>2.000000</td>\n",
       "      <td>...</td>\n",
       "      <td>0.000000</td>\n",
       "      <td>0.080000</td>\n",
       "      <td>0.819000</td>\n",
       "      <td>0.076000</td>\n",
       "      <td>-0.128000</td>\n",
       "      <td>6.000000</td>\n",
       "      <td>16.000000</td>\n",
       "      <td>2020.000000</td>\n",
       "      <td>6.100000</td>\n",
       "      <td>2020.000000</td>\n",
       "    </tr>\n",
       "    <tr>\n",
       "      <th>75%</th>\n",
       "      <td>253.000000</td>\n",
       "      <td>5.000000</td>\n",
       "      <td>1.000000</td>\n",
       "      <td>3.000000</td>\n",
       "      <td>1.000000</td>\n",
       "      <td>4.000000</td>\n",
       "      <td>4.000000</td>\n",
       "      <td>3.400000</td>\n",
       "      <td>4.000000</td>\n",
       "      <td>4.000000</td>\n",
       "      <td>...</td>\n",
       "      <td>0.000000</td>\n",
       "      <td>0.125000</td>\n",
       "      <td>0.868000</td>\n",
       "      <td>0.150000</td>\n",
       "      <td>0.865500</td>\n",
       "      <td>9.000000</td>\n",
       "      <td>23.000000</td>\n",
       "      <td>2022.000000</td>\n",
       "      <td>9.000000</td>\n",
       "      <td>2022.000000</td>\n",
       "    </tr>\n",
       "    <tr>\n",
       "      <th>max</th>\n",
       "      <td>340.000000</td>\n",
       "      <td>9.000000</td>\n",
       "      <td>1.000000</td>\n",
       "      <td>4.000000</td>\n",
       "      <td>4.000000</td>\n",
       "      <td>5.000000</td>\n",
       "      <td>5.000000</td>\n",
       "      <td>5.000000</td>\n",
       "      <td>5.000000</td>\n",
       "      <td>5.000000</td>\n",
       "      <td>...</td>\n",
       "      <td>0.877700</td>\n",
       "      <td>0.562000</td>\n",
       "      <td>1.000000</td>\n",
       "      <td>0.624000</td>\n",
       "      <td>0.999200</td>\n",
       "      <td>12.000000</td>\n",
       "      <td>31.000000</td>\n",
       "      <td>2023.000000</td>\n",
       "      <td>12.000000</td>\n",
       "      <td>2023.000000</td>\n",
       "    </tr>\n",
       "  </tbody>\n",
       "</table>\n",
       "<p>8 rows × 24 columns</p>\n",
       "</div>"
      ],
      "text/plain": [
       "       Airline Name  Overall_Rating      Verified  Type Of Traveller  \\\n",
       "count  22302.000000    22302.000000  22302.000000       22302.000000   \n",
       "mean     171.177294        3.144068      0.552372           2.099632   \n",
       "std       96.811172        2.880363      0.497261           1.242792   \n",
       "min        0.000000        1.000000      0.000000           0.000000   \n",
       "25%       91.000000        1.000000      0.000000           1.000000   \n",
       "50%      170.000000        1.000000      1.000000           2.000000   \n",
       "75%      253.000000        5.000000      1.000000           3.000000   \n",
       "max      340.000000        9.000000      1.000000           4.000000   \n",
       "\n",
       "          Seat Type  Seat Comfort  Cabin Staff Service  Food & Beverages  \\\n",
       "count  22302.000000  22302.000000         22302.000000      22302.000000   \n",
       "mean       1.047485      2.587768             2.835145          2.375948   \n",
       "std        0.661981      1.401056             1.533431          1.383398   \n",
       "min        0.000000      0.000000             0.000000          0.000000   \n",
       "25%        1.000000      1.000000             1.000000          1.000000   \n",
       "50%        1.000000      2.400000             3.000000          2.000000   \n",
       "75%        1.000000      4.000000             4.000000          3.400000   \n",
       "max        4.000000      5.000000             5.000000          5.000000   \n",
       "\n",
       "       Ground Service  Value For Money  ...  Review_Title_Compound  \\\n",
       "count    22302.000000     22302.000000  ...           22302.000000   \n",
       "mean         2.388252         2.482863  ...              -0.037149   \n",
       "std          1.533103         1.583134  ...               0.375293   \n",
       "min          1.000000         0.000000  ...              -0.915800   \n",
       "25%          1.000000         1.000000  ...              -0.318200   \n",
       "50%          2.000000         2.000000  ...               0.000000   \n",
       "75%          4.000000         4.000000  ...               0.000000   \n",
       "max          5.000000         5.000000  ...               0.877700   \n",
       "\n",
       "       Review_Negative  Review_Neutral  Review_Positive  Review_Compound  \\\n",
       "count     22302.000000    22302.000000     22302.000000     22302.000000   \n",
       "mean          0.088315        0.808128         0.103554        -0.011469   \n",
       "std           0.066593        0.083815         0.092828         0.779030   \n",
       "min           0.000000        0.351000         0.000000        -0.998700   \n",
       "25%           0.039000        0.759000         0.036000        -0.817600   \n",
       "50%           0.080000        0.819000         0.076000        -0.128000   \n",
       "75%           0.125000        0.868000         0.150000         0.865500   \n",
       "max           0.562000        1.000000         0.624000         0.999200   \n",
       "\n",
       "       Review_Month    Review_Day   Review_Year  Flight_Month   Flight_Year  \n",
       "count  22302.000000  22302.000000  22302.000000  22302.000000  22302.000000  \n",
       "mean       6.329029     15.707515   2019.204825      6.462057   2019.707129  \n",
       "std        3.323355      8.798475      3.844801      3.209121      2.764272  \n",
       "min        1.000000      1.000000   2003.000000      1.000000   2012.000000  \n",
       "25%        4.000000      8.000000   2017.000000      4.000000   2017.000000  \n",
       "50%        6.000000     16.000000   2020.000000      6.100000   2020.000000  \n",
       "75%        9.000000     23.000000   2022.000000      9.000000   2022.000000  \n",
       "max       12.000000     31.000000   2023.000000     12.000000   2023.000000  \n",
       "\n",
       "[8 rows x 24 columns]"
      ]
     },
     "execution_count": 403,
     "metadata": {},
     "output_type": "execute_result"
    }
   ],
   "source": [
    "temp.describe()"
   ]
  },
  {
   "cell_type": "code",
   "execution_count": 404,
   "id": "4f721601",
   "metadata": {},
   "outputs": [
    {
     "data": {
      "text/html": [
       "<div>\n",
       "<style scoped>\n",
       "    .dataframe tbody tr th:only-of-type {\n",
       "        vertical-align: middle;\n",
       "    }\n",
       "\n",
       "    .dataframe tbody tr th {\n",
       "        vertical-align: top;\n",
       "    }\n",
       "\n",
       "    .dataframe thead th {\n",
       "        text-align: right;\n",
       "    }\n",
       "</style>\n",
       "<table border=\"1\" class=\"dataframe\">\n",
       "  <thead>\n",
       "    <tr style=\"text-align: right;\">\n",
       "      <th></th>\n",
       "      <th>Airline Name</th>\n",
       "      <th>Overall_Rating</th>\n",
       "      <th>Verified</th>\n",
       "      <th>Type Of Traveller</th>\n",
       "      <th>Seat Type</th>\n",
       "      <th>Seat Comfort</th>\n",
       "      <th>Cabin Staff Service</th>\n",
       "      <th>Food &amp; Beverages</th>\n",
       "      <th>Ground Service</th>\n",
       "      <th>Value For Money</th>\n",
       "      <th>...</th>\n",
       "      <th>Review_Title_Compound</th>\n",
       "      <th>Review_Negative</th>\n",
       "      <th>Review_Neutral</th>\n",
       "      <th>Review_Positive</th>\n",
       "      <th>Review_Compound</th>\n",
       "      <th>Review_Month</th>\n",
       "      <th>Review_Day</th>\n",
       "      <th>Review_Year</th>\n",
       "      <th>Flight_Month</th>\n",
       "      <th>Flight_Year</th>\n",
       "    </tr>\n",
       "  </thead>\n",
       "  <tbody>\n",
       "    <tr>\n",
       "      <th>count</th>\n",
       "      <td>22302.000000</td>\n",
       "      <td>22302.000000</td>\n",
       "      <td>22302.000000</td>\n",
       "      <td>22302.000000</td>\n",
       "      <td>22302.000000</td>\n",
       "      <td>18830.000000</td>\n",
       "      <td>18725.000000</td>\n",
       "      <td>14319.000000</td>\n",
       "      <td>18369.000000</td>\n",
       "      <td>21776.000000</td>\n",
       "      <td>...</td>\n",
       "      <td>22302.000000</td>\n",
       "      <td>22302.000000</td>\n",
       "      <td>22302.000000</td>\n",
       "      <td>22302.000000</td>\n",
       "      <td>22302.000000</td>\n",
       "      <td>22302.000000</td>\n",
       "      <td>22302.000000</td>\n",
       "      <td>22302.000000</td>\n",
       "      <td>19409.000000</td>\n",
       "      <td>19409.000000</td>\n",
       "    </tr>\n",
       "    <tr>\n",
       "      <th>mean</th>\n",
       "      <td>171.177294</td>\n",
       "      <td>3.144068</td>\n",
       "      <td>0.552372</td>\n",
       "      <td>2.099632</td>\n",
       "      <td>1.047485</td>\n",
       "      <td>2.627403</td>\n",
       "      <td>2.886195</td>\n",
       "      <td>2.573713</td>\n",
       "      <td>2.353911</td>\n",
       "      <td>2.469783</td>\n",
       "      <td>...</td>\n",
       "      <td>-0.037149</td>\n",
       "      <td>0.088315</td>\n",
       "      <td>0.808128</td>\n",
       "      <td>0.103554</td>\n",
       "      <td>-0.011469</td>\n",
       "      <td>6.329029</td>\n",
       "      <td>15.707515</td>\n",
       "      <td>2019.204825</td>\n",
       "      <td>6.419857</td>\n",
       "      <td>2020.262713</td>\n",
       "    </tr>\n",
       "    <tr>\n",
       "      <th>std</th>\n",
       "      <td>96.811172</td>\n",
       "      <td>2.880363</td>\n",
       "      <td>0.497261</td>\n",
       "      <td>1.242792</td>\n",
       "      <td>0.661981</td>\n",
       "      <td>1.463487</td>\n",
       "      <td>1.602086</td>\n",
       "      <td>1.520589</td>\n",
       "      <td>1.595846</td>\n",
       "      <td>1.595201</td>\n",
       "      <td>...</td>\n",
       "      <td>0.375293</td>\n",
       "      <td>0.066593</td>\n",
       "      <td>0.083815</td>\n",
       "      <td>0.092828</td>\n",
       "      <td>0.779030</td>\n",
       "      <td>3.323355</td>\n",
       "      <td>8.798475</td>\n",
       "      <td>3.844801</td>\n",
       "      <td>3.337575</td>\n",
       "      <td>2.513498</td>\n",
       "    </tr>\n",
       "    <tr>\n",
       "      <th>min</th>\n",
       "      <td>0.000000</td>\n",
       "      <td>1.000000</td>\n",
       "      <td>0.000000</td>\n",
       "      <td>0.000000</td>\n",
       "      <td>0.000000</td>\n",
       "      <td>0.000000</td>\n",
       "      <td>0.000000</td>\n",
       "      <td>0.000000</td>\n",
       "      <td>1.000000</td>\n",
       "      <td>0.000000</td>\n",
       "      <td>...</td>\n",
       "      <td>-0.915800</td>\n",
       "      <td>0.000000</td>\n",
       "      <td>0.351000</td>\n",
       "      <td>0.000000</td>\n",
       "      <td>-0.998700</td>\n",
       "      <td>1.000000</td>\n",
       "      <td>1.000000</td>\n",
       "      <td>2003.000000</td>\n",
       "      <td>1.000000</td>\n",
       "      <td>2012.000000</td>\n",
       "    </tr>\n",
       "    <tr>\n",
       "      <th>25%</th>\n",
       "      <td>91.000000</td>\n",
       "      <td>1.000000</td>\n",
       "      <td>0.000000</td>\n",
       "      <td>1.000000</td>\n",
       "      <td>1.000000</td>\n",
       "      <td>1.000000</td>\n",
       "      <td>1.000000</td>\n",
       "      <td>1.000000</td>\n",
       "      <td>1.000000</td>\n",
       "      <td>1.000000</td>\n",
       "      <td>...</td>\n",
       "      <td>-0.318200</td>\n",
       "      <td>0.039000</td>\n",
       "      <td>0.759000</td>\n",
       "      <td>0.036000</td>\n",
       "      <td>-0.817600</td>\n",
       "      <td>4.000000</td>\n",
       "      <td>8.000000</td>\n",
       "      <td>2017.000000</td>\n",
       "      <td>4.000000</td>\n",
       "      <td>2018.000000</td>\n",
       "    </tr>\n",
       "    <tr>\n",
       "      <th>50%</th>\n",
       "      <td>170.000000</td>\n",
       "      <td>1.000000</td>\n",
       "      <td>1.000000</td>\n",
       "      <td>2.000000</td>\n",
       "      <td>1.000000</td>\n",
       "      <td>3.000000</td>\n",
       "      <td>3.000000</td>\n",
       "      <td>2.000000</td>\n",
       "      <td>1.000000</td>\n",
       "      <td>2.000000</td>\n",
       "      <td>...</td>\n",
       "      <td>0.000000</td>\n",
       "      <td>0.080000</td>\n",
       "      <td>0.819000</td>\n",
       "      <td>0.076000</td>\n",
       "      <td>-0.128000</td>\n",
       "      <td>6.000000</td>\n",
       "      <td>16.000000</td>\n",
       "      <td>2020.000000</td>\n",
       "      <td>6.000000</td>\n",
       "      <td>2021.000000</td>\n",
       "    </tr>\n",
       "    <tr>\n",
       "      <th>75%</th>\n",
       "      <td>253.000000</td>\n",
       "      <td>5.000000</td>\n",
       "      <td>1.000000</td>\n",
       "      <td>3.000000</td>\n",
       "      <td>1.000000</td>\n",
       "      <td>4.000000</td>\n",
       "      <td>4.000000</td>\n",
       "      <td>4.000000</td>\n",
       "      <td>4.000000</td>\n",
       "      <td>4.000000</td>\n",
       "      <td>...</td>\n",
       "      <td>0.000000</td>\n",
       "      <td>0.125000</td>\n",
       "      <td>0.868000</td>\n",
       "      <td>0.150000</td>\n",
       "      <td>0.865500</td>\n",
       "      <td>9.000000</td>\n",
       "      <td>23.000000</td>\n",
       "      <td>2022.000000</td>\n",
       "      <td>9.000000</td>\n",
       "      <td>2023.000000</td>\n",
       "    </tr>\n",
       "    <tr>\n",
       "      <th>max</th>\n",
       "      <td>340.000000</td>\n",
       "      <td>9.000000</td>\n",
       "      <td>1.000000</td>\n",
       "      <td>4.000000</td>\n",
       "      <td>4.000000</td>\n",
       "      <td>5.000000</td>\n",
       "      <td>5.000000</td>\n",
       "      <td>5.000000</td>\n",
       "      <td>5.000000</td>\n",
       "      <td>5.000000</td>\n",
       "      <td>...</td>\n",
       "      <td>0.877700</td>\n",
       "      <td>0.562000</td>\n",
       "      <td>1.000000</td>\n",
       "      <td>0.624000</td>\n",
       "      <td>0.999200</td>\n",
       "      <td>12.000000</td>\n",
       "      <td>31.000000</td>\n",
       "      <td>2023.000000</td>\n",
       "      <td>12.000000</td>\n",
       "      <td>2023.000000</td>\n",
       "    </tr>\n",
       "  </tbody>\n",
       "</table>\n",
       "<p>8 rows × 24 columns</p>\n",
       "</div>"
      ],
      "text/plain": [
       "       Airline Name  Overall_Rating      Verified  Type Of Traveller  \\\n",
       "count  22302.000000    22302.000000  22302.000000       22302.000000   \n",
       "mean     171.177294        3.144068      0.552372           2.099632   \n",
       "std       96.811172        2.880363      0.497261           1.242792   \n",
       "min        0.000000        1.000000      0.000000           0.000000   \n",
       "25%       91.000000        1.000000      0.000000           1.000000   \n",
       "50%      170.000000        1.000000      1.000000           2.000000   \n",
       "75%      253.000000        5.000000      1.000000           3.000000   \n",
       "max      340.000000        9.000000      1.000000           4.000000   \n",
       "\n",
       "          Seat Type  Seat Comfort  Cabin Staff Service  Food & Beverages  \\\n",
       "count  22302.000000  18830.000000         18725.000000      14319.000000   \n",
       "mean       1.047485      2.627403             2.886195          2.573713   \n",
       "std        0.661981      1.463487             1.602086          1.520589   \n",
       "min        0.000000      0.000000             0.000000          0.000000   \n",
       "25%        1.000000      1.000000             1.000000          1.000000   \n",
       "50%        1.000000      3.000000             3.000000          2.000000   \n",
       "75%        1.000000      4.000000             4.000000          4.000000   \n",
       "max        4.000000      5.000000             5.000000          5.000000   \n",
       "\n",
       "       Ground Service  Value For Money  ...  Review_Title_Compound  \\\n",
       "count    18369.000000     21776.000000  ...           22302.000000   \n",
       "mean         2.353911         2.469783  ...              -0.037149   \n",
       "std          1.595846         1.595201  ...               0.375293   \n",
       "min          1.000000         0.000000  ...              -0.915800   \n",
       "25%          1.000000         1.000000  ...              -0.318200   \n",
       "50%          1.000000         2.000000  ...               0.000000   \n",
       "75%          4.000000         4.000000  ...               0.000000   \n",
       "max          5.000000         5.000000  ...               0.877700   \n",
       "\n",
       "       Review_Negative  Review_Neutral  Review_Positive  Review_Compound  \\\n",
       "count     22302.000000    22302.000000     22302.000000     22302.000000   \n",
       "mean          0.088315        0.808128         0.103554        -0.011469   \n",
       "std           0.066593        0.083815         0.092828         0.779030   \n",
       "min           0.000000        0.351000         0.000000        -0.998700   \n",
       "25%           0.039000        0.759000         0.036000        -0.817600   \n",
       "50%           0.080000        0.819000         0.076000        -0.128000   \n",
       "75%           0.125000        0.868000         0.150000         0.865500   \n",
       "max           0.562000        1.000000         0.624000         0.999200   \n",
       "\n",
       "       Review_Month    Review_Day   Review_Year  Flight_Month   Flight_Year  \n",
       "count  22302.000000  22302.000000  22302.000000  19409.000000  19409.000000  \n",
       "mean       6.329029     15.707515   2019.204825      6.419857   2020.262713  \n",
       "std        3.323355      8.798475      3.844801      3.337575      2.513498  \n",
       "min        1.000000      1.000000   2003.000000      1.000000   2012.000000  \n",
       "25%        4.000000      8.000000   2017.000000      4.000000   2018.000000  \n",
       "50%        6.000000     16.000000   2020.000000      6.000000   2021.000000  \n",
       "75%        9.000000     23.000000   2022.000000      9.000000   2023.000000  \n",
       "max       12.000000     31.000000   2023.000000     12.000000   2023.000000  \n",
       "\n",
       "[8 rows x 24 columns]"
      ]
     },
     "execution_count": 404,
     "metadata": {},
     "output_type": "execute_result"
    }
   ],
   "source": [
    "airlines_data.describe()"
   ]
  },
  {
   "cell_type": "code",
   "execution_count": 405,
   "id": "6ba5c096",
   "metadata": {},
   "outputs": [
    {
     "data": {
      "text/plain": [
       "Airline Name             0\n",
       "Overall_Rating           0\n",
       "Verified                 0\n",
       "Type Of Traveller        0\n",
       "Seat Type                0\n",
       "Seat Comfort             0\n",
       "Cabin Staff Service      0\n",
       "Food & Beverages         0\n",
       "Ground Service           0\n",
       "Value For Money          0\n",
       "Recommended              0\n",
       "Review_Title_Negative    0\n",
       "Review_Title_Neutral     0\n",
       "Review_Title_Positive    0\n",
       "Review_Title_Compound    0\n",
       "Review_Negative          0\n",
       "Review_Neutral           0\n",
       "Review_Positive          0\n",
       "Review_Compound          0\n",
       "Review_Month             0\n",
       "Review_Day               0\n",
       "Review_Year              0\n",
       "Flight_Month             0\n",
       "Flight_Year              0\n",
       "dtype: int64"
      ]
     },
     "execution_count": 405,
     "metadata": {},
     "output_type": "execute_result"
    }
   ],
   "source": [
    "temp.isnull().sum()"
   ]
  },
  {
   "cell_type": "markdown",
   "id": "9d6c4072",
   "metadata": {},
   "source": [
    "The alogirthm seems to have done it's jpb. As we can see the newly imputed data is statistically very similar to the old dataset and has no null values.\n",
    "\n",
    "We can now successfully re-assign the original dataset to the new dataset."
   ]
  },
  {
   "cell_type": "code",
   "execution_count": 406,
   "id": "87164203",
   "metadata": {},
   "outputs": [],
   "source": [
    "airlines_data = temp.copy()"
   ]
  },
  {
   "cell_type": "code",
   "execution_count": 407,
   "id": "aef68245",
   "metadata": {},
   "outputs": [
    {
     "data": {
      "text/html": [
       "<div>\n",
       "<style scoped>\n",
       "    .dataframe tbody tr th:only-of-type {\n",
       "        vertical-align: middle;\n",
       "    }\n",
       "\n",
       "    .dataframe tbody tr th {\n",
       "        vertical-align: top;\n",
       "    }\n",
       "\n",
       "    .dataframe thead th {\n",
       "        text-align: right;\n",
       "    }\n",
       "</style>\n",
       "<table border=\"1\" class=\"dataframe\">\n",
       "  <thead>\n",
       "    <tr style=\"text-align: right;\">\n",
       "      <th></th>\n",
       "      <th>Airline Name</th>\n",
       "      <th>Overall_Rating</th>\n",
       "      <th>Verified</th>\n",
       "      <th>Type Of Traveller</th>\n",
       "      <th>Seat Type</th>\n",
       "      <th>Seat Comfort</th>\n",
       "      <th>Cabin Staff Service</th>\n",
       "      <th>Food &amp; Beverages</th>\n",
       "      <th>Ground Service</th>\n",
       "      <th>Value For Money</th>\n",
       "      <th>...</th>\n",
       "      <th>Review_Title_Compound</th>\n",
       "      <th>Review_Negative</th>\n",
       "      <th>Review_Neutral</th>\n",
       "      <th>Review_Positive</th>\n",
       "      <th>Review_Compound</th>\n",
       "      <th>Review_Month</th>\n",
       "      <th>Review_Day</th>\n",
       "      <th>Review_Year</th>\n",
       "      <th>Flight_Month</th>\n",
       "      <th>Flight_Year</th>\n",
       "    </tr>\n",
       "  </thead>\n",
       "  <tbody>\n",
       "    <tr>\n",
       "      <th>0</th>\n",
       "      <td>206.0</td>\n",
       "      <td>9.0</td>\n",
       "      <td>1.0</td>\n",
       "      <td>3.0</td>\n",
       "      <td>1.0</td>\n",
       "      <td>4.0</td>\n",
       "      <td>5.0</td>\n",
       "      <td>4.0</td>\n",
       "      <td>4.0</td>\n",
       "      <td>3.0</td>\n",
       "      <td>...</td>\n",
       "      <td>0.4939</td>\n",
       "      <td>0.000</td>\n",
       "      <td>0.782</td>\n",
       "      <td>0.218</td>\n",
       "      <td>0.9192</td>\n",
       "      <td>11.0</td>\n",
       "      <td>11.0</td>\n",
       "      <td>2019.0</td>\n",
       "      <td>11.0</td>\n",
       "      <td>2019.0</td>\n",
       "    </tr>\n",
       "    <tr>\n",
       "      <th>1</th>\n",
       "      <td>206.0</td>\n",
       "      <td>1.0</td>\n",
       "      <td>1.0</td>\n",
       "      <td>3.0</td>\n",
       "      <td>1.0</td>\n",
       "      <td>2.0</td>\n",
       "      <td>2.0</td>\n",
       "      <td>1.0</td>\n",
       "      <td>1.0</td>\n",
       "      <td>2.0</td>\n",
       "      <td>...</td>\n",
       "      <td>-0.3412</td>\n",
       "      <td>0.114</td>\n",
       "      <td>0.878</td>\n",
       "      <td>0.008</td>\n",
       "      <td>-0.9242</td>\n",
       "      <td>6.0</td>\n",
       "      <td>25.0</td>\n",
       "      <td>2019.0</td>\n",
       "      <td>6.0</td>\n",
       "      <td>2019.0</td>\n",
       "    </tr>\n",
       "    <tr>\n",
       "      <th>2</th>\n",
       "      <td>206.0</td>\n",
       "      <td>1.0</td>\n",
       "      <td>1.0</td>\n",
       "      <td>3.0</td>\n",
       "      <td>1.0</td>\n",
       "      <td>2.0</td>\n",
       "      <td>1.0</td>\n",
       "      <td>1.0</td>\n",
       "      <td>1.0</td>\n",
       "      <td>2.0</td>\n",
       "      <td>...</td>\n",
       "      <td>0.0000</td>\n",
       "      <td>0.031</td>\n",
       "      <td>0.852</td>\n",
       "      <td>0.117</td>\n",
       "      <td>0.7346</td>\n",
       "      <td>6.0</td>\n",
       "      <td>25.0</td>\n",
       "      <td>2019.0</td>\n",
       "      <td>6.0</td>\n",
       "      <td>2019.0</td>\n",
       "    </tr>\n",
       "    <tr>\n",
       "      <th>3</th>\n",
       "      <td>2.0</td>\n",
       "      <td>1.0</td>\n",
       "      <td>0.0</td>\n",
       "      <td>3.0</td>\n",
       "      <td>1.0</td>\n",
       "      <td>1.0</td>\n",
       "      <td>1.0</td>\n",
       "      <td>1.6</td>\n",
       "      <td>1.0</td>\n",
       "      <td>1.0</td>\n",
       "      <td>...</td>\n",
       "      <td>0.0000</td>\n",
       "      <td>0.191</td>\n",
       "      <td>0.772</td>\n",
       "      <td>0.037</td>\n",
       "      <td>-0.9583</td>\n",
       "      <td>9.0</td>\n",
       "      <td>28.0</td>\n",
       "      <td>2019.0</td>\n",
       "      <td>9.0</td>\n",
       "      <td>2019.0</td>\n",
       "    </tr>\n",
       "    <tr>\n",
       "      <th>4</th>\n",
       "      <td>2.0</td>\n",
       "      <td>1.0</td>\n",
       "      <td>1.0</td>\n",
       "      <td>1.0</td>\n",
       "      <td>1.0</td>\n",
       "      <td>1.0</td>\n",
       "      <td>1.0</td>\n",
       "      <td>1.0</td>\n",
       "      <td>1.0</td>\n",
       "      <td>1.0</td>\n",
       "      <td>...</td>\n",
       "      <td>-0.1280</td>\n",
       "      <td>0.077</td>\n",
       "      <td>0.848</td>\n",
       "      <td>0.075</td>\n",
       "      <td>-0.0675</td>\n",
       "      <td>9.0</td>\n",
       "      <td>24.0</td>\n",
       "      <td>2019.0</td>\n",
       "      <td>9.0</td>\n",
       "      <td>2019.0</td>\n",
       "    </tr>\n",
       "  </tbody>\n",
       "</table>\n",
       "<p>5 rows × 24 columns</p>\n",
       "</div>"
      ],
      "text/plain": [
       "   Airline Name  Overall_Rating  Verified  Type Of Traveller  Seat Type  \\\n",
       "0         206.0             9.0       1.0                3.0        1.0   \n",
       "1         206.0             1.0       1.0                3.0        1.0   \n",
       "2         206.0             1.0       1.0                3.0        1.0   \n",
       "3           2.0             1.0       0.0                3.0        1.0   \n",
       "4           2.0             1.0       1.0                1.0        1.0   \n",
       "\n",
       "   Seat Comfort  Cabin Staff Service  Food & Beverages  Ground Service  \\\n",
       "0           4.0                  5.0               4.0             4.0   \n",
       "1           2.0                  2.0               1.0             1.0   \n",
       "2           2.0                  1.0               1.0             1.0   \n",
       "3           1.0                  1.0               1.6             1.0   \n",
       "4           1.0                  1.0               1.0             1.0   \n",
       "\n",
       "   Value For Money  ...  Review_Title_Compound  Review_Negative  \\\n",
       "0              3.0  ...                 0.4939            0.000   \n",
       "1              2.0  ...                -0.3412            0.114   \n",
       "2              2.0  ...                 0.0000            0.031   \n",
       "3              1.0  ...                 0.0000            0.191   \n",
       "4              1.0  ...                -0.1280            0.077   \n",
       "\n",
       "   Review_Neutral  Review_Positive  Review_Compound  Review_Month  Review_Day  \\\n",
       "0           0.782            0.218           0.9192          11.0        11.0   \n",
       "1           0.878            0.008          -0.9242           6.0        25.0   \n",
       "2           0.852            0.117           0.7346           6.0        25.0   \n",
       "3           0.772            0.037          -0.9583           9.0        28.0   \n",
       "4           0.848            0.075          -0.0675           9.0        24.0   \n",
       "\n",
       "   Review_Year  Flight_Month  Flight_Year  \n",
       "0       2019.0          11.0       2019.0  \n",
       "1       2019.0           6.0       2019.0  \n",
       "2       2019.0           6.0       2019.0  \n",
       "3       2019.0           9.0       2019.0  \n",
       "4       2019.0           9.0       2019.0  \n",
       "\n",
       "[5 rows x 24 columns]"
      ]
     },
     "execution_count": 407,
     "metadata": {},
     "output_type": "execute_result"
    }
   ],
   "source": [
    "airlines_data.head()"
   ]
  },
  {
   "cell_type": "code",
   "execution_count": 408,
   "id": "a00684ff",
   "metadata": {},
   "outputs": [],
   "source": [
    "airlines_data.to_pickle('Post_Encoding.pkl')"
   ]
  },
  {
   "cell_type": "markdown",
   "id": "776c9d8c",
   "metadata": {},
   "source": [
    "<b>Saving the dataset in order to not lose progress."
   ]
  },
  {
   "cell_type": "markdown",
   "id": "57721bd4",
   "metadata": {},
   "source": [
    "_______________________________________________________________________________________________________________________________"
   ]
  },
  {
   "cell_type": "code",
   "execution_count": 409,
   "id": "fc673b6f",
   "metadata": {},
   "outputs": [],
   "source": [
    "airlines_data = pd.read_pickle('Post_Encoding.pkl')"
   ]
  },
  {
   "cell_type": "code",
   "execution_count": 412,
   "id": "001a74b3",
   "metadata": {},
   "outputs": [
    {
     "data": {
      "text/plain": [
       "Index(['Airline Name', 'Overall_Rating', 'Verified', 'Type Of Traveller',\n",
       "       'Seat Type', 'Seat Comfort', 'Cabin Staff Service', 'Food & Beverages',\n",
       "       'Ground Service', 'Value For Money', 'Recommended',\n",
       "       'Review_Title_Negative', 'Review_Title_Neutral',\n",
       "       'Review_Title_Positive', 'Review_Title_Compound', 'Review_Negative',\n",
       "       'Review_Neutral', 'Review_Positive', 'Review_Compound', 'Review_Month',\n",
       "       'Review_Day', 'Review_Year', 'Flight_Month', 'Flight_Year'],\n",
       "      dtype='object')"
      ]
     },
     "execution_count": 412,
     "metadata": {},
     "output_type": "execute_result"
    }
   ],
   "source": [
    "airlines_data.columns"
   ]
  },
  {
   "cell_type": "markdown",
   "id": "475d29d8",
   "metadata": {},
   "source": [
    "<h3>Feature Selection</h3>"
   ]
  },
  {
   "cell_type": "code",
   "execution_count": 414,
   "id": "08e7ff0f",
   "metadata": {},
   "outputs": [
    {
     "data": {
      "text/plain": [
       "<AxesSubplot:>"
      ]
     },
     "execution_count": 414,
     "metadata": {},
     "output_type": "execute_result"
    },
    {
     "data": {
      "image/png": "[encoded data removed]",
      "text/plain": [
       "<Figure size 1440x1440 with 2 Axes>"
      ]
     },
     "metadata": {
      "needs_background": "light"
     },
     "output_type": "display_data"
    }
   ],
   "source": [
    "plt.figure(figsize=(20,20))\n",
    "sns.heatmap(airlines_data.corr(), annot=True, vmin = -1, vmax = 1, cmap = 'Blues')"
   ]
  },
  {
   "cell_type": "markdown",
   "id": "94ff42d6",
   "metadata": {},
   "source": [
    "<strong>Inferences</strong>\n",
    "<ul>\n",
    "    <li>There are multiple columns that show high collinearity with the dependent variable. These variables must be kept.</li>\n",
    "    <li>There appears to be high multicollinearity in the dataset. We will remove highly multicollinear variables using variance inflation factor.</li>"
   ]
  },
  {
   "cell_type": "code",
   "execution_count": 425,
   "id": "e198f5c4",
   "metadata": {},
   "outputs": [
    {
     "data": {
      "text/html": [
       "<div>\n",
       "<style scoped>\n",
       "    .dataframe tbody tr th:only-of-type {\n",
       "        vertical-align: middle;\n",
       "    }\n",
       "\n",
       "    .dataframe tbody tr th {\n",
       "        vertical-align: top;\n",
       "    }\n",
       "\n",
       "    .dataframe thead th {\n",
       "        text-align: right;\n",
       "    }\n",
       "</style>\n",
       "<table border=\"1\" class=\"dataframe\">\n",
       "  <thead>\n",
       "    <tr style=\"text-align: right;\">\n",
       "      <th></th>\n",
       "      <th>Vif_Score</th>\n",
       "    </tr>\n",
       "  </thead>\n",
       "  <tbody>\n",
       "    <tr>\n",
       "      <th>Flight_Year</th>\n",
       "      <td>4.618608e+06</td>\n",
       "    </tr>\n",
       "    <tr>\n",
       "      <th>Review_Year</th>\n",
       "      <td>3.162761e+06</td>\n",
       "    </tr>\n",
       "    <tr>\n",
       "      <th>Review_Neutral</th>\n",
       "      <td>4.984721e+05</td>\n",
       "    </tr>\n",
       "    <tr>\n",
       "      <th>Review_Positive</th>\n",
       "      <td>1.463538e+04</td>\n",
       "    </tr>\n",
       "    <tr>\n",
       "      <th>Review_Title_Neutral</th>\n",
       "      <td>1.229909e+04</td>\n",
       "    </tr>\n",
       "    <tr>\n",
       "      <th>Review_Negative</th>\n",
       "      <td>9.262230e+03</td>\n",
       "    </tr>\n",
       "    <tr>\n",
       "      <th>Review_Title_Negative</th>\n",
       "      <td>2.099004e+03</td>\n",
       "    </tr>\n",
       "    <tr>\n",
       "      <th>Review_Title_Positive</th>\n",
       "      <td>1.644882e+03</td>\n",
       "    </tr>\n",
       "    <tr>\n",
       "      <th>Review_Title_Compound</th>\n",
       "      <td>1.872154e+01</td>\n",
       "    </tr>\n",
       "    <tr>\n",
       "      <th>Value For Money</th>\n",
       "      <td>1.662742e+01</td>\n",
       "    </tr>\n",
       "    <tr>\n",
       "      <th>Cabin Staff Service</th>\n",
       "      <td>1.547726e+01</td>\n",
       "    </tr>\n",
       "    <tr>\n",
       "      <th>Seat Comfort</th>\n",
       "      <td>1.422142e+01</td>\n",
       "    </tr>\n",
       "    <tr>\n",
       "      <th>Food &amp; Beverages</th>\n",
       "      <td>1.328392e+01</td>\n",
       "    </tr>\n",
       "    <tr>\n",
       "      <th>Ground Service</th>\n",
       "      <td>1.249750e+01</td>\n",
       "    </tr>\n",
       "    <tr>\n",
       "      <th>Flight_Month</th>\n",
       "      <td>1.158356e+01</td>\n",
       "    </tr>\n",
       "    <tr>\n",
       "      <th>Review_Month</th>\n",
       "      <td>1.038978e+01</td>\n",
       "    </tr>\n",
       "    <tr>\n",
       "      <th>Recommended</th>\n",
       "      <td>7.167171e+00</td>\n",
       "    </tr>\n",
       "    <tr>\n",
       "      <th>Type Of Traveller</th>\n",
       "      <td>5.409111e+00</td>\n",
       "    </tr>\n",
       "    <tr>\n",
       "      <th>Seat Type</th>\n",
       "      <td>4.630631e+00</td>\n",
       "    </tr>\n",
       "    <tr>\n",
       "      <th>Review_Compound</th>\n",
       "      <td>4.295489e+00</td>\n",
       "    </tr>\n",
       "    <tr>\n",
       "      <th>Review_Day</th>\n",
       "      <td>4.196000e+00</td>\n",
       "    </tr>\n",
       "    <tr>\n",
       "      <th>Overall_Rating</th>\n",
       "      <td>4.176222e+00</td>\n",
       "    </tr>\n",
       "    <tr>\n",
       "      <th>Airline Name</th>\n",
       "      <td>4.168799e+00</td>\n",
       "    </tr>\n",
       "    <tr>\n",
       "      <th>Verified</th>\n",
       "      <td>2.964177e+00</td>\n",
       "    </tr>\n",
       "  </tbody>\n",
       "</table>\n",
       "</div>"
      ],
      "text/plain": [
       "                          Vif_Score\n",
       "Flight_Year            4.618608e+06\n",
       "Review_Year            3.162761e+06\n",
       "Review_Neutral         4.984721e+05\n",
       "Review_Positive        1.463538e+04\n",
       "Review_Title_Neutral   1.229909e+04\n",
       "Review_Negative        9.262230e+03\n",
       "Review_Title_Negative  2.099004e+03\n",
       "Review_Title_Positive  1.644882e+03\n",
       "Review_Title_Compound  1.872154e+01\n",
       "Value For Money        1.662742e+01\n",
       "Cabin Staff Service    1.547726e+01\n",
       "Seat Comfort           1.422142e+01\n",
       "Food & Beverages       1.328392e+01\n",
       "Ground Service         1.249750e+01\n",
       "Flight_Month           1.158356e+01\n",
       "Review_Month           1.038978e+01\n",
       "Recommended            7.167171e+00\n",
       "Type Of Traveller      5.409111e+00\n",
       "Seat Type              4.630631e+00\n",
       "Review_Compound        4.295489e+00\n",
       "Review_Day             4.196000e+00\n",
       "Overall_Rating         4.176222e+00\n",
       "Airline Name           4.168799e+00\n",
       "Verified               2.964177e+00"
      ]
     },
     "execution_count": 425,
     "metadata": {},
     "output_type": "execute_result"
    }
   ],
   "source": [
    "cols = airlines_data.columns\n",
    "vif = []\n",
    "for i in range(len(cols)):\n",
    "    temp = variance_inflation_factor(airlines_data.values,i)\n",
    "    vif.append(temp)\n",
    "    \n",
    "vif_df = pd.DataFrame(vif,index=cols, columns=['Vif_Score'])\n",
    "vif_df.sort_values(by = 'Vif_Score',ascending=False)"
   ]
  },
  {
   "cell_type": "markdown",
   "id": "5405c4f6",
   "metadata": {},
   "source": [
    "As visible here, there are highly multicollinear columns. We drop alternate ones that have a logical connection with other highly multicollinear columns and check if the VIF decreases."
   ]
  },
  {
   "cell_type": "code",
   "execution_count": 426,
   "id": "40f012c4",
   "metadata": {},
   "outputs": [],
   "source": [
    "airlines_data.drop(columns=['Flight_Year','Review_Neutral','Review_Title_Neutral'], inplace=True)"
   ]
  },
  {
   "cell_type": "code",
   "execution_count": 427,
   "id": "34ca8718",
   "metadata": {},
   "outputs": [
    {
     "data": {
      "text/html": [
       "<div>\n",
       "<style scoped>\n",
       "    .dataframe tbody tr th:only-of-type {\n",
       "        vertical-align: middle;\n",
       "    }\n",
       "\n",
       "    .dataframe tbody tr th {\n",
       "        vertical-align: top;\n",
       "    }\n",
       "\n",
       "    .dataframe thead th {\n",
       "        text-align: right;\n",
       "    }\n",
       "</style>\n",
       "<table border=\"1\" class=\"dataframe\">\n",
       "  <thead>\n",
       "    <tr style=\"text-align: right;\">\n",
       "      <th></th>\n",
       "      <th>Vif_Score</th>\n",
       "    </tr>\n",
       "  </thead>\n",
       "  <tbody>\n",
       "    <tr>\n",
       "      <th>Review_Year</th>\n",
       "      <td>34.092582</td>\n",
       "    </tr>\n",
       "    <tr>\n",
       "      <th>Review_Title_Compound</th>\n",
       "      <td>18.711731</td>\n",
       "    </tr>\n",
       "    <tr>\n",
       "      <th>Value For Money</th>\n",
       "      <td>16.565646</td>\n",
       "    </tr>\n",
       "    <tr>\n",
       "      <th>Cabin Staff Service</th>\n",
       "      <td>15.463717</td>\n",
       "    </tr>\n",
       "    <tr>\n",
       "      <th>Seat Comfort</th>\n",
       "      <td>14.218453</td>\n",
       "    </tr>\n",
       "    <tr>\n",
       "      <th>Food &amp; Beverages</th>\n",
       "      <td>13.279019</td>\n",
       "    </tr>\n",
       "    <tr>\n",
       "      <th>Ground Service</th>\n",
       "      <td>12.491240</td>\n",
       "    </tr>\n",
       "    <tr>\n",
       "      <th>Review_Title_Negative</th>\n",
       "      <td>11.945341</td>\n",
       "    </tr>\n",
       "    <tr>\n",
       "      <th>Flight_Month</th>\n",
       "      <td>11.114948</td>\n",
       "    </tr>\n",
       "    <tr>\n",
       "      <th>Review_Title_Positive</th>\n",
       "      <td>10.232223</td>\n",
       "    </tr>\n",
       "    <tr>\n",
       "      <th>Review_Month</th>\n",
       "      <td>10.166626</td>\n",
       "    </tr>\n",
       "    <tr>\n",
       "      <th>Recommended</th>\n",
       "      <td>7.163359</td>\n",
       "    </tr>\n",
       "    <tr>\n",
       "      <th>Review_Positive</th>\n",
       "      <td>6.354636</td>\n",
       "    </tr>\n",
       "    <tr>\n",
       "      <th>Review_Negative</th>\n",
       "      <td>6.018695</td>\n",
       "    </tr>\n",
       "    <tr>\n",
       "      <th>Type Of Traveller</th>\n",
       "      <td>4.553179</td>\n",
       "    </tr>\n",
       "    <tr>\n",
       "      <th>Review_Compound</th>\n",
       "      <td>4.293523</td>\n",
       "    </tr>\n",
       "    <tr>\n",
       "      <th>Review_Day</th>\n",
       "      <td>4.194062</td>\n",
       "    </tr>\n",
       "    <tr>\n",
       "      <th>Airline Name</th>\n",
       "      <td>4.158885</td>\n",
       "    </tr>\n",
       "    <tr>\n",
       "      <th>Overall_Rating</th>\n",
       "      <td>4.092983</td>\n",
       "    </tr>\n",
       "    <tr>\n",
       "      <th>Seat Type</th>\n",
       "      <td>3.890359</td>\n",
       "    </tr>\n",
       "    <tr>\n",
       "      <th>Verified</th>\n",
       "      <td>2.474280</td>\n",
       "    </tr>\n",
       "  </tbody>\n",
       "</table>\n",
       "</div>"
      ],
      "text/plain": [
       "                       Vif_Score\n",
       "Review_Year            34.092582\n",
       "Review_Title_Compound  18.711731\n",
       "Value For Money        16.565646\n",
       "Cabin Staff Service    15.463717\n",
       "Seat Comfort           14.218453\n",
       "Food & Beverages       13.279019\n",
       "Ground Service         12.491240\n",
       "Review_Title_Negative  11.945341\n",
       "Flight_Month           11.114948\n",
       "Review_Title_Positive  10.232223\n",
       "Review_Month           10.166626\n",
       "Recommended             7.163359\n",
       "Review_Positive         6.354636\n",
       "Review_Negative         6.018695\n",
       "Type Of Traveller       4.553179\n",
       "Review_Compound         4.293523\n",
       "Review_Day              4.194062\n",
       "Airline Name            4.158885\n",
       "Overall_Rating          4.092983\n",
       "Seat Type               3.890359\n",
       "Verified                2.474280"
      ]
     },
     "execution_count": 427,
     "metadata": {},
     "output_type": "execute_result"
    }
   ],
   "source": [
    "cols = airlines_data.columns\n",
    "vif = []\n",
    "for i in range(len(cols)):\n",
    "    temp = variance_inflation_factor(airlines_data.values,i)\n",
    "    vif.append(temp)\n",
    "    \n",
    "vif_df = pd.DataFrame(vif,index=cols, columns=['Vif_Score'])\n",
    "vif_df.sort_values(by = 'Vif_Score',ascending=False)"
   ]
  },
  {
   "cell_type": "markdown",
   "id": "bfafb090",
   "metadata": {},
   "source": [
    "As visible, we have now reduced the amount of multicollinearity significantly. We can now proceed with balancing the dataset."
   ]
  },
  {
   "cell_type": "markdown",
   "id": "e06ce4c8",
   "metadata": {},
   "source": [
    "<h3>Balancing the Dataset.</h3>"
   ]
  },
  {
   "cell_type": "code",
   "execution_count": 431,
   "id": "e363ba70",
   "metadata": {},
   "outputs": [
    {
     "data": {
      "text/plain": [
       "<AxesSubplot:xlabel='Recommended', ylabel='count'>"
      ]
     },
     "execution_count": 431,
     "metadata": {},
     "output_type": "execute_result"
    },
    {
     "data": {
      "image/png": "[encoded data removed]",
      "text/plain": [
       "<Figure size 432x288 with 1 Axes>"
      ]
     },
     "metadata": {
      "needs_background": "light"
     },
     "output_type": "display_data"
    }
   ],
   "source": [
    "sns.countplot(airlines_data['Recommended'])"
   ]
  },
  {
   "cell_type": "markdown",
   "id": "7b5fb204",
   "metadata": {},
   "source": [
    "As visible, the data is imbalanced. We will now balance the data using SMOTE (Synthetic Minority Oversampling Technique). This uses the Eculidean Distance metric to create syntetic data in the minority class."
   ]
  },
  {
   "cell_type": "code",
   "execution_count": 433,
   "id": "5523eb5b",
   "metadata": {},
   "outputs": [],
   "source": [
    "X_temp = airlines_data.drop(columns = 'Recommended')\n",
    "y_temp  = airlines_data['Recommended']"
   ]
  },
  {
   "cell_type": "code",
   "execution_count": 434,
   "id": "ee7144dc",
   "metadata": {},
   "outputs": [],
   "source": [
    "sm = SMOTE()\n",
    "X,y = sm.fit_resample(X,y)"
   ]
  },
  {
   "cell_type": "code",
   "execution_count": 435,
   "id": "6d8083bc",
   "metadata": {},
   "outputs": [
    {
     "data": {
      "text/plain": [
       "<AxesSubplot:xlabel='Recommended', ylabel='count'>"
      ]
     },
     "execution_count": 435,
     "metadata": {},
     "output_type": "execute_result"
    },
    {
     "data": {
      "image/png": "[encoded data removed]",
      "text/plain": [
       "<Figure size 432x288 with 1 Axes>"
      ]
     },
     "metadata": {
      "needs_background": "light"
     },
     "output_type": "display_data"
    }
   ],
   "source": [
    "sns.countplot(y)"
   ]
  },
  {
   "cell_type": "code",
   "execution_count": 436,
   "id": "2fa14327",
   "metadata": {},
   "outputs": [
    {
     "data": {
      "text/plain": [
       "(29012, 20)"
      ]
     },
     "execution_count": 436,
     "metadata": {},
     "output_type": "execute_result"
    }
   ],
   "source": [
    "X.shape"
   ]
  },
  {
   "cell_type": "markdown",
   "id": "e3fb7567",
   "metadata": {},
   "source": [
    "Our data has not been balanced using Over-Sampling. This gives us more freedom to now build our model pipeline."
   ]
  },
  {
   "cell_type": "markdown",
   "id": "0ea6f769",
   "metadata": {},
   "source": [
    "______________________________________________________________________________________________________________________________"
   ]
  },
  {
   "cell_type": "markdown",
   "id": "1684a9d7",
   "metadata": {},
   "source": [
    "<h1>Model Building</h1>"
   ]
  },
  {
   "cell_type": "code",
   "execution_count": 440,
   "id": "b80bb1e2",
   "metadata": {},
   "outputs": [],
   "source": [
    "X_train, X_test, Y_train, Y_test = train_test_split(X,y, stratify=y, test_size=0.3)"
   ]
  },
  {
   "cell_type": "code",
   "execution_count": 441,
   "id": "beb83294",
   "metadata": {},
   "outputs": [
    {
     "name": "stdout",
     "output_type": "stream",
     "text": [
      "X Train Shape:  (20308, 20)\n",
      "X Test Shape:  (8704, 20)\n",
      "Y Train Shape:  (20308,)\n",
      "Y Test Shape:  (8704,)\n"
     ]
    }
   ],
   "source": [
    "print('X Train Shape: ', X_train.shape)\n",
    "print('X Test Shape: ', X_test.shape)\n",
    "print('Y Train Shape: ', Y_train.shape)\n",
    "print('Y Test Shape: ', Y_test.shape)"
   ]
  },
  {
   "cell_type": "code",
   "execution_count": 449,
   "id": "ff1bc71b",
   "metadata": {},
   "outputs": [
    {
     "data": {
      "text/plain": [
       "(20308, 10)"
      ]
     },
     "execution_count": 449,
     "metadata": {},
     "output_type": "execute_result"
    }
   ],
   "source": [
    "rf= RFE(estimator=DecisionTreeClassifier())\n",
    "pd.DataFrame(rf.fit_transform(X = X_train, y = Y_train)).shape"
   ]
  },
  {
   "cell_type": "code",
   "execution_count": 478,
   "id": "a407d6ec",
   "metadata": {},
   "outputs": [
    {
     "data": {
      "text/plain": [
       "array(['Airline Name', 'Overall_Rating', 'Seat Type',\n",
       "       'Cabin Staff Service', 'Ground Service', 'Value For Money',\n",
       "       'Review_Title_Compound', 'Review_Negative', 'Review_Positive',\n",
       "       'Review_Compound'], dtype=object)"
      ]
     },
     "execution_count": 478,
     "metadata": {},
     "output_type": "execute_result"
    }
   ],
   "source": [
    "rf.get_feature_names_out()"
   ]
  },
  {
   "cell_type": "markdown",
   "id": "107b1638",
   "metadata": {},
   "source": [
    "Using recursive feature elimination, a combination of backward and forwards feature elimination, we have finalized on the 10 most important features using the Decision Tree Classifier as the Base."
   ]
  },
  {
   "cell_type": "code",
   "execution_count": 479,
   "id": "79a729c7",
   "metadata": {},
   "outputs": [],
   "source": [
    "def plot_roc(model):\n",
    "    from sklearn.metrics import roc_auc_score\n",
    "    y_pred_prob = model.predict_proba(X_test)[:,1]\n",
    "    fpr, tpr, thresholds = roc_curve(Y_test, y_pred_prob)\n",
    "    plt.plot(fpr, tpr)\n",
    "    plt.xlim([0.0, 1.0])\n",
    "    plt.ylim([0.0, 1.0])\n",
    "    plt.plot([0, 1], [0, 1],'r--')\n",
    "    plt.title('ROC curve for Admission Prediction Classifier', fontsize = 15)\n",
    "    plt.xlabel('False positive rate (1-Specificity)', fontsize = 15)\n",
    "    plt.ylabel('True positive rate (Sensitivity)', fontsize = 15)\n",
    "    plt.text(x = 0.82, y = 0.3, s = ('AUC Score:',round(roc_auc_score(Y_test, y_pred_prob),4)))\n",
    "    plt.grid(True)\n",
    "\n",
    "def plot_confusion_matrix(model):\n",
    "    from matplotlib.colors import ListedColormap\n",
    "    y_pred = model.predict(X_test)\n",
    "    cm = confusion_matrix(Y_test, y_pred)\n",
    "    conf_matrix = pd.DataFrame(data = cm,columns = ['Predicted:0','Predicted:1'], index = ['Actual:0','Actual:1'])\n",
    "    sns.heatmap(conf_matrix, annot = True, fmt = 'd', cmap = ListedColormap(['lightskyblue']), cbar = False, \n",
    "                linewidths = 0.1, annot_kws = {'size':25})\n",
    "    plt.xticks(fontsize = 20)\n",
    "    plt.yticks(fontsize = 20)\n",
    "    plt.show()   \n",
    "    \n",
    "def model_eval(model):\n",
    "    y_train_pred = model.predict(X_train)\n",
    "    y_test_pred = model.predict(X_test)\n",
    "    print('Accuracy in predicting the Training Data:',accuracy_score(Y_train,y_train_pred))\n",
    "    print('Test Data Accuracy Score:',accuracy_score(Y_test,y_test_pred))\n",
    "    print('\\t   Training Data Classification Performance Metrics\\n',classification_report(Y_train,y_train_pred))\n",
    "    print('\\t    Test Data Classification Performance Metrics\\n',classification_report(Y_test , y_test_pred))\n",
    "    plot_confusion_matrix(model)\n",
    "    plot_roc(model)"
   ]
  },
  {
   "cell_type": "code",
   "execution_count": 480,
   "id": "13224aaf",
   "metadata": {},
   "outputs": [],
   "source": [
    "xgb = XGBClassifier(n_estimators = 3)\n",
    "pipline = make_pipeline(rf, xgb)"
   ]
  },
  {
   "cell_type": "code",
   "execution_count": 481,
   "id": "a1b26252",
   "metadata": {},
   "outputs": [
    {
     "data": {
      "text/html": [
       "<style>#sk-container-id-7 {color: black;background-color: white;}#sk-container-id-7 pre{padding: 0;}#sk-container-id-7 div.sk-toggleable {background-color: white;}#sk-container-id-7 label.sk-toggleable__label {cursor: pointer;display: block;width: 100%;margin-bottom: 0;padding: 0.3em;box-sizing: border-box;text-align: center;}#sk-container-id-7 label.sk-toggleable__label-arrow:before {content: \"▸\";float: left;margin-right: 0.25em;color: #696969;}#sk-container-id-7 label.sk-toggleable__label-arrow:hover:before {color: black;}#sk-container-id-7 div.sk-estimator:hover label.sk-toggleable__label-arrow:before {color: black;}#sk-container-id-7 div.sk-toggleable__content {max-height: 0;max-width: 0;overflow: hidden;text-align: left;background-color: #f0f8ff;}#sk-container-id-7 div.sk-toggleable__content pre {margin: 0.2em;color: black;border-radius: 0.25em;background-color: #f0f8ff;}#sk-container-id-7 input.sk-toggleable__control:checked~div.sk-toggleable__content {max-height: 200px;max-width: 100%;overflow: auto;}#sk-container-id-7 input.sk-toggleable__control:checked~label.sk-toggleable__label-arrow:before {content: \"▾\";}#sk-container-id-7 div.sk-estimator input.sk-toggleable__control:checked~label.sk-toggleable__label {background-color: #d4ebff;}#sk-container-id-7 div.sk-label input.sk-toggleable__control:checked~label.sk-toggleable__label {background-color: #d4ebff;}#sk-container-id-7 input.sk-hidden--visually {border: 0;clip: rect(1px 1px 1px 1px);clip: rect(1px, 1px, 1px, 1px);height: 1px;margin: -1px;overflow: hidden;padding: 0;position: absolute;width: 1px;}#sk-container-id-7 div.sk-estimator {font-family: monospace;background-color: #f0f8ff;border: 1px dotted black;border-radius: 0.25em;box-sizing: border-box;margin-bottom: 0.5em;}#sk-container-id-7 div.sk-estimator:hover {background-color: #d4ebff;}#sk-container-id-7 div.sk-parallel-item::after {content: \"\";width: 100%;border-bottom: 1px solid gray;flex-grow: 1;}#sk-container-id-7 div.sk-label:hover label.sk-toggleable__label {background-color: #d4ebff;}#sk-container-id-7 div.sk-serial::before {content: \"\";position: absolute;border-left: 1px solid gray;box-sizing: border-box;top: 0;bottom: 0;left: 50%;z-index: 0;}#sk-container-id-7 div.sk-serial {display: flex;flex-direction: column;align-items: center;background-color: white;padding-right: 0.2em;padding-left: 0.2em;position: relative;}#sk-container-id-7 div.sk-item {position: relative;z-index: 1;}#sk-container-id-7 div.sk-parallel {display: flex;align-items: stretch;justify-content: center;background-color: white;position: relative;}#sk-container-id-7 div.sk-item::before, #sk-container-id-7 div.sk-parallel-item::before {content: \"\";position: absolute;border-left: 1px solid gray;box-sizing: border-box;top: 0;bottom: 0;left: 50%;z-index: -1;}#sk-container-id-7 div.sk-parallel-item {display: flex;flex-direction: column;z-index: 1;position: relative;background-color: white;}#sk-container-id-7 div.sk-parallel-item:first-child::after {align-self: flex-end;width: 50%;}#sk-container-id-7 div.sk-parallel-item:last-child::after {align-self: flex-start;width: 50%;}#sk-container-id-7 div.sk-parallel-item:only-child::after {width: 0;}#sk-container-id-7 div.sk-dashed-wrapped {border: 1px dashed gray;margin: 0 0.4em 0.5em 0.4em;box-sizing: border-box;padding-bottom: 0.4em;background-color: white;}#sk-container-id-7 div.sk-label label {font-family: monospace;font-weight: bold;display: inline-block;line-height: 1.2em;}#sk-container-id-7 div.sk-label-container {text-align: center;}#sk-container-id-7 div.sk-container {/* jupyter's `normalize.less` sets `[hidden] { display: none; }` but bootstrap.min.css set `[hidden] { display: none !important; }` so we also need the `!important` here to be able to override the default hidden behavior on the sphinx rendered scikit-learn.org. See: https://github.com/scikit-learn/scikit-learn/issues/21755 */display: inline-block !important;position: relative;}#sk-container-id-7 div.sk-text-repr-fallback {display: none;}</style><div id=\"sk-container-id-7\" class=\"sk-top-container\"><div class=\"sk-text-repr-fallback\"><pre>Pipeline(steps=[(&#x27;rfe&#x27;, RFE(estimator=DecisionTreeClassifier())),\n",
       "                (&#x27;xgbclassifier&#x27;,\n",
       "                 XGBClassifier(base_score=0.5, booster=&#x27;gbtree&#x27;, callbacks=None,\n",
       "                               colsample_bylevel=1, colsample_bynode=1,\n",
       "                               colsample_bytree=1, early_stopping_rounds=None,\n",
       "                               enable_categorical=False, eval_metric=None,\n",
       "                               gamma=0, gpu_id=-1, grow_policy=&#x27;depthwise&#x27;,\n",
       "                               importance_type=None, interaction_constraints=&#x27;&#x27;,\n",
       "                               learning_rate=0.300000012, max_bin=256,\n",
       "                               max_cat_to_onehot=4, max_delta_step=0,\n",
       "                               max_depth=6, max_leaves=0, min_child_weight=1,\n",
       "                               missing=nan, monotone_constraints=&#x27;()&#x27;,\n",
       "                               n_estimators=3, n_jobs=0, num_parallel_tree=1,\n",
       "                               predictor=&#x27;auto&#x27;, random_state=0, reg_alpha=0,\n",
       "                               reg_lambda=1, ...))])</pre><b>In a Jupyter environment, please rerun this cell to show the HTML representation or trust the notebook. <br />On GitHub, the HTML representation is unable to render, please try loading this page with nbviewer.org.</b></div><div class=\"sk-container\" hidden><div class=\"sk-item sk-dashed-wrapped\"><div class=\"sk-label-container\"><div class=\"sk-label sk-toggleable\"><input class=\"sk-toggleable__control sk-hidden--visually\" id=\"sk-estimator-id-31\" type=\"checkbox\" ><label for=\"sk-estimator-id-31\" class=\"sk-toggleable__label sk-toggleable__label-arrow\">Pipeline</label><div class=\"sk-toggleable__content\"><pre>Pipeline(steps=[(&#x27;rfe&#x27;, RFE(estimator=DecisionTreeClassifier())),\n",
       "                (&#x27;xgbclassifier&#x27;,\n",
       "                 XGBClassifier(base_score=0.5, booster=&#x27;gbtree&#x27;, callbacks=None,\n",
       "                               colsample_bylevel=1, colsample_bynode=1,\n",
       "                               colsample_bytree=1, early_stopping_rounds=None,\n",
       "                               enable_categorical=False, eval_metric=None,\n",
       "                               gamma=0, gpu_id=-1, grow_policy=&#x27;depthwise&#x27;,\n",
       "                               importance_type=None, interaction_constraints=&#x27;&#x27;,\n",
       "                               learning_rate=0.300000012, max_bin=256,\n",
       "                               max_cat_to_onehot=4, max_delta_step=0,\n",
       "                               max_depth=6, max_leaves=0, min_child_weight=1,\n",
       "                               missing=nan, monotone_constraints=&#x27;()&#x27;,\n",
       "                               n_estimators=3, n_jobs=0, num_parallel_tree=1,\n",
       "                               predictor=&#x27;auto&#x27;, random_state=0, reg_alpha=0,\n",
       "                               reg_lambda=1, ...))])</pre></div></div></div><div class=\"sk-serial\"><div class=\"sk-item sk-dashed-wrapped\"><div class=\"sk-label-container\"><div class=\"sk-label sk-toggleable\"><input class=\"sk-toggleable__control sk-hidden--visually\" id=\"sk-estimator-id-32\" type=\"checkbox\" ><label for=\"sk-estimator-id-32\" class=\"sk-toggleable__label sk-toggleable__label-arrow\">rfe: RFE</label><div class=\"sk-toggleable__content\"><pre>RFE(estimator=DecisionTreeClassifier())</pre></div></div></div><div class=\"sk-parallel\"><div class=\"sk-parallel-item\"><div class=\"sk-item\"><div class=\"sk-label-container\"><div class=\"sk-label sk-toggleable\"><input class=\"sk-toggleable__control sk-hidden--visually\" id=\"sk-estimator-id-33\" type=\"checkbox\" ><label for=\"sk-estimator-id-33\" class=\"sk-toggleable__label sk-toggleable__label-arrow\">estimator: DecisionTreeClassifier</label><div class=\"sk-toggleable__content\"><pre>DecisionTreeClassifier()</pre></div></div></div><div class=\"sk-serial\"><div class=\"sk-item\"><div class=\"sk-estimator sk-toggleable\"><input class=\"sk-toggleable__control sk-hidden--visually\" id=\"sk-estimator-id-34\" type=\"checkbox\" ><label for=\"sk-estimator-id-34\" class=\"sk-toggleable__label sk-toggleable__label-arrow\">DecisionTreeClassifier</label><div class=\"sk-toggleable__content\"><pre>DecisionTreeClassifier()</pre></div></div></div></div></div></div></div></div><div class=\"sk-item\"><div class=\"sk-estimator sk-toggleable\"><input class=\"sk-toggleable__control sk-hidden--visually\" id=\"sk-estimator-id-35\" type=\"checkbox\" ><label for=\"sk-estimator-id-35\" class=\"sk-toggleable__label sk-toggleable__label-arrow\">XGBClassifier</label><div class=\"sk-toggleable__content\"><pre>XGBClassifier(base_score=0.5, booster=&#x27;gbtree&#x27;, callbacks=None,\n",
       "              colsample_bylevel=1, colsample_bynode=1, colsample_bytree=1,\n",
       "              early_stopping_rounds=None, enable_categorical=False,\n",
       "              eval_metric=None, gamma=0, gpu_id=-1, grow_policy=&#x27;depthwise&#x27;,\n",
       "              importance_type=None, interaction_constraints=&#x27;&#x27;,\n",
       "              learning_rate=0.300000012, max_bin=256, max_cat_to_onehot=4,\n",
       "              max_delta_step=0, max_depth=6, max_leaves=0, min_child_weight=1,\n",
       "              missing=nan, monotone_constraints=&#x27;()&#x27;, n_estimators=3, n_jobs=0,\n",
       "              num_parallel_tree=1, predictor=&#x27;auto&#x27;, random_state=0,\n",
       "              reg_alpha=0, reg_lambda=1, ...)</pre></div></div></div></div></div></div></div>"
      ],
      "text/plain": [
       "Pipeline(steps=[('rfe', RFE(estimator=DecisionTreeClassifier())),\n",
       "                ('xgbclassifier',\n",
       "                 XGBClassifier(base_score=0.5, booster='gbtree', callbacks=None,\n",
       "                               colsample_bylevel=1, colsample_bynode=1,\n",
       "                               colsample_bytree=1, early_stopping_rounds=None,\n",
       "                               enable_categorical=False, eval_metric=None,\n",
       "                               gamma=0, gpu_id=-1, grow_policy='depthwise',\n",
       "                               importance_type=None, interaction_constraints='',\n",
       "                               learning_rate=0.300000012, max_bin=256,\n",
       "                               max_cat_to_onehot=4, max_delta_step=0,\n",
       "                               max_depth=6, max_leaves=0, min_child_weight=1,\n",
       "                               missing=nan, monotone_constraints='()',\n",
       "                               n_estimators=3, n_jobs=0, num_parallel_tree=1,\n",
       "                               predictor='auto', random_state=0, reg_alpha=0,\n",
       "                               reg_lambda=1, ...))])"
      ]
     },
     "execution_count": 481,
     "metadata": {},
     "output_type": "execute_result"
    }
   ],
   "source": [
    "pipline.fit(X,y)"
   ]
  },
  {
   "cell_type": "code",
   "execution_count": 482,
   "id": "228a24da",
   "metadata": {},
   "outputs": [
    {
     "name": "stdout",
     "output_type": "stream",
     "text": [
      "Accuracy in predicting the Training Data: 0.9736064605081741\n",
      "Test Data Accuracy Score: 0.9721966911764706\n",
      "\t   Training Data Classification Performance Metrics\n",
      "               precision    recall  f1-score   support\n",
      "\n",
      "         0.0       0.97      0.98      0.97     10154\n",
      "         1.0       0.98      0.97      0.97     10154\n",
      "\n",
      "    accuracy                           0.97     20308\n",
      "   macro avg       0.97      0.97      0.97     20308\n",
      "weighted avg       0.97      0.97      0.97     20308\n",
      "\n",
      "\t    Test Data Classification Performance Metrics\n",
      "               precision    recall  f1-score   support\n",
      "\n",
      "         0.0       0.97      0.98      0.97      4352\n",
      "         1.0       0.98      0.97      0.97      4352\n",
      "\n",
      "    accuracy                           0.97      8704\n",
      "   macro avg       0.97      0.97      0.97      8704\n",
      "weighted avg       0.97      0.97      0.97      8704\n",
      "\n"
     ]
    },
    {
     "data": {
      "image/png": "[encoded data removed]",
      "text/plain": [
       "<Figure size 432x288 with 1 Axes>"
      ]
     },
     "metadata": {
      "needs_background": "light"
     },
     "output_type": "display_data"
    },
    {
     "data": {
      "image/png": "[encoded data removed]",
      "text/plain": [
       "<Figure size 432x288 with 1 Axes>"
      ]
     },
     "metadata": {
      "needs_background": "light"
     },
     "output_type": "display_data"
    }
   ],
   "source": [
    "model_eval(pipline)"
   ]
  },
  {
   "cell_type": "code",
   "execution_count": 483,
   "id": "487ed708",
   "metadata": {},
   "outputs": [
    {
     "data": {
      "text/plain": [
       "0.9721966911764705"
      ]
     },
     "execution_count": 483,
     "metadata": {},
     "output_type": "execute_result"
    }
   ],
   "source": [
    "roc_auc_score(Y_test, pipline.predict(X_test))"
   ]
  },
  {
   "cell_type": "markdown",
   "id": "eceda948",
   "metadata": {},
   "source": [
    "<h1>Conclusion</h1>\n",
    "\n",
    "\n",
    "Our models seems to be performing extremely well. We have an overall Test Ruc_Auc_score of 97%. This means we have a good balance between TPR and FPR, which is great if this model goes into production as both False Positives and False Negatives are extremely important for this model.\n",
    "\n",
    "It also appears that extensive data cleaning has indeed helped in making sure that the data is atomic and thus helped in building our model quickly and efficiently.\n",
    "\n",
    "Due to our main metric (Roc_Auc_Score) being satisfied, we can now positively take this model to production."
   ]
  }
 ],
 "metadata": {
  "kernelspec": {
   "display_name": "Python 3 (ipykernel)",
   "language": "python",
   "name": "python3"
  },
  "language_info": {
   "codemirror_mode": {
    "name": "ipython",
    "version": 3
   },
   "file_extension": ".py",
   "mimetype": "text/x-python",
   "name": "python",
   "nbconvert_exporter": "python",
   "pygments_lexer": "ipython3",
   "version": "3.9.12"
  }
 },
 "nbformat": 4,
 "nbformat_minor": 5
}
